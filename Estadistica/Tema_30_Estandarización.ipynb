{
 "cells": [
  {
   "cell_type": "markdown",
   "id": "f256ec68",
   "metadata": {},
   "source": [
    "*Creado por:*\n",
    "\n",
    "*Isabel Maniega*"
   ]
  },
  {
   "cell_type": "markdown",
   "id": "9bb8be00",
   "metadata": {},
   "source": [
    "# Ejemplos de Estandarización"
   ]
  },
  {
   "cell_type": "markdown",
   "id": "daa210d0",
   "metadata": {},
   "source": [
    "## Ejemplo 1"
   ]
  },
  {
   "cell_type": "markdown",
   "id": "6cddb201",
   "metadata": {},
   "source": [
    "La altura promedio de un jugador de baloncesto profesional fue de 2.00 metros con una desviación estándar de 0.02 metros. Harrison Barnes es un jugador de baloncesto que mide 2.03. ¿ Cuántas desviaciones estándar de la media es la altura de Barnes?"
   ]
  },
  {
   "cell_type": "markdown",
   "id": "ecbe7777",
   "metadata": {},
   "source": [
    "*Primero debemos dibujar la curva normal que representa la distribución de las alturas de los jugadores de baloncesto.*"
   ]
  },
  {
   "cell_type": "markdown",
   "id": "6caedb50",
   "metadata": {},
   "source": [
    "<img src=\"ejer_1.png\">"
   ]
  },
  {
   "cell_type": "markdown",
   "id": "91411fa7",
   "metadata": {},
   "source": [
    "*Observa que colocamos la altura media 2.00 justo en el medio de la distribución y hacemos marcas que están a 1 desviación estandar o 0.02 metros de distancia en ambas direcciones*"
   ]
  },
  {
   "cell_type": "markdown",
   "id": "7975534f",
   "metadata": {},
   "source": [
    "*A continuación, debemos calcular la puntuación estándar (es decir, la puntuación Z) para la altura de Barnes. Ya que µ= 2.00, s= 0.02 y x = 2.03 podemos encontrar el puntaje Z.*"
   ]
  },
  {
   "cell_type": "code",
   "execution_count": 1,
   "id": "89eb9f0f",
   "metadata": {},
   "outputs": [
    {
     "data": {
      "text/plain": [
       "1.5"
      ]
     },
     "execution_count": 1,
     "metadata": {},
     "output_type": "execute_result"
    }
   ],
   "source": [
    "# Z score = x - µ / s\n",
    "Zscore = round((2.03-2)/0.02, 2)\n",
    "Zscore"
   ]
  },
  {
   "cell_type": "code",
   "execution_count": 2,
   "id": "4827c978",
   "metadata": {},
   "outputs": [],
   "source": [
    "# Otra forma\n",
    "\n",
    "µ = 2.0\n",
    "x = 2.03\n",
    "s = 0.02"
   ]
  },
  {
   "cell_type": "code",
   "execution_count": 3,
   "id": "3f63db56",
   "metadata": {},
   "outputs": [
    {
     "data": {
      "text/plain": [
       "1.5"
      ]
     },
     "execution_count": 3,
     "metadata": {},
     "output_type": "execute_result"
    }
   ],
   "source": [
    "Zscore = round((x - µ)/s, 2)\n",
    "Zscore"
   ]
  },
  {
   "cell_type": "markdown",
   "id": "9010d5cb",
   "metadata": {},
   "source": [
    "Encontrarmos 1.5 como la puntuación Z, nos dice que la altura de Barnes está 1.5 desviaciones estándar de la media, es decir, 1.5 * s + µ = Altura de Barnes"
   ]
  },
  {
   "cell_type": "code",
   "execution_count": 4,
   "id": "518c5732",
   "metadata": {},
   "outputs": [
    {
     "data": {
      "text/plain": [
       "2.03"
      ]
     },
     "execution_count": 4,
     "metadata": {},
     "output_type": "execute_result"
    }
   ],
   "source": [
    "Altura_Barnes = (Zscore * s) + µ\n",
    "Altura_Barnes"
   ]
  },
  {
   "cell_type": "markdown",
   "id": "bb64b8e8",
   "metadata": {},
   "source": [
    "## Ejemplo 2"
   ]
  },
  {
   "cell_type": "markdown",
   "id": "df0757eb",
   "metadata": {},
   "source": [
    "La altura de promedio de un jugador de hockey profesional es de 1.86 metros con una desviación estándar de 0.06 metros. Tuler Myers, un profesional de hockey, tiene la misma altura que Harrison Barnes. ¿Cuál de los dos es más alto en su respectiva liga?"
   ]
  },
  {
   "cell_type": "markdown",
   "id": "d249e82c",
   "metadata": {},
   "source": [
    "*Para encontrar la puntuación estándar de Tyler Myers podemos usar la información: µ= 1.86, s=0.06, x= 2.03. Esto da como resultado la puntuación estándar:*"
   ]
  },
  {
   "cell_type": "code",
   "execution_count": 5,
   "id": "9c875aae",
   "metadata": {},
   "outputs": [],
   "source": [
    "µ = 1.86\n",
    "s = 0.06\n",
    "x = 2.03"
   ]
  },
  {
   "cell_type": "code",
   "execution_count": 6,
   "id": "78044dbe",
   "metadata": {},
   "outputs": [
    {
     "data": {
      "text/plain": [
       "2.83"
      ]
     },
     "execution_count": 6,
     "metadata": {},
     "output_type": "execute_result"
    }
   ],
   "source": [
    "Zscore = round((x - µ)/ s, 2)\n",
    "Zscore"
   ]
  },
  {
   "cell_type": "markdown",
   "id": "6a5ce4a4",
   "metadata": {},
   "source": [
    "*Comparando las dos puntuaciones Z, vemos que la puntuación de Tyler Myers es de 2.83 es mayor que la puntuación de Barnes 1.5. Esto nos dice que hay más jugadores de hockey más bajos que Myers que jugadores de baloncesto más bajos que Barnes.*"
   ]
  },
  {
   "cell_type": "markdown",
   "id": "54c38541",
   "metadata": {},
   "source": [
    "## Ejercicios"
   ]
  },
  {
   "cell_type": "markdown",
   "id": "63248360",
   "metadata": {},
   "source": [
    "### Ejercicio 1:"
   ]
  },
  {
   "cell_type": "markdown",
   "id": "fd9c55f5",
   "metadata": {},
   "source": [
    "Calcula la Z score para los siguientes casos:\n",
    "\n",
    "* µ = 54, s = 12, x = 68\n",
    "* µ = 25, s = 3.5, x = 20\n",
    "* µ = 0.01, s = 0.002, x = 0.01"
   ]
  },
  {
   "cell_type": "code",
   "execution_count": 7,
   "id": "a506081a",
   "metadata": {},
   "outputs": [],
   "source": [
    "def calculo_z(u, s,x):\n",
    "    return round((x - u)/s, 2) \n",
    "    "
   ]
  },
  {
   "cell_type": "code",
   "execution_count": 8,
   "id": "dfbe0ca3",
   "metadata": {},
   "outputs": [
    {
     "data": {
      "text/plain": [
       "1.17"
      ]
     },
     "execution_count": 8,
     "metadata": {},
     "output_type": "execute_result"
    }
   ],
   "source": [
    "u = 54\n",
    "s = 12\n",
    "x = 68\n",
    "\n",
    "Zscore = round((x - u)/ s, 2)\n",
    "Zscore"
   ]
  },
  {
   "cell_type": "code",
   "execution_count": 9,
   "id": "41b5a475",
   "metadata": {},
   "outputs": [
    {
     "data": {
      "text/plain": [
       "1.17"
      ]
     },
     "execution_count": 9,
     "metadata": {},
     "output_type": "execute_result"
    }
   ],
   "source": [
    "calculo_z(u,s,x)"
   ]
  },
  {
   "cell_type": "code",
   "execution_count": 10,
   "id": "aac4f642",
   "metadata": {},
   "outputs": [
    {
     "data": {
      "text/plain": [
       "-1.43"
      ]
     },
     "execution_count": 10,
     "metadata": {},
     "output_type": "execute_result"
    }
   ],
   "source": [
    "µ = 25\n",
    "s = 3.5 \n",
    "x = 20\n",
    "Zscore2 = round((x - µ)/ s, 2)\n",
    "Zscore2"
   ]
  },
  {
   "cell_type": "code",
   "execution_count": 17,
   "id": "5c8828d1",
   "metadata": {},
   "outputs": [
    {
     "data": {
      "text/plain": [
       "-1.43"
      ]
     },
     "execution_count": 17,
     "metadata": {},
     "output_type": "execute_result"
    }
   ],
   "source": [
    "calculo_z(25,3.5,20)"
   ]
  },
  {
   "cell_type": "code",
   "execution_count": 19,
   "id": "f33eb3ae",
   "metadata": {},
   "outputs": [
    {
     "data": {
      "text/plain": [
       "0.0"
      ]
     },
     "execution_count": 19,
     "metadata": {},
     "output_type": "execute_result"
    }
   ],
   "source": [
    "µ = 0.01\n",
    "s = 0.002 \n",
    "x = 0.01\n",
    "Zscore3 = round((x - µ)/ s, 5)\n",
    "Zscore3"
   ]
  },
  {
   "cell_type": "code",
   "execution_count": 20,
   "id": "7eef07f9",
   "metadata": {},
   "outputs": [
    {
     "data": {
      "text/plain": [
       "0.0"
      ]
     },
     "execution_count": 20,
     "metadata": {},
     "output_type": "execute_result"
    }
   ],
   "source": [
    "calculo_z(µ,s,x)"
   ]
  },
  {
   "cell_type": "markdown",
   "id": "7257be72",
   "metadata": {},
   "source": [
    "### Ejercicio 2:"
   ]
  },
  {
   "cell_type": "markdown",
   "id": "dcc4d473",
   "metadata": {},
   "source": [
    "El GPA promedio de los estudiantes en una escuela de secundaria local es 3.2 con una desviación estándar de 0.3. Jenny tiene GPA de 2.8 ¿A cuántas desviaciones estándar de la media está el GPA de Jenny?"
   ]
  },
  {
   "cell_type": "code",
   "execution_count": 12,
   "id": "62e12959",
   "metadata": {},
   "outputs": [
    {
     "data": {
      "text/plain": [
       "-1.33"
      ]
     },
     "execution_count": 12,
     "metadata": {},
     "output_type": "execute_result"
    }
   ],
   "source": [
    "µ = 3.2\n",
    "x = 2.8\n",
    "s =0.3\n",
    "ZscoreJenny = round((x - µ)/ s, 2)\n",
    "ZscoreJenny"
   ]
  },
  {
   "cell_type": "markdown",
   "id": "39436888",
   "metadata": {},
   "source": [
    "### Ejercicio 3:"
   ]
  },
  {
   "cell_type": "markdown",
   "id": "321fd8e1",
   "metadata": {},
   "source": [
    "Jenny está tratando de demostrarles a sus padres que le va mejor en la escuela que a su prima. Su prima asiste a una escuela de secundaria diferente donde el GPA promedio es 3.4 con una desviación estándar de 0.2. El prima de Jenny tiene un GPA de 3.0.¿se está desempeñando Jenny mejor que su prima según los puntajes estándar?"
   ]
  },
  {
   "cell_type": "code",
   "execution_count": 13,
   "id": "0db5c32a",
   "metadata": {},
   "outputs": [
    {
     "data": {
      "text/plain": [
       "-2.0"
      ]
     },
     "execution_count": 13,
     "metadata": {},
     "output_type": "execute_result"
    }
   ],
   "source": [
    "µ = 3.4\n",
    "x = 3\n",
    "s =0.2\n",
    "ZscorePrima = round((x - µ)/ s, 2)\n",
    "ZscorePrima"
   ]
  },
  {
   "cell_type": "markdown",
   "id": "4592e983",
   "metadata": {},
   "source": [
    "### Ejercicio 4:"
   ]
  },
  {
   "cell_type": "markdown",
   "id": "e328dae1",
   "metadata": {},
   "source": [
    "La puntuación de Kyle en una prueba de matemáticas reciente fue de 2.3 desviaciones estándar de la puntuación media del 78%. Si la desviación estándar de los puntajes de la prueba fue del 8%. ¿Qué puntaje obtuvo kyle en su prueba?"
   ]
  },
  {
   "cell_type": "code",
   "execution_count": null,
   "id": "f0852595",
   "metadata": {},
   "outputs": [],
   "source": [
    "media= 0.78 --- 78\n",
    "desviacio=2.3\n",
    "deviacion=0.08 --8\n"
   ]
  },
  {
   "cell_type": "code",
   "execution_count": 22,
   "id": "19450f1b",
   "metadata": {},
   "outputs": [
    {
     "data": {
      "text/plain": [
       "96.4"
      ]
     },
     "execution_count": 22,
     "metadata": {},
     "output_type": "execute_result"
    }
   ],
   "source": [
    "78+(2.3*8)"
   ]
  },
  {
   "cell_type": "code",
   "execution_count": null,
   "id": "27726f98",
   "metadata": {},
   "outputs": [],
   "source": []
  },
  {
   "cell_type": "code",
   "execution_count": 23,
   "id": "ce2efc8e",
   "metadata": {},
   "outputs": [
    {
     "data": {
      "text/plain": [
       "59.6"
      ]
     },
     "execution_count": 23,
     "metadata": {},
     "output_type": "execute_result"
    }
   ],
   "source": [
    "78-(2.3*8)"
   ]
  },
  {
   "cell_type": "markdown",
   "id": "024b84a7",
   "metadata": {},
   "source": [
    "*Creado por:*\n",
    "\n",
    "*Isabel Maniega*"
   ]
  },
  {
   "cell_type": "code",
   "execution_count": null,
   "id": "6d6ccc1d",
   "metadata": {},
   "outputs": [],
   "source": []
  }
 ],
 "metadata": {
  "kernelspec": {
   "display_name": "Python 3 (ipykernel)",
   "language": "python",
   "name": "python3"
  },
  "language_info": {
   "codemirror_mode": {
    "name": "ipython",
    "version": 3
   },
   "file_extension": ".py",
   "mimetype": "text/x-python",
   "name": "python",
   "nbconvert_exporter": "python",
   "pygments_lexer": "ipython3",
   "version": "3.8.10"
  }
 },
 "nbformat": 4,
 "nbformat_minor": 5
}
