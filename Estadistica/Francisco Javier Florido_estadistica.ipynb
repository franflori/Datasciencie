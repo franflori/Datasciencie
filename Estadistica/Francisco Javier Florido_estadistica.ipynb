{
 "cells": [
  {
   "cell_type": "markdown",
   "id": "89ac1094",
   "metadata": {},
   "source": [
    "*Creado por:*\n",
    "    \n",
    "*Isabel Maniega*"
   ]
  },
  {
   "cell_type": "code",
   "execution_count": 1,
   "id": "90199244",
   "metadata": {},
   "outputs": [],
   "source": [
    "import seaborn as sns\n",
    "import matplotlib.pyplot as plt"
   ]
  },
  {
   "cell_type": "markdown",
   "id": "f0e5c4a9",
   "metadata": {},
   "source": [
    "* El ejercicio puntua un Máximo de 10 puntos.\n",
    "* Lea el ejercicio detenidamente y realice cada uno de los apartados.\n",
    "* En caso de duda puede consultar internet para su realización.\n",
    "\n",
    "    # Suerte!! 😊"
   ]
  },
  {
   "cell_type": "markdown",
   "id": "4ba79551",
   "metadata": {},
   "source": [
    "# Ejercicio 1 (5 Ptos)"
   ]
  },
  {
   "cell_type": "markdown",
   "id": "18d456ba",
   "metadata": {},
   "source": [
    "Dada estos valores:"
   ]
  },
  {
   "cell_type": "code",
   "execution_count": 2,
   "id": "8df2f8a6",
   "metadata": {},
   "outputs": [],
   "source": [
    "df = sns.load_dataset('diamonds')"
   ]
  },
  {
   "cell_type": "code",
   "execution_count": 3,
   "id": "b2788bdc",
   "metadata": {},
   "outputs": [
    {
     "data": {
      "text/html": [
       "<div>\n",
       "<style scoped>\n",
       "    .dataframe tbody tr th:only-of-type {\n",
       "        vertical-align: middle;\n",
       "    }\n",
       "\n",
       "    .dataframe tbody tr th {\n",
       "        vertical-align: top;\n",
       "    }\n",
       "\n",
       "    .dataframe thead th {\n",
       "        text-align: right;\n",
       "    }\n",
       "</style>\n",
       "<table border=\"1\" class=\"dataframe\">\n",
       "  <thead>\n",
       "    <tr style=\"text-align: right;\">\n",
       "      <th></th>\n",
       "      <th>carat</th>\n",
       "      <th>cut</th>\n",
       "      <th>color</th>\n",
       "      <th>clarity</th>\n",
       "      <th>depth</th>\n",
       "      <th>table</th>\n",
       "      <th>price</th>\n",
       "      <th>x</th>\n",
       "      <th>y</th>\n",
       "      <th>z</th>\n",
       "    </tr>\n",
       "  </thead>\n",
       "  <tbody>\n",
       "    <tr>\n",
       "      <th>0</th>\n",
       "      <td>0.23</td>\n",
       "      <td>Ideal</td>\n",
       "      <td>E</td>\n",
       "      <td>SI2</td>\n",
       "      <td>61.5</td>\n",
       "      <td>55.0</td>\n",
       "      <td>326</td>\n",
       "      <td>3.95</td>\n",
       "      <td>3.98</td>\n",
       "      <td>2.43</td>\n",
       "    </tr>\n",
       "    <tr>\n",
       "      <th>1</th>\n",
       "      <td>0.21</td>\n",
       "      <td>Premium</td>\n",
       "      <td>E</td>\n",
       "      <td>SI1</td>\n",
       "      <td>59.8</td>\n",
       "      <td>61.0</td>\n",
       "      <td>326</td>\n",
       "      <td>3.89</td>\n",
       "      <td>3.84</td>\n",
       "      <td>2.31</td>\n",
       "    </tr>\n",
       "    <tr>\n",
       "      <th>2</th>\n",
       "      <td>0.23</td>\n",
       "      <td>Good</td>\n",
       "      <td>E</td>\n",
       "      <td>VS1</td>\n",
       "      <td>56.9</td>\n",
       "      <td>65.0</td>\n",
       "      <td>327</td>\n",
       "      <td>4.05</td>\n",
       "      <td>4.07</td>\n",
       "      <td>2.31</td>\n",
       "    </tr>\n",
       "    <tr>\n",
       "      <th>3</th>\n",
       "      <td>0.29</td>\n",
       "      <td>Premium</td>\n",
       "      <td>I</td>\n",
       "      <td>VS2</td>\n",
       "      <td>62.4</td>\n",
       "      <td>58.0</td>\n",
       "      <td>334</td>\n",
       "      <td>4.20</td>\n",
       "      <td>4.23</td>\n",
       "      <td>2.63</td>\n",
       "    </tr>\n",
       "    <tr>\n",
       "      <th>4</th>\n",
       "      <td>0.31</td>\n",
       "      <td>Good</td>\n",
       "      <td>J</td>\n",
       "      <td>SI2</td>\n",
       "      <td>63.3</td>\n",
       "      <td>58.0</td>\n",
       "      <td>335</td>\n",
       "      <td>4.34</td>\n",
       "      <td>4.35</td>\n",
       "      <td>2.75</td>\n",
       "    </tr>\n",
       "    <tr>\n",
       "      <th>...</th>\n",
       "      <td>...</td>\n",
       "      <td>...</td>\n",
       "      <td>...</td>\n",
       "      <td>...</td>\n",
       "      <td>...</td>\n",
       "      <td>...</td>\n",
       "      <td>...</td>\n",
       "      <td>...</td>\n",
       "      <td>...</td>\n",
       "      <td>...</td>\n",
       "    </tr>\n",
       "    <tr>\n",
       "      <th>53935</th>\n",
       "      <td>0.72</td>\n",
       "      <td>Ideal</td>\n",
       "      <td>D</td>\n",
       "      <td>SI1</td>\n",
       "      <td>60.8</td>\n",
       "      <td>57.0</td>\n",
       "      <td>2757</td>\n",
       "      <td>5.75</td>\n",
       "      <td>5.76</td>\n",
       "      <td>3.50</td>\n",
       "    </tr>\n",
       "    <tr>\n",
       "      <th>53936</th>\n",
       "      <td>0.72</td>\n",
       "      <td>Good</td>\n",
       "      <td>D</td>\n",
       "      <td>SI1</td>\n",
       "      <td>63.1</td>\n",
       "      <td>55.0</td>\n",
       "      <td>2757</td>\n",
       "      <td>5.69</td>\n",
       "      <td>5.75</td>\n",
       "      <td>3.61</td>\n",
       "    </tr>\n",
       "    <tr>\n",
       "      <th>53937</th>\n",
       "      <td>0.70</td>\n",
       "      <td>Very Good</td>\n",
       "      <td>D</td>\n",
       "      <td>SI1</td>\n",
       "      <td>62.8</td>\n",
       "      <td>60.0</td>\n",
       "      <td>2757</td>\n",
       "      <td>5.66</td>\n",
       "      <td>5.68</td>\n",
       "      <td>3.56</td>\n",
       "    </tr>\n",
       "    <tr>\n",
       "      <th>53938</th>\n",
       "      <td>0.86</td>\n",
       "      <td>Premium</td>\n",
       "      <td>H</td>\n",
       "      <td>SI2</td>\n",
       "      <td>61.0</td>\n",
       "      <td>58.0</td>\n",
       "      <td>2757</td>\n",
       "      <td>6.15</td>\n",
       "      <td>6.12</td>\n",
       "      <td>3.74</td>\n",
       "    </tr>\n",
       "    <tr>\n",
       "      <th>53939</th>\n",
       "      <td>0.75</td>\n",
       "      <td>Ideal</td>\n",
       "      <td>D</td>\n",
       "      <td>SI2</td>\n",
       "      <td>62.2</td>\n",
       "      <td>55.0</td>\n",
       "      <td>2757</td>\n",
       "      <td>5.83</td>\n",
       "      <td>5.87</td>\n",
       "      <td>3.64</td>\n",
       "    </tr>\n",
       "  </tbody>\n",
       "</table>\n",
       "<p>53940 rows × 10 columns</p>\n",
       "</div>"
      ],
      "text/plain": [
       "       carat        cut color clarity  depth  table  price     x     y     z\n",
       "0       0.23      Ideal     E     SI2   61.5   55.0    326  3.95  3.98  2.43\n",
       "1       0.21    Premium     E     SI1   59.8   61.0    326  3.89  3.84  2.31\n",
       "2       0.23       Good     E     VS1   56.9   65.0    327  4.05  4.07  2.31\n",
       "3       0.29    Premium     I     VS2   62.4   58.0    334  4.20  4.23  2.63\n",
       "4       0.31       Good     J     SI2   63.3   58.0    335  4.34  4.35  2.75\n",
       "...      ...        ...   ...     ...    ...    ...    ...   ...   ...   ...\n",
       "53935   0.72      Ideal     D     SI1   60.8   57.0   2757  5.75  5.76  3.50\n",
       "53936   0.72       Good     D     SI1   63.1   55.0   2757  5.69  5.75  3.61\n",
       "53937   0.70  Very Good     D     SI1   62.8   60.0   2757  5.66  5.68  3.56\n",
       "53938   0.86    Premium     H     SI2   61.0   58.0   2757  6.15  6.12  3.74\n",
       "53939   0.75      Ideal     D     SI2   62.2   55.0   2757  5.83  5.87  3.64\n",
       "\n",
       "[53940 rows x 10 columns]"
      ]
     },
     "execution_count": 3,
     "metadata": {},
     "output_type": "execute_result"
    }
   ],
   "source": [
    " df"
   ]
  },
  {
   "cell_type": "markdown",
   "id": "8d79b337",
   "metadata": {},
   "source": [
    "**1)** Realiza un Histograma con tamaño de barra 20, a la columna depth:\n",
    "* bins = 20\n",
    "* color = green\n",
    "* histtype = bar\n",
    "* rwitdh = 0.25\n",
    "* x label = Carat\n",
    "* y label = Frecuencia\n",
    "* title = Histograma"
   ]
  },
  {
   "cell_type": "code",
   "execution_count": 48,
   "id": "a2d40744",
   "metadata": {},
   "outputs": [
    {
     "data": {
      "text/plain": [
       "0        61.5\n",
       "1        59.8\n",
       "2        56.9\n",
       "3        62.4\n",
       "4        63.3\n",
       "         ... \n",
       "53935    60.8\n",
       "53936    63.1\n",
       "53937    62.8\n",
       "53938    61.0\n",
       "53939    62.2\n",
       "Name: depth, Length: 53940, dtype: float64"
      ]
     },
     "execution_count": 48,
     "metadata": {},
     "output_type": "execute_result"
    }
   ],
   "source": [
    "df_depth=df[\"depth\"]\n",
    "df_depth  "
   ]
  },
  {
   "cell_type": "code",
   "execution_count": 49,
   "id": "46e8657c",
   "metadata": {},
   "outputs": [],
   "source": [
    "def histograma(df, bin):\n",
    "    plt.hist(df.depth, bins=bin, color=\"green\",\n",
    "             histtype=\"bar\", rwidth=0.25)\n",
    "    plt.grid(True)\n",
    "    plt.xlabel(\"Carat\")\n",
    "    plt.ylabel(\"Frecuencia\")\n",
    "    plt.title(\"Histograma\")\n",
    "\n",
    "    plt.show()\n"
   ]
  },
  {
   "cell_type": "code",
   "execution_count": 50,
   "id": "e26122cb",
   "metadata": {},
   "outputs": [
    {
     "data": {
      "image/png": "[encoded data removed]",
      "text/plain": [
       "<Figure size 432x288 with 1 Axes>"
      ]
     },
     "metadata": {
      "needs_background": "light"
     },
     "output_type": "display_data"
    }
   ],
   "source": [
    "histograma(df,20)\n"
   ]
  },
  {
   "cell_type": "markdown",
   "id": "b3fec46b",
   "metadata": {},
   "source": [
    "**2)** ¿Cuál es el número que más se repite?"
   ]
  },
  {
   "cell_type": "code",
   "execution_count": 51,
   "id": "f93e9f61",
   "metadata": {},
   "outputs": [
    {
     "data": {
      "text/plain": [
       "0    62.0\n",
       "Name: depth, dtype: float64"
      ]
     },
     "execution_count": 51,
     "metadata": {},
     "output_type": "execute_result"
    }
   ],
   "source": [
    "moda_1 = df[\"depth\"].mode()\n",
    "moda_1"
   ]
  },
  {
   "cell_type": "code",
   "execution_count": 52,
   "id": "7da0708c",
   "metadata": {},
   "outputs": [
    {
     "data": {
      "text/plain": [
       "62.0    2239\n",
       "61.9    2163\n",
       "61.8    2077\n",
       "62.2    2039\n",
       "62.1    2020\n",
       "        ... \n",
       "71.3       1\n",
       "44.0       1\n",
       "53.0       1\n",
       "53.1       1\n",
       "54.7       1\n",
       "Name: depth, Length: 184, dtype: int64"
      ]
     },
     "execution_count": 52,
     "metadata": {},
     "output_type": "execute_result"
    }
   ],
   "source": [
    "df.depth.value_counts()"
   ]
  },
  {
   "cell_type": "markdown",
   "id": "25c675db",
   "metadata": {},
   "source": [
    "El valor que mas se repite es 62 lo he realizado con dos modos y viendo el grafico"
   ]
  },
  {
   "cell_type": "markdown",
   "id": "a68afcc5",
   "metadata": {},
   "source": [
    "**4)** ¿Qué pasa si cambiamos a tamaño de barra 60?\n",
    "* bins = 60\n",
    "* color = green\n",
    "* histtype = bar\n",
    "* rwitdh = 0.25\n",
    "* x label = Carat\n",
    "* y label = Frecuencia\n",
    "* title = Histograma"
   ]
  },
  {
   "cell_type": "code",
   "execution_count": 53,
   "id": "a4edc41a",
   "metadata": {},
   "outputs": [
    {
     "data": {
      "image/png": "[encoded data removed]",
      "text/plain": [
       "<Figure size 432x288 with 1 Axes>"
      ]
     },
     "metadata": {
      "needs_background": "light"
     },
     "output_type": "display_data"
    }
   ],
   "source": [
    "histograma(df,60)"
   ]
  },
  {
   "cell_type": "markdown",
   "id": "54318d89",
   "metadata": {},
   "source": [
    "* Muestra la frecuencia usando value_counts()"
   ]
  },
  {
   "cell_type": "code",
   "execution_count": 54,
   "id": "039ce2ed",
   "metadata": {},
   "outputs": [
    {
     "data": {
      "text/plain": [
       "62.0    2239\n",
       "61.9    2163\n",
       "61.8    2077\n",
       "62.2    2039\n",
       "62.1    2020\n",
       "        ... \n",
       "71.3       1\n",
       "44.0       1\n",
       "53.0       1\n",
       "53.1       1\n",
       "54.7       1\n",
       "Name: depth, Length: 184, dtype: int64"
      ]
     },
     "execution_count": 54,
     "metadata": {},
     "output_type": "execute_result"
    }
   ],
   "source": [
    "df.depth.value_counts()"
   ]
  },
  {
   "cell_type": "markdown",
   "id": "4c24eaae",
   "metadata": {},
   "source": [
    "**5)** ¿Qué parece indicar el sesgo en la distribución?"
   ]
  },
  {
   "cell_type": "markdown",
   "id": "18cb268c",
   "metadata": {},
   "source": [
    "Sesgo positivo hay valores atipico  a la derecha"
   ]
  },
  {
   "cell_type": "markdown",
   "id": "2b73b606",
   "metadata": {},
   "source": [
    "# Ejercicio 2 (5 ptos)"
   ]
  },
  {
   "cell_type": "markdown",
   "id": "db66d5eb",
   "metadata": {},
   "source": [
    "Dado el dataframe anterior, representa los estádisticos mas representativos con ayuda de describe:\n",
    "* Obtendrás el valor promedio y la desviación estándar de la columna depth."
   ]
  },
  {
   "cell_type": "code",
   "execution_count": 56,
   "id": "05680a71",
   "metadata": {},
   "outputs": [
    {
     "data": {
      "text/plain": [
       "count    53940.000000\n",
       "mean        61.749405\n",
       "std          1.432621\n",
       "min         43.000000\n",
       "25%         61.000000\n",
       "50%         61.800000\n",
       "75%         62.500000\n",
       "max         79.000000\n",
       "Name: depth, dtype: float64"
      ]
     },
     "execution_count": 56,
     "metadata": {},
     "output_type": "execute_result"
    }
   ],
   "source": [
    "df[\"depth\"].describe()"
   ]
  },
  {
   "cell_type": "code",
   "execution_count": 57,
   "id": "d6fc5bce",
   "metadata": {},
   "outputs": [],
   "source": [
    "std = df[\"depth\"].std(ddof=0)\n",
    "max_v= df[\"depth\"].max()\n",
    "min_v = df[\"depth\"].min()\n",
    "q3= df[\"depth\"].quantile(0.75)\n",
    "q1= df[\"depth\"].quantile(0.25)\n",
    "mediana = df[\"depth\"].median()\n",
    "media = df[\"depth\"].mean()"
   ]
  },
  {
   "cell_type": "code",
   "execution_count": 58,
   "id": "e9841296",
   "metadata": {},
   "outputs": [
    {
     "name": "stdout",
     "output_type": "stream",
     "text": [
      "Desviación estándar: 1.4326080390046028, max : 79.0 , min :43.0 Q3: 62.5, Q1: 61.0, Media: 61.749404894327036 , Mediana: 61.8\n"
     ]
    }
   ],
   "source": [
    "print(f'Desviación estándar: {std}, max : {max_v} , min :{min_v} Q3: {q3}, Q1: {q1}, Media: {media} , Mediana: {mediana}')"
   ]
  },
  {
   "cell_type": "markdown",
   "id": "ac3853e8",
   "metadata": {},
   "source": [
    "Dado que un diamante tiene una profundidad (depth) de 63.6. ¿Cuántas desviaciones de la media es la profundidad del diamante?"
   ]
  },
  {
   "cell_type": "code",
   "execution_count": 59,
   "id": "f7801366",
   "metadata": {},
   "outputs": [
    {
     "data": {
      "text/plain": [
       "1.8505951056729657"
      ]
     },
     "execution_count": 59,
     "metadata": {},
     "output_type": "execute_result"
    }
   ],
   "source": [
    "resultado=63.6-media\n",
    "resultado"
   ]
  },
  {
   "cell_type": "code",
   "execution_count": 60,
   "id": "a18fd3da",
   "metadata": {},
   "outputs": [],
   "source": [
    "def Zscore(µ, x, s):\n",
    "    return round((x - µ)/s, 2)\n",
    "\n"
   ]
  },
  {
   "cell_type": "code",
   "execution_count": 61,
   "id": "b32e8a2d",
   "metadata": {
    "scrolled": true
   },
   "outputs": [
    {
     "name": "stdout",
     "output_type": "stream",
     "text": [
      "Valor de Zscore es 1.29\n"
     ]
    }
   ],
   "source": [
    "µ =round(media,4)\n",
    "s = round(std,4)\n",
    "x=63.6\n",
    "\n",
    "print (f'Valor de Zscore es {Zscore(µ,x,s)}')"
   ]
  },
  {
   "cell_type": "markdown",
   "id": "91411fa7",
   "metadata": {},
   "source": [
    "*  Observa que colocamos la profundiada media 61.74 justo en el medio de la distribución y hacemos marcas que están a 1.29 desviación estandar o 1.43  de distancia en ambas direcciones*"
   ]
  },
  {
   "cell_type": "markdown",
   "id": "5764ba6d",
   "metadata": {},
   "source": [
    "Si nos dan un diamante que está a 0.6 desviaciones estándar por **debajo** de la profundidad media de 61.7494. Si la desviación estándar es de 1.4326, ¿qué profundidad tiene el diamante?"
   ]
  },
  {
   "cell_type": "markdown",
   "id": "b379d183",
   "metadata": {},
   "source": [
    "Dada la tabla de Z-Score di que porcentage son:"
   ]
  },
  {
   "cell_type": "markdown",
   "id": "1853aa66",
   "metadata": {},
   "source": [
    "**1)** Anteriormente calculaste la Z-score del primer diamante que proporción de diamantes tiene una profundidad menor"
   ]
  },
  {
   "cell_type": "markdown",
   "id": "d6cc7e61",
   "metadata": {},
   "source": [
    "Usamos la tabla z, comenzamos en la columna más a la izquierda y encontramos los primeros dos dígitos de nuestro puntaje z (en este caso, 1.2), luego encontramos el tercer dígito en la parte superior de la tabla(0,09). Donde se cruzan la fila y la columna es nuestra proporción por debajo de este puntaje z en ese caso es el valor 0.9015.\n"
   ]
  },
  {
   "cell_type": "code",
   "execution_count": 63,
   "id": "6f9f667c",
   "metadata": {},
   "outputs": [
    {
     "name": "stdout",
     "output_type": "stream",
     "text": [
      "90.15\n"
     ]
    }
   ],
   "source": [
    "menor=round(0.9015*100,4)\n",
    "print (menor)"
   ]
  },
  {
   "cell_type": "markdown",
   "id": "b448806f",
   "metadata": {},
   "source": [
    "**2)** Anteriormente calculaste la Z-score del segundo diamante que proporción de diamentes tiene una profundidad menor"
   ]
  },
  {
   "cell_type": "code",
   "execution_count": 64,
   "id": "13833015",
   "metadata": {},
   "outputs": [],
   "source": [
    "# Sabiendo el porcentaje buscaremos en la tabla Z  es0.6 su valor = 0.26"
   ]
  },
  {
   "cell_type": "code",
   "execution_count": null,
   "id": "3aedd833",
   "metadata": {},
   "outputs": [],
   "source": [
    "# Sabiendo el porcentaje buscaremos en la tabla Z  es -0.6 su valor = 0.27 ERROR mio R"
   ]
  },
  {
   "cell_type": "code",
   "execution_count": 2,
   "id": "9ac0171d",
   "metadata": {},
   "outputs": [
    {
     "name": "stdout",
     "output_type": "stream",
     "text": [
      "profundidad del segundo diamante:  62.121876\n"
     ]
    }
   ],
   "source": [
    "def calculo_x(Z, s, µ):\n",
    "    return (Z * s) + µ\n",
    "\n",
    "µ = 61.7494\n",
    "s= 1.4326\n",
    "Z = 0.26 ----esta mal  se debe cojer -0,6 no\n",
    "\n",
    "print(\"profundidad del segundo diamante: \", calculo_x(Z, s, µ))"
   ]
  },
  {
   "cell_type": "code",
   "execution_count": 3,
   "id": "adca7b7c",
   "metadata": {},
   "outputs": [
    {
     "name": "stdout",
     "output_type": "stream",
     "text": [
      "profundidad del segundo diamante:  60.88984\n"
     ]
    }
   ],
   "source": [
    "\n",
    "\n",
    "µ = 61.7494\n",
    "s= 1.4326\n",
    "Z =-0.6\n",
    "\n",
    "print(\"profundidad del segundo diamante: \", calculo_x(Z, s, µ))"
   ]
  },
  {
   "cell_type": "markdown",
   "id": "a9a74e32",
   "metadata": {},
   "source": [
    "**3)** ¿Qué probabilidad es que tengamos un diamente que esté entre ambos?"
   ]
  },
  {
   "cell_type": "code",
   "execution_count": 66,
   "id": "e6a643c8",
   "metadata": {},
   "outputs": [
    {
     "name": "stdout",
     "output_type": "stream",
     "text": [
      "La probabilidad es que tengamos un diamente que esté entre ambos es de 64.15 %\n"
     ]
    }
   ],
   "source": [
    "proporcion = 0.9015 - 0.26\n",
    "proporcion\n",
    "\n",
    "print(f'La probabilidad es que tengamos un diamente que esté entre ambos es de {round(proporcion*100,4)} %')"
   ]
  },
  {
   "cell_type": "markdown",
   "id": "1beedb7e",
   "metadata": {},
   "source": [
    "ERROR MIO__ Z es 0.2743 no 0.26"
   ]
  },
  {
   "cell_type": "code",
   "execution_count": 4,
   "id": "4113444e",
   "metadata": {},
   "outputs": [
    {
     "name": "stdout",
     "output_type": "stream",
     "text": [
      "La probabilidad es que tengamos un diamente que esté entre ambos es de 62.72 %\n"
     ]
    }
   ],
   "source": [
    "proporcion = 0.9015 - 0.2743\n",
    "proporcion\n",
    "\n",
    "print(f'La probabilidad es que tengamos un diamente que esté entre ambos es de {round(proporcion*100,4)} %')"
   ]
  },
  {
   "cell_type": "markdown",
   "id": "b503d429",
   "metadata": {},
   "source": [
    "**4)** ¿Y cuál es la probabilidad que sean de mayor profundidad que el primer diamante?"
   ]
  },
  {
   "cell_type": "code",
   "execution_count": 67,
   "id": "16f963ca",
   "metadata": {},
   "outputs": [
    {
     "name": "stdout",
     "output_type": "stream",
     "text": [
      " la probabilidad que sean de mayor profundidad que el primer diamante 9.85 %\n"
     ]
    }
   ],
   "source": [
    "mas_profundidad = 1 - 0.9015\n",
    "\n",
    "\n",
    "print(f' la probabilidad que sean de mayor profundidad que el primer diamante {round(mas_profundidad*100,4)} %')"
   ]
  },
  {
   "cell_type": "markdown",
   "id": "b4e94778",
   "metadata": {},
   "source": [
    "*Creado por:*\n",
    "\n",
    "*Isabel Maniega*"
   ]
  }
 ],
 "metadata": {
  "hide_input": false,
  "kernelspec": {
   "display_name": "Python 3 (ipykernel)",
   "language": "python",
   "name": "python3"
  },
  "language_info": {
   "codemirror_mode": {
    "name": "ipython",
    "version": 3
   },
   "file_extension": ".py",
   "mimetype": "text/x-python",
   "name": "python",
   "nbconvert_exporter": "python",
   "pygments_lexer": "ipython3",
   "version": "3.8.10"
  }
 },
 "nbformat": 4,
 "nbformat_minor": 5
}
