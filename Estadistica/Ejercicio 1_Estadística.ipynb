{
 "cells": [
  {
   "cell_type": "markdown",
   "id": "4a6422af",
   "metadata": {},
   "source": [
    "*Creado por:*\n",
    "    \n",
    "*Isabel Maniega*"
   ]
  },
  {
   "cell_type": "code",
   "execution_count": 24,
   "id": "acf23e6b",
   "metadata": {},
   "outputs": [
    {
     "name": "stdout",
     "output_type": "stream",
     "text": [
      "Requirement already satisfied: scipy in c:\\users\\fjflorido\\appdata\\local\\programs\\python\\python38\\lib\\site-packages (1.9.1)Note: you may need to restart the kernel to use updated packages.\n",
      "\n",
      "Requirement already satisfied: numpy<1.25.0,>=1.18.5 in c:\\users\\fjflorido\\appdata\\local\\programs\\python\\python38\\lib\\site-packages (from scipy) (1.23.0)\n"
     ]
    }
   ],
   "source": [
    "# pip install scipy"
   ]
  },
  {
   "cell_type": "code",
   "execution_count": 25,
   "id": "899398e5",
   "metadata": {},
   "outputs": [
    {
     "name": "stdout",
     "output_type": "stream",
     "text": [
      "Requirement already satisfied: statsmodels in c:\\users\\fjflorido\\appdata\\local\\programs\\python\\python38\\lib\\site-packages (0.13.2)Note: you may need to restart the kernel to use updated packages.\n",
      "\n",
      "Requirement already satisfied: numpy>=1.17 in c:\\users\\fjflorido\\appdata\\local\\programs\\python\\python38\\lib\\site-packages (from statsmodels) (1.23.0)\n",
      "Requirement already satisfied: scipy>=1.3 in c:\\users\\fjflorido\\appdata\\local\\programs\\python\\python38\\lib\\site-packages (from statsmodels) (1.9.1)\n",
      "Requirement already satisfied: patsy>=0.5.2 in c:\\users\\fjflorido\\appdata\\local\\programs\\python\\python38\\lib\\site-packages (from statsmodels) (0.5.2)\n",
      "Requirement already satisfied: packaging>=21.3 in c:\\users\\fjflorido\\appdata\\local\\programs\\python\\python38\\lib\\site-packages (from statsmodels) (21.3)\n",
      "Requirement already satisfied: pandas>=0.25 in c:\\users\\fjflorido\\appdata\\local\\programs\\python\\python38\\lib\\site-packages (from statsmodels) (1.4.3)\n",
      "Requirement already satisfied: pyparsing!=3.0.5,>=2.0.2 in c:\\users\\fjflorido\\appdata\\local\\programs\\python\\python38\\lib\\site-packages (from packaging>=21.3->statsmodels) (3.0.9)\n",
      "Requirement already satisfied: pytz>=2020.1 in c:\\users\\fjflorido\\appdata\\local\\programs\\python\\python38\\lib\\site-packages (from pandas>=0.25->statsmodels) (2022.1)\n",
      "Requirement already satisfied: python-dateutil>=2.8.1 in c:\\users\\fjflorido\\appdata\\local\\programs\\python\\python38\\lib\\site-packages (from pandas>=0.25->statsmodels) (2.8.2)\n",
      "Requirement already satisfied: six in c:\\users\\fjflorido\\appdata\\local\\programs\\python\\python38\\lib\\site-packages (from patsy>=0.5.2->statsmodels) (1.16.0)\n"
     ]
    }
   ],
   "source": [
    " #pip install statsmodels"
   ]
  },
  {
   "cell_type": "code",
   "execution_count": 17,
   "id": "d31d0a21",
   "metadata": {},
   "outputs": [],
   "source": [
    "import pandas as pd\n",
    "import matplotlib.pyplot as plt\n",
    "\n",
    "import numpy as np\n",
    "# Preprocesado y análisis\n",
    "# ===================================================================================================\n",
    "import statsmodels.api as sm\n",
    "from scipy import stats\n",
    "# Gráficos\n",
    "# ===================================================================================================\n",
    "import matplotlib.pyplot as plt"
   ]
  },
  {
   "cell_type": "markdown",
   "id": "e23ee9b2",
   "metadata": {},
   "source": [
    "# Ejercicio"
   ]
  },
  {
   "cell_type": "markdown",
   "id": "f784c413",
   "metadata": {},
   "source": [
    "Dada estos valores:\n",
    "    15 16 17\n",
    "    16 21 22\n",
    "    15 16 15\n",
    "    17 16 22\n",
    "    14 13 14\n",
    "    14 15 15\n",
    "    14 15 16\n",
    "    10 19 15\n",
    "    15 22 24\n",
    "    25 15 16"
   ]
  },
  {
   "cell_type": "code",
   "execution_count": 4,
   "id": "4d52e13a",
   "metadata": {},
   "outputs": [
    {
     "data": {
      "text/html": [
       "<div>\n",
       "<style scoped>\n",
       "    .dataframe tbody tr th:only-of-type {\n",
       "        vertical-align: middle;\n",
       "    }\n",
       "\n",
       "    .dataframe tbody tr th {\n",
       "        vertical-align: top;\n",
       "    }\n",
       "\n",
       "    .dataframe thead th {\n",
       "        text-align: right;\n",
       "    }\n",
       "</style>\n",
       "<table border=\"1\" class=\"dataframe\">\n",
       "  <thead>\n",
       "    <tr style=\"text-align: right;\">\n",
       "      <th></th>\n",
       "      <th>X</th>\n",
       "    </tr>\n",
       "  </thead>\n",
       "  <tbody>\n",
       "    <tr>\n",
       "      <th>0</th>\n",
       "      <td>15</td>\n",
       "    </tr>\n",
       "    <tr>\n",
       "      <th>1</th>\n",
       "      <td>16</td>\n",
       "    </tr>\n",
       "    <tr>\n",
       "      <th>2</th>\n",
       "      <td>17</td>\n",
       "    </tr>\n",
       "    <tr>\n",
       "      <th>3</th>\n",
       "      <td>16</td>\n",
       "    </tr>\n",
       "    <tr>\n",
       "      <th>4</th>\n",
       "      <td>21</td>\n",
       "    </tr>\n",
       "    <tr>\n",
       "      <th>5</th>\n",
       "      <td>22</td>\n",
       "    </tr>\n",
       "    <tr>\n",
       "      <th>6</th>\n",
       "      <td>15</td>\n",
       "    </tr>\n",
       "    <tr>\n",
       "      <th>7</th>\n",
       "      <td>16</td>\n",
       "    </tr>\n",
       "    <tr>\n",
       "      <th>8</th>\n",
       "      <td>15</td>\n",
       "    </tr>\n",
       "    <tr>\n",
       "      <th>9</th>\n",
       "      <td>17</td>\n",
       "    </tr>\n",
       "  </tbody>\n",
       "</table>\n",
       "</div>"
      ],
      "text/plain": [
       "    X\n",
       "0  15\n",
       "1  16\n",
       "2  17\n",
       "3  16\n",
       "4  21\n",
       "5  22\n",
       "6  15\n",
       "7  16\n",
       "8  15\n",
       "9  17"
      ]
     },
     "execution_count": 4,
     "metadata": {},
     "output_type": "execute_result"
    }
   ],
   "source": [
    "df = pd.DataFrame({\"X\": [15, 16, 17, 16, 21 ,22, 15, 16, 15, 17, 16, 22, 14, 13, 14,\n",
    "                         14, 15, 15, 14, 15, 16, 10, 19, 15, 15, 22, 24, 25, 15 ,16]})\n",
    "df.head()"
   ]
  },
  {
   "cell_type": "markdown",
   "id": "2f6166af",
   "metadata": {},
   "source": [
    "**1)** Realiza un Histograma con tamaño de barra 2."
   ]
  },
  {
   "cell_type": "code",
   "execution_count": 11,
   "id": "6f0b75bf",
   "metadata": {},
   "outputs": [
    {
     "data": {
      "image/png": "[encoded data removed]",
      "text/plain": [
       "<Figure size 432x288 with 1 Axes>"
      ]
     },
     "metadata": {
      "needs_background": "light"
     },
     "output_type": "display_data"
    }
   ],
   "source": [
    "plt.hist(df.X, bins=2,\n",
    "color=\"green\",\n",
    "histtype=\"bar\",\n",
    "rwidth= 0.3)\n",
    "# cuadrícula\n",
    "plt.grid(True)\n",
    "# Etiqueta del eje de la X\n",
    "plt.xlabel(\"valores\")\n",
    "# Etiqueta del eje de la Y\n",
    "plt.ylabel(\"Frecuencia\")\n",
    "# titulo:\n",
    "plt.title(\"Histograma\")\n",
    "# Mostrar el gráfico:\n",
    "plt.show()"
   ]
  },
  {
   "cell_type": "markdown",
   "id": "ff065c12",
   "metadata": {},
   "source": [
    "**2)** ¿Cuál es el número que más se repite?"
   ]
  },
  {
   "cell_type": "code",
   "execution_count": 5,
   "id": "a36ba4f5",
   "metadata": {},
   "outputs": [
    {
     "data": {
      "text/plain": [
       "0    15\n",
       "Name: X, dtype: int64"
      ]
     },
     "execution_count": 5,
     "metadata": {},
     "output_type": "execute_result"
    }
   ],
   "source": [
    "moda_1 = df[\"X\"].mode()\n",
    "moda_1"
   ]
  },
  {
   "cell_type": "markdown",
   "id": "aaa2b750",
   "metadata": {},
   "source": [
    "**3)** ¿Qué pasa si cambiamos a tamaño de barra 5?"
   ]
  },
  {
   "cell_type": "code",
   "execution_count": 12,
   "id": "2ed72aa8",
   "metadata": {},
   "outputs": [
    {
     "data": {
      "image/png": "[encoded data removed]",
      "text/plain": [
       "<Figure size 432x288 with 1 Axes>"
      ]
     },
     "metadata": {
      "needs_background": "light"
     },
     "output_type": "display_data"
    }
   ],
   "source": [
    "plt.hist(df.X, bins=5,\n",
    "color=\"green\",\n",
    "histtype=\"bar\",\n",
    "rwidth= 0.3)\n",
    "# cuadrícula\n",
    "plt.grid(True)\n",
    "# Etiqueta del eje de la X\n",
    "plt.xlabel(\"valores\")\n",
    "# Etiqueta del eje de la Y\n",
    "plt.ylabel(\"Frecuencia\")\n",
    "# titulo:\n",
    "plt.title(\"Histograma\")\n",
    "# Mostrar el gráfico:\n",
    "plt.show()"
   ]
  },
  {
   "cell_type": "markdown",
   "id": "5bd7c315",
   "metadata": {},
   "source": [
    "**4)** ¿Qué pasa si cambiamos a tamaño de barra 20?"
   ]
  },
  {
   "cell_type": "code",
   "execution_count": 35,
   "id": "6516dcd1",
   "metadata": {},
   "outputs": [
    {
     "data": {
      "text/plain": [
       "15    9\n",
       "16    6\n",
       "14    4\n",
       "22    3\n",
       "17    2\n",
       "21    1\n",
       "13    1\n",
       "10    1\n",
       "19    1\n",
       "24    1\n",
       "25    1\n",
       "Name: X, dtype: int64"
      ]
     },
     "execution_count": 35,
     "metadata": {},
     "output_type": "execute_result"
    }
   ],
   "source": [
    "df.X.value_counts()"
   ]
  },
  {
   "cell_type": "code",
   "execution_count": 34,
   "id": "c395e2eb",
   "metadata": {},
   "outputs": [
    {
     "data": {
      "image/png": "[encoded data removed]",
      "text/plain": [
       "<Figure size 432x288 with 1 Axes>"
      ]
     },
     "metadata": {
      "needs_background": "light"
     },
     "output_type": "display_data"
    }
   ],
   "source": [
    "plt.hist(df.X, bins=20,\n",
    "color=\"green\",\n",
    "histtype=\"bar\",\n",
    "rwidth= 0.3)\n",
    "# cuadrícula\n",
    "plt.grid(True)\n",
    "# Etiqueta del eje de la X\n",
    "plt.xlabel(\"valores\")\n",
    "# Etiqueta del eje de la Y\n",
    "plt.ylabel(\"Frecuencia\")\n",
    "# titulo:\n",
    "plt.title(\"Histograma\")\n",
    "# Mostrar el gráfico:\n",
    "plt.show()"
   ]
  },
  {
   "cell_type": "markdown",
   "id": "84ddf0c4",
   "metadata": {},
   "source": [
    "**5)** ¿Qué parece indicar el sesgo en la distribución?"
   ]
  },
  {
   "cell_type": "code",
   "execution_count": 33,
   "id": "23ae1d22",
   "metadata": {},
   "outputs": [
    {
     "data": {
      "image/png": "[encoded data removed]",
      "text/plain": [
       "<Figure size 504x288 with 1 Axes>"
      ]
     },
     "metadata": {
      "needs_background": "light"
     },
     "output_type": "display_data"
    }
   ],
   "source": [
    "# valores de la media (mu) y desviación típica (sigma) de los datos\n",
    "lista = df[\"X\"]\n",
    "\n",
    "# valores de la media (mu) y desviación típica (sigma) de los datos\n",
    "mu, sigma = stats.norm.fit(lista)\n",
    "# Valores teóricos de la normal en el rango observado\n",
    "x_hat = np.linspace(min(lista), max(lista), num=100)\n",
    "y_hat = stats.norm.pdf(x_hat, mu, sigma)\n",
    "\n",
    "# Gráfico\n",
    "fig, ax = plt.subplots(figsize=(7, 4))\n",
    "ax.plot(x_hat, y_hat, linewidth=2, label=\"normal\")\n",
    "# ax.hist(x=notas_1, density=True, bins=30, color=\"#3182bd\", alpha=0.5)\n",
    "ax.plot(lista, np.full_like(lista, -0.01), \"|k\", markeredgewidth=1)\n",
    "ax.set_title(\"Distribución \")\n",
    "ax.set_xlabel(\"Valores\")\n",
    "ax.set_ylabel(\"Densidad de probabilidad\")\n",
    "ax.legend()\n",
    "plt.show()"
   ]
  },
  {
   "cell_type": "markdown",
   "id": "7b9817d7",
   "metadata": {},
   "source": [
    "*Creado por*\n",
    "\n",
    "*Isabel Maniega*"
   ]
  }
 ],
 "metadata": {
  "kernelspec": {
   "display_name": "Python 3 (ipykernel)",
   "language": "python",
   "name": "python3"
  },
  "language_info": {
   "codemirror_mode": {
    "name": "ipython",
    "version": 3
   },
   "file_extension": ".py",
   "mimetype": "text/x-python",
   "name": "python",
   "nbconvert_exporter": "python",
   "pygments_lexer": "ipython3",
   "version": "3.8.10"
  }
 },
 "nbformat": 4,
 "nbformat_minor": 5
}
