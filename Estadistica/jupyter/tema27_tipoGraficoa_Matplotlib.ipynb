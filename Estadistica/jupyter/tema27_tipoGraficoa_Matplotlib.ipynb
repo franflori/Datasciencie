{
 "cells": [
  {
   "cell_type": "code",
   "execution_count": 1,
   "id": "8e86f5a6",
   "metadata": {},
   "outputs": [],
   "source": [
    "import pandas as pd\n",
    "import matplotlib.pyplot as plt"
   ]
  },
  {
   "cell_type": "code",
   "execution_count": 2,
   "id": "35c544af",
   "metadata": {},
   "outputs": [],
   "source": [
    "df = pd.DataFrame({\"x\": [1,32,4,23,40,2,2,27,6,18,49,67,46,7,\n",
    "20,24,35,33,40,80,26,85,77,11,92,24],\n",
    "\"y\": [31,10,85,25,4,83,32,43,66,18,93,6,42,\n",
    "27,21,42,53,32,85,32,42,58,67,17,4,5]})"
   ]
  },
  {
   "cell_type": "code",
   "execution_count": 3,
   "id": "bf9859f5",
   "metadata": {},
   "outputs": [
    {
     "data": {
      "text/html": [
       "<div>\n",
       "<style scoped>\n",
       "    .dataframe tbody tr th:only-of-type {\n",
       "        vertical-align: middle;\n",
       "    }\n",
       "\n",
       "    .dataframe tbody tr th {\n",
       "        vertical-align: top;\n",
       "    }\n",
       "\n",
       "    .dataframe thead th {\n",
       "        text-align: right;\n",
       "    }\n",
       "</style>\n",
       "<table border=\"1\" class=\"dataframe\">\n",
       "  <thead>\n",
       "    <tr style=\"text-align: right;\">\n",
       "      <th></th>\n",
       "      <th>x</th>\n",
       "      <th>y</th>\n",
       "    </tr>\n",
       "  </thead>\n",
       "  <tbody>\n",
       "    <tr>\n",
       "      <th>0</th>\n",
       "      <td>1</td>\n",
       "      <td>31</td>\n",
       "    </tr>\n",
       "    <tr>\n",
       "      <th>1</th>\n",
       "      <td>32</td>\n",
       "      <td>10</td>\n",
       "    </tr>\n",
       "    <tr>\n",
       "      <th>2</th>\n",
       "      <td>4</td>\n",
       "      <td>85</td>\n",
       "    </tr>\n",
       "    <tr>\n",
       "      <th>3</th>\n",
       "      <td>23</td>\n",
       "      <td>25</td>\n",
       "    </tr>\n",
       "    <tr>\n",
       "      <th>4</th>\n",
       "      <td>40</td>\n",
       "      <td>4</td>\n",
       "    </tr>\n",
       "    <tr>\n",
       "      <th>5</th>\n",
       "      <td>2</td>\n",
       "      <td>83</td>\n",
       "    </tr>\n",
       "    <tr>\n",
       "      <th>6</th>\n",
       "      <td>2</td>\n",
       "      <td>32</td>\n",
       "    </tr>\n",
       "    <tr>\n",
       "      <th>7</th>\n",
       "      <td>27</td>\n",
       "      <td>43</td>\n",
       "    </tr>\n",
       "    <tr>\n",
       "      <th>8</th>\n",
       "      <td>6</td>\n",
       "      <td>66</td>\n",
       "    </tr>\n",
       "    <tr>\n",
       "      <th>9</th>\n",
       "      <td>18</td>\n",
       "      <td>18</td>\n",
       "    </tr>\n",
       "    <tr>\n",
       "      <th>10</th>\n",
       "      <td>49</td>\n",
       "      <td>93</td>\n",
       "    </tr>\n",
       "    <tr>\n",
       "      <th>11</th>\n",
       "      <td>67</td>\n",
       "      <td>6</td>\n",
       "    </tr>\n",
       "    <tr>\n",
       "      <th>12</th>\n",
       "      <td>46</td>\n",
       "      <td>42</td>\n",
       "    </tr>\n",
       "    <tr>\n",
       "      <th>13</th>\n",
       "      <td>7</td>\n",
       "      <td>27</td>\n",
       "    </tr>\n",
       "    <tr>\n",
       "      <th>14</th>\n",
       "      <td>20</td>\n",
       "      <td>21</td>\n",
       "    </tr>\n",
       "    <tr>\n",
       "      <th>15</th>\n",
       "      <td>24</td>\n",
       "      <td>42</td>\n",
       "    </tr>\n",
       "    <tr>\n",
       "      <th>16</th>\n",
       "      <td>35</td>\n",
       "      <td>53</td>\n",
       "    </tr>\n",
       "    <tr>\n",
       "      <th>17</th>\n",
       "      <td>33</td>\n",
       "      <td>32</td>\n",
       "    </tr>\n",
       "    <tr>\n",
       "      <th>18</th>\n",
       "      <td>40</td>\n",
       "      <td>85</td>\n",
       "    </tr>\n",
       "    <tr>\n",
       "      <th>19</th>\n",
       "      <td>80</td>\n",
       "      <td>32</td>\n",
       "    </tr>\n",
       "    <tr>\n",
       "      <th>20</th>\n",
       "      <td>26</td>\n",
       "      <td>42</td>\n",
       "    </tr>\n",
       "    <tr>\n",
       "      <th>21</th>\n",
       "      <td>85</td>\n",
       "      <td>58</td>\n",
       "    </tr>\n",
       "    <tr>\n",
       "      <th>22</th>\n",
       "      <td>77</td>\n",
       "      <td>67</td>\n",
       "    </tr>\n",
       "    <tr>\n",
       "      <th>23</th>\n",
       "      <td>11</td>\n",
       "      <td>17</td>\n",
       "    </tr>\n",
       "    <tr>\n",
       "      <th>24</th>\n",
       "      <td>92</td>\n",
       "      <td>4</td>\n",
       "    </tr>\n",
       "    <tr>\n",
       "      <th>25</th>\n",
       "      <td>24</td>\n",
       "      <td>5</td>\n",
       "    </tr>\n",
       "  </tbody>\n",
       "</table>\n",
       "</div>"
      ],
      "text/plain": [
       "     x   y\n",
       "0    1  31\n",
       "1   32  10\n",
       "2    4  85\n",
       "3   23  25\n",
       "4   40   4\n",
       "5    2  83\n",
       "6    2  32\n",
       "7   27  43\n",
       "8    6  66\n",
       "9   18  18\n",
       "10  49  93\n",
       "11  67   6\n",
       "12  46  42\n",
       "13   7  27\n",
       "14  20  21\n",
       "15  24  42\n",
       "16  35  53\n",
       "17  33  32\n",
       "18  40  85\n",
       "19  80  32\n",
       "20  26  42\n",
       "21  85  58\n",
       "22  77  67\n",
       "23  11  17\n",
       "24  92   4\n",
       "25  24   5"
      ]
     },
     "execution_count": 3,
     "metadata": {},
     "output_type": "execute_result"
    }
   ],
   "source": [
    "df"
   ]
  },
  {
   "cell_type": "markdown",
   "id": "b3fb109d",
   "metadata": {},
   "source": [
    "# Histograma\n"
   ]
  },
  {
   "cell_type": "markdown",
   "id": "45cd7735",
   "metadata": {},
   "source": [
    "Sin parametros"
   ]
  },
  {
   "cell_type": "code",
   "execution_count": 4,
   "id": "2eb5f8d3",
   "metadata": {},
   "outputs": [
    {
     "data": {
      "image/png": "[encoded data removed]",
      "text/plain": [
       "<Figure size 432x288 with 1 Axes>"
      ]
     },
     "metadata": {
      "needs_background": "light"
     },
     "output_type": "display_data"
    }
   ],
   "source": [
    "# y: [31,10,85,25,4,83,32,43,66,18,93,6,42,27,21,42,53,32,85,32,42,58,67,17,4,5]\n",
    "# histograma\n",
    "plt.hist(df.y)\n",
    "# cuadrícula\n",
    "plt.grid(True)\n",
    "# Etiqueta eje X\n",
    "plt.xlabel(\"Edad\")\n",
    "# Etiqueta eje Y\n",
    "plt.ylabel(\"Frecuencia\")\n",
    "# titulo al gráfico\n",
    "plt.title(\"Mi primer Histograma\")\n",
    "# mostrar el\n",
    "plt.show()"
   ]
  },
  {
   "cell_type": "markdown",
   "id": "a87fb3d2",
   "metadata": {},
   "source": [
    "# Histograma 2"
   ]
  },
  {
   "cell_type": "markdown",
   "id": "f1684bef",
   "metadata": {},
   "source": [
    "* Division 10\n",
    "* 0.25 ancho de la barra"
   ]
  },
  {
   "cell_type": "code",
   "execution_count": 5,
   "id": "af12abc7",
   "metadata": {},
   "outputs": [
    {
     "data": {
      "image/png": "[encoded data removed]",
      "text/plain": [
       "<Figure size 432x288 with 1 Axes>"
      ]
     },
     "metadata": {
      "needs_background": "light"
     },
     "output_type": "display_data"
    }
   ],
   "source": [
    "# realizar un histagrama:\n",
    "plt.hist(df.y, bins=10,\n",
    "color=\"green\",\n",
    "histtype=\"bar\",\n",
    "rwidth= 0.25)\n",
    "# cuadrícula\n",
    "plt.grid(True)\n",
    "# Etiqueta del eje de la X\n",
    "plt.xlabel(\"Edad\")\n",
    "# Etiqueta del eje de la Y\n",
    "plt.ylabel(\"Frecuencia\")\n",
    "# titulo:\n",
    "plt.title(\"Mi segundo Histograma\")\n",
    "# Mostrar el gráfico:\n",
    "plt.show()"
   ]
  },
  {
   "cell_type": "markdown",
   "id": "32df14ce",
   "metadata": {},
   "source": [
    "* iden anterior 0.75 ancho de barra\n"
   ]
  },
  {
   "cell_type": "code",
   "execution_count": 6,
   "id": "7d85227f",
   "metadata": {},
   "outputs": [
    {
     "data": {
      "image/png": "[encoded data removed]",
      "text/plain": [
       "<Figure size 432x288 with 1 Axes>"
      ]
     },
     "metadata": {
      "needs_background": "light"
     },
     "output_type": "display_data"
    }
   ],
   "source": [
    "# realizar un histagrama:\n",
    "plt.hist(df.y, bins=10,\n",
    "color=\"green\",\n",
    "histtype=\"bar\",\n",
    "rwidth= 0.75) # modificando solo la anchura de la barra\n",
    "# cuadrícula\n",
    "plt.grid(True)\n",
    "# Etiqueta del eje de la X\n",
    "plt.xlabel(\"Edad\")\n",
    "# Etiqueta del eje de la Y\n",
    "plt.ylabel(\"Frecuencia\")\n",
    "# titulo:\n",
    "plt.title(\"Mi segundo Histograma\")\n",
    "# Mostrar el gráfico:\n",
    "plt.show()"
   ]
  },
  {
   "cell_type": "markdown",
   "id": "d4dcbd0d",
   "metadata": {},
   "source": [
    "* iden antero 6 division \n",
    "* 0.75 ancho\n"
   ]
  },
  {
   "cell_type": "code",
   "execution_count": 7,
   "id": "d1ab2f95",
   "metadata": {},
   "outputs": [
    {
     "data": {
      "image/png": "[encoded data removed]",
      "text/plain": [
       "<Figure size 432x288 with 1 Axes>"
      ]
     },
     "metadata": {
      "needs_background": "light"
     },
     "output_type": "display_data"
    }
   ],
   "source": [
    "# realizar un histagrama:\n",
    "plt.hist(df.y, bins=6, # modificando solo el número de barras\n",
    "color=\"green\",\n",
    "histtype=\"bar\",\n",
    "rwidth= 0.75)\n",
    "# cuadrícula\n",
    "plt.grid(True)\n",
    "# Etiqueta del eje de la X\n",
    "plt.xlabel(\"Edad\")\n",
    "# Etiqueta del eje de la Y\n",
    "plt.ylabel(\"Frecuencia\")\n",
    "# titulo:\n",
    "plt.title(\"Mi segundo Histograma\")\n",
    "# Mostrar el gráfico:\n",
    "plt.show()"
   ]
  },
  {
   "cell_type": "markdown",
   "id": "98ee9630",
   "metadata": {},
   "source": [
    " # Scatter plot (nube de puntos)"
   ]
  },
  {
   "cell_type": "code",
   "execution_count": 8,
   "id": "c6e7406d",
   "metadata": {},
   "outputs": [
    {
     "data": {
      "text/html": [
       "<div>\n",
       "<style scoped>\n",
       "    .dataframe tbody tr th:only-of-type {\n",
       "        vertical-align: middle;\n",
       "    }\n",
       "\n",
       "    .dataframe tbody tr th {\n",
       "        vertical-align: top;\n",
       "    }\n",
       "\n",
       "    .dataframe thead th {\n",
       "        text-align: right;\n",
       "    }\n",
       "</style>\n",
       "<table border=\"1\" class=\"dataframe\">\n",
       "  <thead>\n",
       "    <tr style=\"text-align: right;\">\n",
       "      <th></th>\n",
       "      <th>x</th>\n",
       "      <th>y</th>\n",
       "    </tr>\n",
       "  </thead>\n",
       "  <tbody>\n",
       "    <tr>\n",
       "      <th>0</th>\n",
       "      <td>1</td>\n",
       "      <td>31</td>\n",
       "    </tr>\n",
       "    <tr>\n",
       "      <th>1</th>\n",
       "      <td>32</td>\n",
       "      <td>10</td>\n",
       "    </tr>\n",
       "    <tr>\n",
       "      <th>2</th>\n",
       "      <td>4</td>\n",
       "      <td>85</td>\n",
       "    </tr>\n",
       "    <tr>\n",
       "      <th>3</th>\n",
       "      <td>23</td>\n",
       "      <td>25</td>\n",
       "    </tr>\n",
       "    <tr>\n",
       "      <th>4</th>\n",
       "      <td>40</td>\n",
       "      <td>4</td>\n",
       "    </tr>\n",
       "    <tr>\n",
       "      <th>5</th>\n",
       "      <td>2</td>\n",
       "      <td>83</td>\n",
       "    </tr>\n",
       "    <tr>\n",
       "      <th>6</th>\n",
       "      <td>2</td>\n",
       "      <td>32</td>\n",
       "    </tr>\n",
       "    <tr>\n",
       "      <th>7</th>\n",
       "      <td>27</td>\n",
       "      <td>43</td>\n",
       "    </tr>\n",
       "    <tr>\n",
       "      <th>8</th>\n",
       "      <td>6</td>\n",
       "      <td>66</td>\n",
       "    </tr>\n",
       "    <tr>\n",
       "      <th>9</th>\n",
       "      <td>18</td>\n",
       "      <td>18</td>\n",
       "    </tr>\n",
       "    <tr>\n",
       "      <th>10</th>\n",
       "      <td>49</td>\n",
       "      <td>93</td>\n",
       "    </tr>\n",
       "    <tr>\n",
       "      <th>11</th>\n",
       "      <td>67</td>\n",
       "      <td>6</td>\n",
       "    </tr>\n",
       "    <tr>\n",
       "      <th>12</th>\n",
       "      <td>46</td>\n",
       "      <td>42</td>\n",
       "    </tr>\n",
       "    <tr>\n",
       "      <th>13</th>\n",
       "      <td>7</td>\n",
       "      <td>27</td>\n",
       "    </tr>\n",
       "    <tr>\n",
       "      <th>14</th>\n",
       "      <td>20</td>\n",
       "      <td>21</td>\n",
       "    </tr>\n",
       "    <tr>\n",
       "      <th>15</th>\n",
       "      <td>24</td>\n",
       "      <td>42</td>\n",
       "    </tr>\n",
       "    <tr>\n",
       "      <th>16</th>\n",
       "      <td>35</td>\n",
       "      <td>53</td>\n",
       "    </tr>\n",
       "    <tr>\n",
       "      <th>17</th>\n",
       "      <td>33</td>\n",
       "      <td>32</td>\n",
       "    </tr>\n",
       "    <tr>\n",
       "      <th>18</th>\n",
       "      <td>40</td>\n",
       "      <td>85</td>\n",
       "    </tr>\n",
       "    <tr>\n",
       "      <th>19</th>\n",
       "      <td>80</td>\n",
       "      <td>32</td>\n",
       "    </tr>\n",
       "    <tr>\n",
       "      <th>20</th>\n",
       "      <td>26</td>\n",
       "      <td>42</td>\n",
       "    </tr>\n",
       "    <tr>\n",
       "      <th>21</th>\n",
       "      <td>85</td>\n",
       "      <td>58</td>\n",
       "    </tr>\n",
       "    <tr>\n",
       "      <th>22</th>\n",
       "      <td>77</td>\n",
       "      <td>67</td>\n",
       "    </tr>\n",
       "    <tr>\n",
       "      <th>23</th>\n",
       "      <td>11</td>\n",
       "      <td>17</td>\n",
       "    </tr>\n",
       "    <tr>\n",
       "      <th>24</th>\n",
       "      <td>92</td>\n",
       "      <td>4</td>\n",
       "    </tr>\n",
       "    <tr>\n",
       "      <th>25</th>\n",
       "      <td>24</td>\n",
       "      <td>5</td>\n",
       "    </tr>\n",
       "  </tbody>\n",
       "</table>\n",
       "</div>"
      ],
      "text/plain": [
       "     x   y\n",
       "0    1  31\n",
       "1   32  10\n",
       "2    4  85\n",
       "3   23  25\n",
       "4   40   4\n",
       "5    2  83\n",
       "6    2  32\n",
       "7   27  43\n",
       "8    6  66\n",
       "9   18  18\n",
       "10  49  93\n",
       "11  67   6\n",
       "12  46  42\n",
       "13   7  27\n",
       "14  20  21\n",
       "15  24  42\n",
       "16  35  53\n",
       "17  33  32\n",
       "18  40  85\n",
       "19  80  32\n",
       "20  26  42\n",
       "21  85  58\n",
       "22  77  67\n",
       "23  11  17\n",
       "24  92   4\n",
       "25  24   5"
      ]
     },
     "execution_count": 8,
     "metadata": {},
     "output_type": "execute_result"
    }
   ],
   "source": [
    "df"
   ]
  },
  {
   "cell_type": "markdown",
   "id": "1792fecd",
   "metadata": {},
   "source": [
    "# Scatter plot 1"
   ]
  },
  {
   "cell_type": "code",
   "execution_count": 9,
   "id": "7fb254d1",
   "metadata": {},
   "outputs": [
    {
     "data": {
      "image/png": "[encoded data removed]",
      "text/plain": [
       "<Figure size 432x288 with 1 Axes>"
      ]
     },
     "metadata": {
      "needs_background": "light"
     },
     "output_type": "display_data"
    }
   ],
   "source": [
    "plt.scatter(df.x, df.y)\n",
    "plt.show()"
   ]
  },
  {
   "cell_type": "markdown",
   "id": "d94993ef",
   "metadata": {},
   "source": [
    "# Scatter plot 2"
   ]
  },
  {
   "cell_type": "code",
   "execution_count": 10,
   "id": "539feeb4",
   "metadata": {},
   "outputs": [],
   "source": [
    "# Con otros datos\n",
    "x = [1, 2, 3, 4, 5, 6, 7, 8, 9, 10]\n",
    "y = [1, 4, 9, 15, 20, 34, 62, 78, 84, 103]"
   ]
  },
  {
   "cell_type": "code",
   "execution_count": 11,
   "id": "511e18b5",
   "metadata": {},
   "outputs": [
    {
     "data": {
      "image/png": "[encoded data removed]",
      "text/plain": [
       "<Figure size 432x288 with 1 Axes>"
      ]
     },
     "metadata": {
      "needs_background": "light"
     },
     "output_type": "display_data"
    }
   ],
   "source": [
    "plt.scatter(x, y)\n",
    "plt.grid(True)\n",
    "plt.show()"
   ]
  },
  {
   "cell_type": "markdown",
   "id": "978cc876",
   "metadata": {},
   "source": [
    "# Scatter plot 3"
   ]
  },
  {
   "cell_type": "markdown",
   "id": "81f0e64d",
   "metadata": {},
   "source": [
    "* label = \"años\"\n",
    "* color = verde\n",
    " * simbolo *\n",
    "* s = 500 es bastante grande"
   ]
  },
  {
   "cell_type": "code",
   "execution_count": 12,
   "id": "64aac52d",
   "metadata": {},
   "outputs": [
    {
     "data": {
      "image/png": "[encoded data removed]",
      "text/plain": [
       "<Figure size 432x288 with 1 Axes>"
      ]
     },
     "metadata": {
      "needs_background": "light"
     },
     "output_type": "display_data"
    }
   ],
   "source": [
    "plt.scatter(x, y,\n",
    "label=\"ños\", color=\"green\",\n",
    "marker=\",\", s=500)\n",
    "plt.xlabel(\"eje X\")\n",
    "plt.ylabel(\"eje y\")\n",
    "plt.title(\"Mi scatter plot!\")\n",
    "plt.legend()\n",
    "plt.show()"
   ]
  },
  {
   "cell_type": "markdown",
   "id": "d4807368",
   "metadata": {},
   "source": [
    "* s = 100 es bastante grande"
   ]
  },
  {
   "cell_type": "code",
   "execution_count": 13,
   "id": "0b23148f",
   "metadata": {},
   "outputs": [
    {
     "data": {
      "image/png": "[encoded data removed]",
      "text/plain": [
       "<Figure size 432x288 with 1 Axes>"
      ]
     },
     "metadata": {
      "needs_background": "light"
     },
     "output_type": "display_data"
    }
   ],
   "source": [
    "plt.scatter(x, y,\n",
    "label=\"años\", color=\"green\",\n",
    "marker=\"*\", s=100) # modificamos el tamaño del punto\n",
    "plt.xlabel(\"eje X\")\n",
    "plt.ylabel(\"eje y\")\n",
    "plt.title(\"Mi scatter plot!\")\n",
    "plt.legend()\n",
    "plt.show()"
   ]
  },
  {
   "cell_type": "code",
   "execution_count": null,
   "id": "15711d66",
   "metadata": {},
   "outputs": [],
   "source": []
  }
 ],
 "metadata": {
  "kernelspec": {
   "display_name": "Python 3 (ipykernel)",
   "language": "python",
   "name": "python3"
  },
  "language_info": {
   "codemirror_mode": {
    "name": "ipython",
    "version": 3
   },
   "file_extension": ".py",
   "mimetype": "text/x-python",
   "name": "python",
   "nbconvert_exporter": "python",
   "pygments_lexer": "ipython3",
   "version": "3.8.10"
  }
 },
 "nbformat": 4,
 "nbformat_minor": 5
}
