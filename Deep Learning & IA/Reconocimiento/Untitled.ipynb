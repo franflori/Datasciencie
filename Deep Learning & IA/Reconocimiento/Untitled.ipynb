{
 "cells": [
  {
   "cell_type": "code",
   "execution_count": 1,
   "id": "b7898d27",
   "metadata": {},
   "outputs": [],
   "source": [
    "##Importing the Keras libraries and packages\n",
    "from tensorflow.keras.layers import Convolution2D\n",
    "from tensorflow.keras.layers import MaxPooling2D\n",
    "from tensorflow.keras.layers import Flatten"
   ]
  },
  {
   "cell_type": "code",
   "execution_count": 2,
   "id": "688672c6",
   "metadata": {},
   "outputs": [],
   "source": [
    "import tensorflow as tf\n",
    "from tensorflow.keras import Sequential\n",
    "from tensorflow.keras.layers import Dense"
   ]
  },
  {
   "cell_type": "code",
   "execution_count": 3,
   "id": "a699b4f6",
   "metadata": {},
   "outputs": [],
   "source": [
    "# Initialising the CNN\n",
    "classifier = Sequential()\n"
   ]
  },
  {
   "cell_type": "code",
   "execution_count": 4,
   "id": "7537dcf3",
   "metadata": {},
   "outputs": [],
   "source": [
    "#Step 1 - Convulution\n",
    "classifier.add(Convolution2D(32,3,3,input_shape=(64,64,3),activation=\"relu\"))"
   ]
  },
  {
   "cell_type": "code",
   "execution_count": 5,
   "id": "667e3a21",
   "metadata": {},
   "outputs": [],
   "source": [
    "# Step 2 - Pooling\n",
    "classifier.add(MaxPooling2D(pool_size=(2,2)))"
   ]
  },
  {
   "cell_type": "code",
   "execution_count": 6,
   "id": "d8d59e4a",
   "metadata": {},
   "outputs": [],
   "source": [
    "# Adding a second convolutional layer\n",
    "classifier.add(Convolution2D(32,3,3, activation='relu'))\n",
    "\n",
    "classifier.add(MaxPooling2D(pool_size=(2,2)))"
   ]
  },
  {
   "cell_type": "code",
   "execution_count": 7,
   "id": "b3b5a5ef",
   "metadata": {},
   "outputs": [],
   "source": [
    "# Step 3 - Flattening\n",
    "classifier.add(Flatten())\n",
    "# Step 4 - Full connection\n",
    "classifier.add(Dense(units=128,activation='relu'))\n",
    "classifier.add(Dense(units=1,activation='sigmoid'))"
   ]
  },
  {
   "cell_type": "code",
   "execution_count": 9,
   "id": "9f1dc9b5",
   "metadata": {},
   "outputs": [],
   "source": [
    "#Compiling the CNN\n",
    "classifier.compile(optimizer='adam',loss='binary_crossentropy',metrics=['accuracy'])"
   ]
  },
  {
   "cell_type": "code",
   "execution_count": 10,
   "id": "c03a6bd8",
   "metadata": {},
   "outputs": [
    {
     "name": "stdout",
     "output_type": "stream",
     "text": [
      "Found 8000 images belonging to 2 classes.\n",
      "Found 2000 images belonging to 2 classes.\n",
      "Epoch 1/25\n",
      "250/250 [==============================] - 79s 302ms/step - loss: 0.6890 - accuracy: 0.5374 - val_loss: 0.6772 - val_accuracy: 0.5580\n",
      "Epoch 2/25\n",
      "250/250 [==============================] - 75s 299ms/step - loss: 0.6810 - accuracy: 0.5684 - val_loss: 0.6629 - val_accuracy: 0.6030\n",
      "Epoch 3/25\n",
      "250/250 [==============================] - 80s 319ms/step - loss: 0.6666 - accuracy: 0.5855 - val_loss: 0.6531 - val_accuracy: 0.6165\n",
      "Epoch 4/25\n",
      "250/250 [==============================] - 77s 306ms/step - loss: 0.6605 - accuracy: 0.6053 - val_loss: 0.6796 - val_accuracy: 0.5890\n",
      "Epoch 5/25\n",
      "250/250 [==============================] - 72s 288ms/step - loss: 0.6455 - accuracy: 0.6202 - val_loss: 0.7362 - val_accuracy: 0.5420\n",
      "Epoch 6/25\n",
      "250/250 [==============================] - 71s 283ms/step - loss: 0.6376 - accuracy: 0.6342 - val_loss: 0.6303 - val_accuracy: 0.6505\n",
      "Epoch 7/25\n",
      "250/250 [==============================] - 71s 284ms/step - loss: 0.6339 - accuracy: 0.6386 - val_loss: 0.6279 - val_accuracy: 0.6610\n",
      "Epoch 8/25\n",
      "250/250 [==============================] - 72s 288ms/step - loss: 0.6210 - accuracy: 0.6500 - val_loss: 0.6158 - val_accuracy: 0.6615\n",
      "Epoch 9/25\n",
      "250/250 [==============================] - 75s 299ms/step - loss: 0.6162 - accuracy: 0.6607 - val_loss: 0.6305 - val_accuracy: 0.6480\n",
      "Epoch 10/25\n",
      "250/250 [==============================] - 66s 264ms/step - loss: 0.6059 - accuracy: 0.6639 - val_loss: 0.6037 - val_accuracy: 0.6775\n",
      "Epoch 11/25\n",
      "250/250 [==============================] - 66s 266ms/step - loss: 0.6038 - accuracy: 0.6680 - val_loss: 0.6177 - val_accuracy: 0.6605\n",
      "Epoch 12/25\n",
      "250/250 [==============================] - 72s 287ms/step - loss: 0.5941 - accuracy: 0.6796 - val_loss: 0.5965 - val_accuracy: 0.6805\n",
      "Epoch 13/25\n",
      "250/250 [==============================] - 70s 281ms/step - loss: 0.5940 - accuracy: 0.6858 - val_loss: 0.6080 - val_accuracy: 0.6725\n",
      "Epoch 14/25\n",
      "250/250 [==============================] - 73s 291ms/step - loss: 0.5987 - accuracy: 0.6801 - val_loss: 0.5920 - val_accuracy: 0.6850\n",
      "Epoch 15/25\n",
      "250/250 [==============================] - 74s 296ms/step - loss: 0.5881 - accuracy: 0.6881 - val_loss: 0.6037 - val_accuracy: 0.6765\n",
      "Epoch 16/25\n",
      "250/250 [==============================] - 79s 314ms/step - loss: 0.5884 - accuracy: 0.6851 - val_loss: 0.6081 - val_accuracy: 0.6665\n",
      "Epoch 17/25\n",
      "250/250 [==============================] - 88s 353ms/step - loss: 0.5801 - accuracy: 0.6876 - val_loss: 0.5937 - val_accuracy: 0.6865\n",
      "Epoch 18/25\n",
      "250/250 [==============================] - 88s 354ms/step - loss: 0.5757 - accuracy: 0.6946 - val_loss: 0.6017 - val_accuracy: 0.6790\n",
      "Epoch 19/25\n",
      "250/250 [==============================] - 72s 288ms/step - loss: 0.5797 - accuracy: 0.6940 - val_loss: 0.5904 - val_accuracy: 0.6865\n",
      "Epoch 20/25\n",
      "250/250 [==============================] - 86s 342ms/step - loss: 0.5714 - accuracy: 0.6965 - val_loss: 0.6125 - val_accuracy: 0.6595\n",
      "Epoch 21/25\n",
      "250/250 [==============================] - 84s 337ms/step - loss: 0.5731 - accuracy: 0.6980 - val_loss: 0.6253 - val_accuracy: 0.6610\n",
      "Epoch 22/25\n",
      "250/250 [==============================] - 74s 297ms/step - loss: 0.5726 - accuracy: 0.7004 - val_loss: 0.5782 - val_accuracy: 0.6955\n",
      "Epoch 23/25\n",
      "250/250 [==============================] - 66s 265ms/step - loss: 0.5661 - accuracy: 0.6999 - val_loss: 0.5782 - val_accuracy: 0.7045\n",
      "Epoch 24/25\n",
      "250/250 [==============================] - 67s 269ms/step - loss: 0.5657 - accuracy: 0.7009 - val_loss: 0.5742 - val_accuracy: 0.7050\n",
      "Epoch 25/25\n",
      "250/250 [==============================] - 68s 273ms/step - loss: 0.5633 - accuracy: 0.7042 - val_loss: 0.5844 - val_accuracy: 0.6905\n"
     ]
    }
   ],
   "source": [
    "from tensorflow.keras.preprocessing.image import ImageDataGenerator\n",
    "train_datagen=ImageDataGenerator(rescale=1./255,shear_range=0.2,zoom_range=0.2,\n",
    "                                 horizontal_flip=True)\n",
    "test_datagen=ImageDataGenerator(rescale=1./255)\n",
    "training_set=train_datagen.flow_from_directory('dataset/training_set',\n",
    "                                               target_size=(64,64),\n",
    "                                               batch_size=32,\n",
    "                                               class_mode='binary')\n",
    "test_set=test_datagen.flow_from_directory('dataset/test_set',\n",
    "                                          target_size=(64,64),\n",
    "                                          batch_size=32,\n",
    "                                          class_mode='binary')\n",
    "history=classifier.fit(x=training_set,batch_size=8000,epochs=25,\n",
    "                       validation_data=test_set,validation_batch_size=2000)"
   ]
  },
  {
   "cell_type": "code",
   "execution_count": 11,
   "id": "8feacc2c",
   "metadata": {},
   "outputs": [
    {
     "data": {
      "image/png": "[encoded data removed]",
      "text/plain": [
       "<Figure size 432x288 with 1 Axes>"
      ]
     },
     "metadata": {
      "needs_background": "light"
     },
     "output_type": "display_data"
    }
   ],
   "source": [
    "import matplotlib.pyplot as plt\n",
    "plt.plot(history.history['accuracy'],label='train')\n",
    "plt.show()"
   ]
  },
  {
   "cell_type": "code",
   "execution_count": 12,
   "id": "e6f63fe3",
   "metadata": {},
   "outputs": [
    {
     "data": {
      "image/png": "[encoded data removed]",
      "text/plain": [
       "<Figure size 432x288 with 1 Axes>"
      ]
     },
     "metadata": {
      "needs_background": "light"
     },
     "output_type": "display_data"
    }
   ],
   "source": [
    "plt.plot(history.history['loss'],label='train')\n",
    "plt.show()"
   ]
  },
  {
   "cell_type": "code",
   "execution_count": 17,
   "id": "634f9920",
   "metadata": {},
   "outputs": [],
   "source": [
    "import numpy as np\n",
    "#to predict new images\n",
    "def predict_image(imagepath,classifier):\n",
    "    predict=tf.keras.preprocessing.image.load_img(imagepath,target_size=(64,64))\n",
    "    predict_modified=tf.keras.preprocessing.image.img_to_array(predict)\n",
    "    predict_modified=predict_modified/255\n",
    "    predict_modified=np.expand_dims(predict_modified,axis=0)\n",
    "    result=classifier.predict(predict_modified)\n",
    "    if result[0][0]>=0.5:\n",
    "        prediction='dog'\n",
    "        probability=result[0][0]\n",
    "        print(\"probability = \"+ str(probability))\n",
    "        print(\"Prediction = \"+ prediction)\n",
    "    else:\n",
    "        prediction='cat'\n",
    "        probability=1-result[0][0]\n",
    "        print(\"probability = \"+str(probability))\n",
    "        print(\"Prediction = \"+prediction)"
   ]
  },
  {
   "cell_type": "code",
   "execution_count": 18,
   "id": "d4214302",
   "metadata": {},
   "outputs": [
    {
     "name": "stdout",
     "output_type": "stream",
     "text": [
      "1/1 [==============================] - 1s 649ms/step\n",
      "probability = 0.77137\n",
      "Prediction = dog\n"
     ]
    }
   ],
   "source": [
    "predict_image(\"perro.jpg\",classifier)"
   ]
  },
  {
   "cell_type": "code",
   "execution_count": 19,
   "id": "98b63708",
   "metadata": {},
   "outputs": [
    {
     "name": "stdout",
     "output_type": "stream",
     "text": [
      "1/1 [==============================] - 0s 48ms/step\n",
      "probability = 0.5130243\n",
      "Prediction = dog\n"
     ]
    }
   ],
   "source": [
    "predict_image(\"cat-coloring-page.png\",classifier)"
   ]
  },
  {
   "cell_type": "code",
   "execution_count": 20,
   "id": "ba4f1bae",
   "metadata": {},
   "outputs": [
    {
     "name": "stdout",
     "output_type": "stream",
     "text": [
      "1/1 [==============================] - 0s 36ms/step\n",
      "probability = 0.92024803\n",
      "Prediction = dog\n"
     ]
    }
   ],
   "source": [
    "predict_image(\"perror.jpg\",classifier)"
   ]
  },
  {
   "cell_type": "code",
   "execution_count": 21,
   "id": "bc6893ee",
   "metadata": {},
   "outputs": [
    {
     "name": "stdout",
     "output_type": "stream",
     "text": [
      "1/1 [==============================] - 0s 56ms/step\n",
      "probability = 0.5624862909317017\n",
      "Prediction = cat\n"
     ]
    }
   ],
   "source": [
    "predict_image(\"timthumb.jpg\",classifier)"
   ]
  },
  {
   "cell_type": "code",
   "execution_count": 22,
   "id": "c80bba94",
   "metadata": {},
   "outputs": [
    {
     "name": "stdout",
     "output_type": "stream",
     "text": [
      "1/1 [==============================] - 0s 54ms/step\n",
      "probability = 0.78288865\n",
      "Prediction = dog\n"
     ]
    }
   ],
   "source": [
    "predict_image(\"Cat03.jpg\",classifier)"
   ]
  },
  {
   "cell_type": "code",
   "execution_count": null,
   "id": "3892d859",
   "metadata": {},
   "outputs": [],
   "source": []
  }
 ],
 "metadata": {
  "kernelspec": {
   "display_name": "Python 3 (ipykernel)",
   "language": "python",
   "name": "python3"
  },
  "language_info": {
   "codemirror_mode": {
    "name": "ipython",
    "version": 3
   },
   "file_extension": ".py",
   "mimetype": "text/x-python",
   "name": "python",
   "nbconvert_exporter": "python",
   "pygments_lexer": "ipython3",
   "version": "3.8.10"
  }
 },
 "nbformat": 4,
 "nbformat_minor": 5
}
