{
 "cells": [
  {
   "cell_type": "markdown",
   "id": "3ba5e93f",
   "metadata": {},
   "source": [
    "Definir una función inversa() que calcule la inversion de una cadena. \n",
    "    Por ejemplo la cadena \"estoy probando\" debería devolver la cadena \"odnaborp yotse\"."
   ]
  },
  {
   "cell_type": "code",
   "execution_count": 12,
   "id": "56a8361b",
   "metadata": {},
   "outputs": [],
   "source": [
    "def inversa(cadena):\n",
    "    cadena=cadena.strip()\n",
    "    return cadena[::-1]\n",
    "\n"
   ]
  },
  {
   "cell_type": "code",
   "execution_count": 13,
   "id": "1a00dcda",
   "metadata": {},
   "outputs": [
    {
     "data": {
      "text/plain": [
       "'odnaborp yotse'"
      ]
     },
     "execution_count": 13,
     "metadata": {},
     "output_type": "execute_result"
    }
   ],
   "source": [
    "inversa (\"  estoy probando   \")"
   ]
  },
  {
   "cell_type": "markdown",
   "id": "cfc8f31c",
   "metadata": {},
   "source": [
    "\"\"\"\n",
    "    Definir una funcion es_palindromo() que reconoce palindromo \n",
    "    palabras  que tiene el mismo aspecto escritas invertidas), ejemplo: es_palindromo(\"radar\")\n",
    "    tendría que devolver True.\n",
    "\"\"\""
   ]
  },
  {
   "cell_type": "code",
   "execution_count": 14,
   "id": "469655e1",
   "metadata": {},
   "outputs": [],
   "source": [
    "def palidromo(cadena):\n",
    "    cadena=cadena.strip()\n",
    "    return cadena==cadena[::-1]\n",
    "\n"
   ]
  },
  {
   "cell_type": "code",
   "execution_count": 15,
   "id": "d438dd05",
   "metadata": {},
   "outputs": [
    {
     "data": {
      "text/plain": [
       "True"
      ]
     },
     "execution_count": 15,
     "metadata": {},
     "output_type": "execute_result"
    }
   ],
   "source": [
    "palidromo(\"radar\")"
   ]
  },
  {
   "cell_type": "code",
   "execution_count": 16,
   "id": "8d6439c1",
   "metadata": {},
   "outputs": [
    {
     "data": {
      "text/plain": [
       "False"
      ]
     },
     "execution_count": 16,
     "metadata": {},
     "output_type": "execute_result"
    }
   ],
   "source": [
    "palidromo(\"ola\")"
   ]
  },
  {
   "cell_type": "markdown",
   "id": "2ffcfa5a",
   "metadata": {},
   "source": [
    "\"\"\"\n",
    "    Definir una funcion superposicion() que tome dos listas y devuelva True si tiene al\n",
    "    menos 1 elemento en común o devuelva False en caso contrario. Escribe la función usando el bucle for \n",
    "    aninado.\n",
    "\"\"\""
   ]
  },
  {
   "cell_type": "code",
   "execution_count": 17,
   "id": "5fd705eb",
   "metadata": {},
   "outputs": [],
   "source": [
    "def superposicion(lista1,lista2):\n",
    "    for x in lista1:\n",
    "        if x in lista2:\n",
    "            return True\n",
    "    return False\n"
   ]
  },
  {
   "cell_type": "code",
   "execution_count": 20,
   "id": "23b7eca1",
   "metadata": {},
   "outputs": [
    {
     "data": {
      "text/plain": [
       "False"
      ]
     },
     "execution_count": 20,
     "metadata": {},
     "output_type": "execute_result"
    }
   ],
   "source": [
    "listado = [1,4,7,3,21,2]\n",
    "listado2 =[5,29,212]\n",
    "superposicion(listado,listado2)"
   ]
  },
  {
   "cell_type": "code",
   "execution_count": 21,
   "id": "2df411e0",
   "metadata": {},
   "outputs": [
    {
     "data": {
      "text/plain": [
       "True"
      ]
     },
     "execution_count": 21,
     "metadata": {},
     "output_type": "execute_result"
    }
   ],
   "source": [
    "listado2 =[5,29,21,2]\n",
    "superposicion(listado,listado2)"
   ]
  }
 ],
 "metadata": {
  "kernelspec": {
   "display_name": "Python 3 (ipykernel)",
   "language": "python",
   "name": "python3"
  },
  "language_info": {
   "codemirror_mode": {
    "name": "ipython",
    "version": 3
   },
   "file_extension": ".py",
   "mimetype": "text/x-python",
   "name": "python",
   "nbconvert_exporter": "python",
   "pygments_lexer": "ipython3",
   "version": "3.8.10"
  }
 },
 "nbformat": 4,
 "nbformat_minor": 5
}
