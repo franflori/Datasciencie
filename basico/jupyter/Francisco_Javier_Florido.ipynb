{
 "cells": [
  {
   "cell_type": "markdown",
   "metadata": {},
   "source": [
    "Contenido creado por: \n",
    "\n",
    "*Isabel Maniega*"
   ]
  },
  {
   "cell_type": "markdown",
   "metadata": {},
   "source": [
    "* Los ejercicios puntuan 2 puntos cada uno hasta un Máximo de 10 puntos.\n",
    "* Lea los ejercicios detenidamente y realice cada uno de los apartados.\n",
    "* En caso de duda puede consultar internet para su realización.\n",
    "\n",
    "    # Suerte!! 😊"
   ]
  },
  {
   "cell_type": "code",
   "execution_count": 39,
   "metadata": {},
   "outputs": [],
   "source": [
    "#Importar librerias\n",
    "import pandas as pd\n",
    "import numpy as np\n",
    "from statistics import mean"
   ]
  },
  {
   "cell_type": "markdown",
   "metadata": {},
   "source": [
    "# Ejercicio 1"
   ]
  },
  {
   "cell_type": "markdown",
   "metadata": {},
   "source": [
    "Dado el siguiente array de Numpy:\n",
    "\n",
    "array = np.array([10,20,30])\n",
    "\n",
    "Se pide:\n",
    "\n",
    "a) Transformar el array en una lista (lista de nombre \"L\")\n",
    "\n",
    "b) Una vez creada esa lista L, modificar la lista en su posición 1, por 200\n",
    "\n",
    "c) Tras responder a) y b) trata de añadir el valor 40 al final de la lista"
   ]
  },
  {
   "cell_type": "markdown",
   "metadata": {},
   "source": [
    "****"
   ]
  },
  {
   "cell_type": "code",
   "execution_count": 7,
   "metadata": {},
   "outputs": [
    {
     "name": "stdout",
     "output_type": "stream",
     "text": [
      "El array [10 20 30] se tranforma en la siguiente  Lista es [10, 20, 30]\n"
     ]
    }
   ],
   "source": [
    "array = np.array([10,20,30])\n",
    "L=array.tolist()\n",
    "print(f\"El array {array} se tranforma en la siguiente  Lista es {L}\")"
   ]
  },
  {
   "cell_type": "code",
   "execution_count": 9,
   "metadata": {},
   "outputs": [
    {
     "name": "stdout",
     "output_type": "stream",
     "text": [
      "La lista modificada es [200, 20, 30]\n"
     ]
    }
   ],
   "source": [
    "def modifica_valor(lista,posicion,valor):\n",
    "    lista[posicion]=valor\n",
    "    return lista\n",
    "\n",
    "L=modifica_valor(L,0,200)\n",
    "\n",
    "print (f\"La lista modificada es {L}\")"
   ]
  },
  {
   "cell_type": "code",
   "execution_count": 10,
   "metadata": {},
   "outputs": [
    {
     "name": "stdout",
     "output_type": "stream",
     "text": [
      "La lista modificada es [200, 20, 30, 40]\n"
     ]
    }
   ],
   "source": [
    "L.append(40)\n",
    "print (f\"La lista modificada es {L}\")"
   ]
  },
  {
   "cell_type": "markdown",
   "metadata": {},
   "source": [
    "# Ejercicio 2"
   ]
  },
  {
   "cell_type": "markdown",
   "metadata": {},
   "source": [
    "Queremos recorrer esta lista: L = [100,200,300,400]\n",
    "\n",
    "Teniendo en cuenta que queremos obtener aquellos valores < 150\n",
    "\n",
    "(y almacenarlos en una lista)\n",
    "\n",
    "Hazlo, si sabes de varias formas posibles."
   ]
  },
  {
   "cell_type": "code",
   "execution_count": 16,
   "metadata": {},
   "outputs": [
    {
     "name": "stdout",
     "output_type": "stream",
     "text": [
      "La nueva lista seria [100]\n"
     ]
    }
   ],
   "source": [
    "L = [100,200,300,400]\n",
    "\n",
    "def nueva_lista(lista):\n",
    "    solucion=[]\n",
    "    for numero in lista:\n",
    "        if (numero<150):\n",
    "            solucion.append(numero)\n",
    "    return solucion\n",
    "\n",
    "lista_menor150=nueva_lista(L)\n",
    "\n",
    "print(f\"La nueva lista seria {lista_menor150}\")\n",
    "    "
   ]
  },
  {
   "cell_type": "markdown",
   "metadata": {},
   "source": [
    "****"
   ]
  },
  {
   "cell_type": "code",
   "execution_count": 84,
   "metadata": {},
   "outputs": [
    {
     "name": "stdout",
     "output_type": "stream",
     "text": [
      "[100]\n"
     ]
    }
   ],
   "source": [
    "nueva_lista=[n for n in L if n<150]\n",
    "\n",
    "print(nueva_lista)"
   ]
  },
  {
   "cell_type": "markdown",
   "metadata": {},
   "source": [
    "# Ejercicio 3"
   ]
  },
  {
   "cell_type": "markdown",
   "metadata": {},
   "source": [
    "Crea un diccionario que tenga la nota de 3 asignaturas y \n",
    "\n",
    "haz un pequeño algoritmo que calcule la nota media"
   ]
  },
  {
   "cell_type": "code",
   "execution_count": 2,
   "metadata": {},
   "outputs": [],
   "source": [
    "# CURSO         -> Nota\n",
    "# ---------------------\n",
    "# Matemáticas   ->  10\n",
    "# Historia      ->  8\n",
    "# Inglés        ->  6"
   ]
  },
  {
   "cell_type": "code",
   "execution_count": 40,
   "metadata": {},
   "outputs": [
    {
     "name": "stdout",
     "output_type": "stream",
     "text": [
      "{'Matemáticas': 10, 'Historia Data': 8, 'Inglés': 6}\n",
      "La mendia del alumnos es 8.0\n",
      "La mendia del alumnos es 8\n"
     ]
    }
   ],
   "source": [
    "notasAlumno = {\"Matemáticas\": 10, \"Historia Data\": 8, \"Inglés\": 6}\n",
    "\n",
    "print(notasAlumno)\n",
    "\n",
    "def media(dicionario):\n",
    "    nota_valor = [valor for valor in notasAlumno.values()]\n",
    "    return sum(nota_valor)/len(nota_valor)\n",
    "\n",
    "calculoummedia=media(notasAlumno)\n",
    "print(f\"La mendia del alumnos es {calculoummedia}\")\n",
    "\n",
    "valor=mean(notasAlumno.values())\n",
    "\n",
    "print(f\"La mendia del alumnos es {valor}\")"
   ]
  },
  {
   "cell_type": "markdown",
   "metadata": {},
   "source": [
    "**1)** Muestra el valor de las claves"
   ]
  },
  {
   "cell_type": "code",
   "execution_count": 19,
   "metadata": {},
   "outputs": [
    {
     "name": "stdout",
     "output_type": "stream",
     "text": [
      "[10, 8, 6]\n"
     ]
    }
   ],
   "source": [
    "nota_valor = [valor for valor in notasAlumno.values()]\n",
    "\n",
    "\n",
    "print(nota_valor)"
   ]
  },
  {
   "cell_type": "code",
   "execution_count": 22,
   "metadata": {},
   "outputs": [
    {
     "name": "stdout",
     "output_type": "stream",
     "text": [
      "dict_values([10, 8, 6])\n"
     ]
    }
   ],
   "source": [
    "def valores(diccionario):\n",
    "    return diccionario.values()\n",
    "\n",
    "print(valores(notasAlumno))"
   ]
  },
  {
   "cell_type": "markdown",
   "metadata": {},
   "source": [
    "**2)** Muestra el valor de los valores del diccionario"
   ]
  },
  {
   "cell_type": "code",
   "execution_count": null,
   "metadata": {},
   "outputs": [],
   "source": [
    "def claves(diccionario):\n",
    "    return diccionario.keys()\n",
    "print(claves(notasAlumno))"
   ]
  },
  {
   "cell_type": "code",
   "execution_count": 23,
   "metadata": {},
   "outputs": [
    {
     "name": "stdout",
     "output_type": "stream",
     "text": [
      "['Matemáticas', 'Historia Data', 'Inglés']\n"
     ]
    }
   ],
   "source": [
    "asignaturas = [valor for valor in notasAlumno.keys()]\n",
    "print(asignaturas)"
   ]
  },
  {
   "cell_type": "markdown",
   "metadata": {},
   "source": [
    "**3)** Apendiza en el diccionario un nuevo elemento: \n",
    "    \n",
    "Lengua  --> 9"
   ]
  },
  {
   "cell_type": "code",
   "execution_count": 43,
   "metadata": {},
   "outputs": [
    {
     "name": "stdout",
     "output_type": "stream",
     "text": [
      "{'Matemáticas': 10, 'Historia Data': 8, 'Inglés': 6, 'Lengua': 9}\n"
     ]
    }
   ],
   "source": [
    "notasAlumno[\"Lengua\"] = 9\n",
    "print(notasAlumno)"
   ]
  },
  {
   "cell_type": "markdown",
   "metadata": {},
   "source": [
    "**4)** Haciendo uso un bucle muestra la clave y el valor del diccionario, cuyo resultado final sean listas anidadas.\n",
    "\n",
    "[[\"clave1\", valor1], [\"clave2\", valor2]]"
   ]
  },
  {
   "cell_type": "code",
   "execution_count": 44,
   "metadata": {},
   "outputs": [
    {
     "name": "stdout",
     "output_type": "stream",
     "text": [
      "[['Matemáticas', 10], ['Historia Data', 8], ['Inglés', 6], ['Lengua', 9]]\n"
     ]
    }
   ],
   "source": [
    "def mostra_informacion(dici):\n",
    "    lista_imprimir=[]\n",
    "    for key,value in dici.items():\n",
    "        informa=[]\n",
    "        informa.append(key)\n",
    "        informa.append(value)\n",
    "        lista_imprimir.append(informa)\n",
    "    return lista_imprimir\n",
    "print(mostra_informacion(notasAlumno))"
   ]
  },
  {
   "cell_type": "markdown",
   "metadata": {},
   "source": [
    "**5)** Reconvierte el diccionario para transformarlo en un dataframe y busca la asignatura con la nota más alta"
   ]
  },
  {
   "cell_type": "code",
   "execution_count": 45,
   "metadata": {},
   "outputs": [
    {
     "name": "stdout",
     "output_type": "stream",
     "text": [
      "[10, 8, 6, 9]\n"
     ]
    }
   ],
   "source": [
    "nota_valor = [valor for valor in notasAlumno.values()]\n",
    "\n",
    "\n",
    "print(nota_valor)"
   ]
  },
  {
   "cell_type": "code",
   "execution_count": 46,
   "metadata": {},
   "outputs": [
    {
     "name": "stdout",
     "output_type": "stream",
     "text": [
      "['Matemáticas', 'Historia Data', 'Inglés', 'Lengua']\n"
     ]
    }
   ],
   "source": [
    "asignaturas = [valor for valor in notasAlumno.keys()]\n",
    "print(asignaturas)"
   ]
  },
  {
   "cell_type": "code",
   "execution_count": 48,
   "metadata": {},
   "outputs": [],
   "source": [
    "df = pd.DataFrame({\"Asignatura\": asignaturas, \"Nota\": nota_valor})"
   ]
  },
  {
   "cell_type": "code",
   "execution_count": 49,
   "metadata": {},
   "outputs": [
    {
     "name": "stdout",
     "output_type": "stream",
     "text": [
      "      Asignatura  Nota\n",
      "0    Matemáticas    10\n",
      "1  Historia Data     8\n",
      "2         Inglés     6\n",
      "3         Lengua     9\n"
     ]
    }
   ],
   "source": [
    "print(df)"
   ]
  },
  {
   "cell_type": "code",
   "execution_count": 50,
   "metadata": {},
   "outputs": [],
   "source": [
    "maximo=max(df.Nota)"
   ]
  },
  {
   "cell_type": "markdown",
   "metadata": {},
   "source": [
    "**6)** ¿y la nota más baja?"
   ]
  },
  {
   "cell_type": "code",
   "execution_count": 52,
   "metadata": {},
   "outputs": [],
   "source": [
    "menor=min(df.Nota)"
   ]
  },
  {
   "cell_type": "code",
   "execution_count": 53,
   "metadata": {},
   "outputs": [
    {
     "name": "stdout",
     "output_type": "stream",
     "text": [
      "Nota más alta: 10 y la menor 6\n"
     ]
    }
   ],
   "source": [
    "print(f\"Nota más alta: {maximo} y la menor {menor}\")"
   ]
  },
  {
   "cell_type": "markdown",
   "metadata": {},
   "source": [
    "**7)** Ordena el dataframe en orden descendente:"
   ]
  },
  {
   "cell_type": "code",
   "execution_count": 54,
   "metadata": {},
   "outputs": [
    {
     "name": "stdout",
     "output_type": "stream",
     "text": [
      "      Asignatura  Nota\n",
      "0    Matemáticas    10\n",
      "3         Lengua     9\n",
      "1  Historia Data     8\n",
      "2         Inglés     6\n"
     ]
    }
   ],
   "source": [
    "print(df.sort_values(by=\"Nota\", ascending=False))"
   ]
  },
  {
   "cell_type": "markdown",
   "metadata": {},
   "source": [
    "****"
   ]
  },
  {
   "cell_type": "markdown",
   "metadata": {},
   "source": [
    "# Ejercicio 4"
   ]
  },
  {
   "cell_type": "markdown",
   "metadata": {},
   "source": [
    "Dado este listado de números:"
   ]
  },
  {
   "cell_type": "markdown",
   "metadata": {},
   "source": [
    "-8, 350, 0, 799, 200, -30, 650, 0, 1650, 900"
   ]
  },
  {
   "cell_type": "markdown",
   "metadata": {},
   "source": [
    "Haz un pequeño algoritmo que haga lo siguiente:\n",
    "* Si el número es negativo debe imprimir lo siguiente **el valor es negativo**\n",
    "* Si es 0 debe imprimir un mensaje que indique: **0**\n",
    "* Si se encuentra entre 0 (no incluido) y 400 (si incluido), imprime **0,400**\n",
    "* Si se encuentra entre 600 (no incluido) y 800 (no incluido), debe imprimir **(600, 800)**\n",
    "* Si es 200 debe **continuar** sin hacer nada\n",
    "* Si se encuentra entre 800 (no incluido) y 1000 (no incluido) debe **saltar automaticamente y dejar de testear** (parar)\n",
    "* Para el resto de números, debe decir: **valor demasiado grande, desde 1000, en adelante**"
   ]
  },
  {
   "cell_type": "markdown",
   "metadata": {},
   "source": [
    "****"
   ]
  },
  {
   "cell_type": "code",
   "execution_count": 55,
   "metadata": {},
   "outputs": [
    {
     "name": "stdout",
     "output_type": "stream",
     "text": [
      "[-8, 350, 0, 799, 200, -30, 650, 0, 1650, 900]\n"
     ]
    }
   ],
   "source": [
    "listado=[-8, 350, 0, 799, 200, -30, 650, 0, 1650, 900]\n",
    "print(listado)"
   ]
  },
  {
   "cell_type": "code",
   "execution_count": 57,
   "metadata": {},
   "outputs": [
    {
     "name": "stdout",
     "output_type": "stream",
     "text": [
      "el valor es negativo\n",
      "0,400\n",
      "0\n",
      "(600, 800)\n",
      "el valor es negativo\n",
      "(600, 800)\n",
      "0\n",
      "valor demasiado grande, desde 1000, en adelante\n",
      "saltar automaticamente y dejar de testear\n"
     ]
    }
   ],
   "source": [
    "def imprimir(lista):\n",
    "    for numero in lista:\n",
    "        if numero < 0:\n",
    "            print(f\"el valor es negativo\")\n",
    "        elif numero == 0:\n",
    "            print(f\"0\")\n",
    "        elif numero == 200:\n",
    "            continue    \n",
    "        elif 0 < numero <= 400:\n",
    "            print(f\"0,400\")\n",
    "        elif 600 < numero < 800:\n",
    "            print(f\"(600, 800)\")\n",
    "      \n",
    "        elif 800 < numero < 1000:\n",
    "            print(f\"saltar automaticamente y dejar de testear\")\n",
    "            break\n",
    "        else:\n",
    "            print(f\"valor demasiado grande, desde 1000, en adelante\")\n",
    "            \n",
    "imprimir(listado)"
   ]
  },
  {
   "cell_type": "markdown",
   "metadata": {},
   "source": [
    "# Ejercicio 5"
   ]
  },
  {
   "cell_type": "markdown",
   "metadata": {},
   "source": [
    "**1)** Crea una lista de nombre \"Concursante\" que contenga los siguientes valores:\n",
    "\n",
    "\"Teodoro\", \"Cristina\", \"Antonio\", \"Marina\", \"Laura\", \"Felix\", \"Jose\", \"Estefania\""
   ]
  },
  {
   "cell_type": "code",
   "execution_count": 58,
   "metadata": {},
   "outputs": [
    {
     "data": {
      "text/plain": [
       "['Teodoro',\n",
       " 'Cristina',\n",
       " 'Antonio',\n",
       " 'Marina',\n",
       " 'Laura',\n",
       " 'Felix',\n",
       " 'Jose',\n",
       " 'Estefania']"
      ]
     },
     "execution_count": 58,
     "metadata": {},
     "output_type": "execute_result"
    }
   ],
   "source": [
    "Concursante=[\"Teodoro\", \"Cristina\", \"Antonio\", \"Marina\", \"Laura\", \"Felix\", \"Jose\", \"Estefania\"]\n",
    "Concursante"
   ]
  },
  {
   "cell_type": "markdown",
   "metadata": {},
   "source": [
    "**2)** Crea una lista de nombre \"Resultados\" que contenga los siguientes valores:\n",
    "\n",
    "40, 20, 50, 3, 50, 5, 60, 40"
   ]
  },
  {
   "cell_type": "code",
   "execution_count": 63,
   "metadata": {},
   "outputs": [
    {
     "data": {
      "text/plain": [
       "[40, 20, 50, 3, 50, 5, 60, 40]"
      ]
     },
     "execution_count": 63,
     "metadata": {},
     "output_type": "execute_result"
    }
   ],
   "source": [
    "Resutaldo=[40, 20, 50, 3, 50, 5, 60, 40]\n",
    "Resutaldo"
   ]
  },
  {
   "cell_type": "markdown",
   "metadata": {},
   "source": [
    "**3)** Con ayuda de las listas anteriores crea un diccionario con los concursantes y los resultados."
   ]
  },
  {
   "cell_type": "code",
   "execution_count": 64,
   "metadata": {},
   "outputs": [
    {
     "name": "stdout",
     "output_type": "stream",
     "text": [
      "{'Concursantes': ['Teodoro', 'Cristina', 'Antonio', 'Marina', 'Laura', 'Felix', 'Jose', 'Estefania'], 'Resutaldos': [40, 20, 50, 3, 50, 5, 60, 40]}\n"
     ]
    }
   ],
   "source": [
    "diccionario={\"Concursantes\":Concursante,\"Resutaldos\":Resutaldo}\n",
    "print(diccionario)"
   ]
  },
  {
   "cell_type": "markdown",
   "metadata": {},
   "source": [
    "**4)** Crea un dataframe vacio y apendiza los concursantes y los resultados mediante el empleo de un bucle for"
   ]
  },
  {
   "cell_type": "code",
   "execution_count": 66,
   "metadata": {},
   "outputs": [
    {
     "name": "stdout",
     "output_type": "stream",
     "text": [
      "  Concursantes  Resutaldos\n",
      "0      Teodoro          40\n",
      "1     Cristina          20\n",
      "2      Antonio          50\n",
      "3       Marina           3\n",
      "4        Laura          50\n",
      "5        Felix           5\n",
      "6         Jose          60\n",
      "7    Estefania          40\n"
     ]
    }
   ],
   "source": [
    "def create_dfvacio(data):\n",
    "    df = pd.DataFrame(columns=[\"Concursantes\", \"Resutaldos\"])\n",
    "    for key, value in data.items():\n",
    "        df[key] = value\n",
    "    return df\n",
    "\n",
    "dfconcursante=create_dfvacio(diccionario)\n",
    "print(dfconcursante)"
   ]
  },
  {
   "cell_type": "markdown",
   "metadata": {},
   "source": [
    "**5)** Con ayuda de loc filtra los resultados obtenidos desde Antonio hasta Jose."
   ]
  },
  {
   "cell_type": "code",
   "execution_count": 70,
   "metadata": {},
   "outputs": [
    {
     "name": "stdout",
     "output_type": "stream",
     "text": [
      "  Concursantes  Resutaldos\n",
      "2      Antonio          50\n",
      "3       Marina           3\n",
      "4        Laura          50\n",
      "5        Felix           5\n",
      "6         Jose          60\n"
     ]
    }
   ],
   "source": [
    "print(dfconcursante.loc[2:6, :])\n"
   ]
  },
  {
   "cell_type": "code",
   "execution_count": 74,
   "metadata": {},
   "outputs": [
    {
     "name": "stdout",
     "output_type": "stream",
     "text": [
      "  Concursantes  Resutaldos\n",
      "2      Antonio          50\n",
      "3       Marina           3\n",
      "4        Laura          50\n",
      "5        Felix           5\n",
      "6         Jose          60\n"
     ]
    }
   ],
   "source": [
    "def buscar_indice(df,cadena):\n",
    "    return df.loc[df.Concursantes ==cadena]\n",
    "df_primero=buscar_indice(dfconcursante,\"Antonio\")\n",
    "df_segundo=buscar_indice(dfconcursante,\"Jose\")\n",
    "valor1=df_primero.index[0]\n",
    "valor2=df_segundo.index[0]\n",
    "print(dfconcursante.loc[valor1:valor2,:])\n"
   ]
  },
  {
   "cell_type": "markdown",
   "metadata": {},
   "source": [
    "**6)** Con ayuda de loc filtra los resultados obtenidos mayores o iguales a 40"
   ]
  },
  {
   "cell_type": "code",
   "execution_count": 75,
   "metadata": {},
   "outputs": [
    {
     "name": "stdout",
     "output_type": "stream",
     "text": [
      "  Concursantes  Resutaldos\n",
      "0      Teodoro          40\n",
      "2      Antonio          50\n",
      "4        Laura          50\n",
      "6         Jose          60\n",
      "7    Estefania          40\n"
     ]
    }
   ],
   "source": [
    "print(dfconcursante.loc[dfconcursante[\"Resutaldos\"] >= 40])"
   ]
  },
  {
   "cell_type": "markdown",
   "metadata": {},
   "source": [
    "**7)** Muestra el concursante con la mayor puntuación"
   ]
  },
  {
   "cell_type": "code",
   "execution_count": 76,
   "metadata": {},
   "outputs": [
    {
     "name": "stdout",
     "output_type": "stream",
     "text": [
      "60\n",
      "Concursantes    Teodoro\n",
      "Resutaldos           60\n",
      "dtype: object\n"
     ]
    }
   ],
   "source": [
    "print(dfconcursante.Resutaldos.max())\n",
    "print(dfconcursante.max())"
   ]
  },
  {
   "cell_type": "markdown",
   "metadata": {},
   "source": [
    "**8)**Muestra el concursante con la menor puntuación"
   ]
  },
  {
   "cell_type": "code",
   "execution_count": 77,
   "metadata": {},
   "outputs": [
    {
     "name": "stdout",
     "output_type": "stream",
     "text": [
      "Concursantes    Antonio\n",
      "Resutaldos            3\n",
      "dtype: object\n",
      "3\n"
     ]
    }
   ],
   "source": [
    "print(dfconcursante.min())\n",
    "print(dfconcursante.Resutaldos.min())"
   ]
  },
  {
   "cell_type": "markdown",
   "metadata": {},
   "source": [
    "**9)** Modifica con la ayuda de loc los valores 50 por 0"
   ]
  },
  {
   "cell_type": "code",
   "execution_count": 79,
   "metadata": {},
   "outputs": [
    {
     "name": "stdout",
     "output_type": "stream",
     "text": [
      "  Concursantes  Resutaldos\n",
      "0      Teodoro          40\n",
      "1     Cristina          20\n",
      "2      Antonio           0\n",
      "3       Marina           3\n",
      "4        Laura           0\n",
      "5        Felix           5\n",
      "6         Jose          60\n",
      "7    Estefania          40\n"
     ]
    }
   ],
   "source": [
    "dfconcursante.loc[dfconcursante[\"Resutaldos\"] == 50, 'Resutaldos'] = 0\n",
    "\n",
    "print(dfconcursante)"
   ]
  },
  {
   "cell_type": "markdown",
   "metadata": {},
   "source": [
    "**10)** Modifica Concursante \"Marina\" su puntuación por \"50\" con ayuda de .loc"
   ]
  },
  {
   "cell_type": "code",
   "execution_count": 80,
   "metadata": {},
   "outputs": [
    {
     "name": "stdout",
     "output_type": "stream",
     "text": [
      "  Concursantes  Resutaldos\n",
      "0      Teodoro          40\n",
      "1     Cristina          20\n",
      "2      Antonio           0\n",
      "3       Marina          50\n",
      "4        Laura           0\n",
      "5        Felix           5\n",
      "6         Jose          60\n",
      "7    Estefania          40\n"
     ]
    }
   ],
   "source": [
    "dfconcursante.loc[dfconcursante[\"Concursantes\"] == \"Marina\",'Resutaldos']=50\n",
    "\n",
    "print(dfconcursante)"
   ]
  },
  {
   "cell_type": "markdown",
   "metadata": {},
   "source": [
    "Gracias por la atención\n",
    "\n",
    "*Isabel Maniega*"
   ]
  }
 ],
 "metadata": {
  "kernelspec": {
   "display_name": "Python 3 (ipykernel)",
   "language": "python",
   "name": "python3"
  },
  "language_info": {
   "codemirror_mode": {
    "name": "ipython",
    "version": 3
   },
   "file_extension": ".py",
   "mimetype": "text/x-python",
   "name": "python",
   "nbconvert_exporter": "python",
   "pygments_lexer": "ipython3",
   "version": "3.8.10"
  }
 },
 "nbformat": 4,
 "nbformat_minor": 2
}
