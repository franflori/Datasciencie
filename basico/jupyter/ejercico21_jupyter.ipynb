{
 "cells": [
  {
   "cell_type": "code",
   "execution_count": 1,
   "id": "31e3d5a6",
   "metadata": {},
   "outputs": [],
   "source": [
    "import pandas as pd"
   ]
  },
  {
   "cell_type": "markdown",
   "id": "d4fd1e91",
   "metadata": {},
   "source": [
    "\"\"\"\n",
    "    Escriba una función es_bisiesto() que determine si un año determinado es un año\n",
    "    bisiesto. Un año bisiesto es divisible por 4, pero no por 100.\n",
    "    También es divisible por 400.\n",
    "\"\"\""
   ]
  },
  {
   "cell_type": "code",
   "execution_count": 2,
   "id": "60d2fb6c",
   "metadata": {},
   "outputs": [],
   "source": [
    "def es_bisiesto(anio):\n",
    "    if( anio %4==0 and anio %100!=0) or anio %400==0:\n",
    "        return True\n",
    "    return False\n"
   ]
  },
  {
   "cell_type": "code",
   "execution_count": 3,
   "id": "c5f72000",
   "metadata": {},
   "outputs": [
    {
     "data": {
      "text/plain": [
       "True"
      ]
     },
     "execution_count": 3,
     "metadata": {},
     "output_type": "execute_result"
    }
   ],
   "source": [
    "es_bisiesto(400)"
   ]
  },
  {
   "cell_type": "code",
   "execution_count": 4,
   "id": "d8f2e8ab",
   "metadata": {},
   "outputs": [
    {
     "data": {
      "text/plain": [
       "False"
      ]
     },
     "execution_count": 4,
     "metadata": {},
     "output_type": "execute_result"
    }
   ],
   "source": [
    "es_bisiesto(100)"
   ]
  },
  {
   "cell_type": "markdown",
   "id": "f4c95180",
   "metadata": {},
   "source": [
    "\"\"\"\n",
    "    Haz un programa que pida al usuario una cantidad de dolares, una tasa de interés y un numero de años.\n",
    "    Muestra por pantalla en cuanto se habrá convertido el capital inicial transcurridos\n",
    "    esos años si cada año se aplica la tasa de interés introducida.\n",
    "    Recordar que un capital C dolares a un interés del x por cien durante n años\n",
    "    se convierte en C * (1 + x/100)elevado a n (años). Probar el programa\n",
    "    sabiendo que una cantidad de 10000 dolares al 4.5% de interés anual se convierte en 24117.14 dolares al cabo de 20 años.\n",
    "\"\"\""
   ]
  },
  {
   "cell_type": "code",
   "execution_count": 5,
   "id": "2c6ec00e",
   "metadata": {},
   "outputs": [],
   "source": [
    "def comprobar_error_teclado( texto,type):\n",
    "    while True:\n",
    "        try:\n",
    "            valor=type(input(texto))\n",
    "            return valor\n",
    "        except Exception as e:\n",
    "            print(\"Error: %s\" % str(e))\n"
   ]
  },
  {
   "cell_type": "code",
   "execution_count": 6,
   "id": "7ebb9f43",
   "metadata": {},
   "outputs": [],
   "source": [
    "def hipoteca(dolares,interes,anio):\n",
    "\n",
    "    total=dolares*(1+interes/100)**anio\n",
    "    \n",
    "    return total"
   ]
  },
  {
   "cell_type": "code",
   "execution_count": 8,
   "id": "3e481738",
   "metadata": {},
   "outputs": [
    {
     "name": "stdout",
     "output_type": "stream",
     "text": [
      "Introduzca cantidad de dolares 2\n",
      "Introduzca tasa de interés 2\n",
      "Número de años 2\n",
      "Capital Total  2.08\n"
     ]
    }
   ],
   "source": [
    "dolares=comprobar_error_teclado(\"Introduzca cantidad de dolares \",int)\n",
    "interes=comprobar_error_teclado(\"Introduzca tasa de interés \",float)\n",
    "anio=comprobar_error_teclado(\"Número de años \",int)\n",
    "print(\"Capital Total \",round(hipoteca(dolares,interes,anio),2))"
   ]
  },
  {
   "cell_type": "markdown",
   "id": "3a05900e",
   "metadata": {},
   "source": [
    " Este programa muestra primero el listado de categorías de películas\n",
    "    y pide al usuario que introduzca el código de la categoría de la película\n",
    "    y posterior a ello pide que el usuario introduzca el número de días de atraso,\n",
    "    y así se muestra al final el total a pagar."
   ]
  },
  {
   "cell_type": "markdown",
   "id": "379be2e8",
   "metadata": {},
   "source": [
    "\n",
    "CATEGORIA     PRECIO  CODIGO  RECARGO/DIA DE ATRASO\n",
    "\n",
    "FAVORITOS      2.50      1          0.50\n",
    "\n",
    "NUEVOS         3.00      2          0.75\n",
    "\n",
    "ESTRENOS       3.50      3          1.00\n",
    "\n",
    "SUPER ESTRENOS 4.00      4          1.50\n"
   ]
  },
  {
   "cell_type": "code",
   "execution_count": 9,
   "id": "6bae53d9",
   "metadata": {},
   "outputs": [],
   "source": [
    "categoria=[\"FAVORITOS\",\"NUEVOS\",\"ESTRENOS\",\"SUPER ESTRENOS\"]\n",
    "precio=[2.50,3.00,3.50,4.00]\n",
    "codigo=[1,2,3,4]\n",
    "recargo=[0.50,0.75,1.00,1.50]"
   ]
  },
  {
   "cell_type": "code",
   "execution_count": 10,
   "id": "6b96c67a",
   "metadata": {},
   "outputs": [
    {
     "name": "stdout",
     "output_type": "stream",
     "text": [
      "       categorias  precios  codigos  recargos\n",
      "0       FAVORITOS      2.5        1      0.50\n",
      "1          NUEVOS      3.0        2      0.75\n",
      "2        ESTRENOS      3.5        3      1.00\n",
      "3  SUPER ESTRENOS      4.0        4      1.50\n"
     ]
    }
   ],
   "source": [
    "df = pd.DataFrame({\"categorias\": categoria, \"precios\": precio,\"codigos\": codigo,\"recargos\": recargo})\n",
    "print(df)"
   ]
  },
  {
   "cell_type": "code",
   "execution_count": 30,
   "id": "3e0b6b35",
   "metadata": {},
   "outputs": [],
   "source": [
    "def calculoPagar(df,codCategoria,dia):\n",
    "\n",
    "    while True:\n",
    "            print (df)\n",
    "            print(codCategoria)\n",
    "            print(df[df.codigos==codCategoria])\n",
    "            \n",
    "            df_selecionada=df[df[\"codigos\"]==codCategoria]\n",
    "\n",
    "\n",
    "            if(len(df_selecionada)>0):\n",
    "                precio=float(df_selecionada.precios)\n",
    "                recargo=float(df_selecionada.recargos)\n",
    "               \n",
    "\n",
    "                return float(precio+(recargo*dia))\n",
    "                break\n",
    "            else :\n",
    "                print(\"No existe ningun el codigo \")\n",
    "                codCategoria=int(input(\" Introduczca Codigo de categoria \"))\n",
    "\n",
    "    "
   ]
  },
  {
   "cell_type": "code",
   "execution_count": 31,
   "id": "5c16cafd",
   "metadata": {},
   "outputs": [
    {
     "name": "stdout",
     "output_type": "stream",
     "text": [
      "Codigo de categoria 23\n",
      "Número de dias 2\n",
      "       categorias  precios  codigos  recargos\n",
      "0       FAVORITOS      2.5        1      0.50\n",
      "1          NUEVOS      3.0        2      0.75\n",
      "2        ESTRENOS      3.5        3      1.00\n",
      "3  SUPER ESTRENOS      4.0        4      1.50\n",
      "23\n",
      "Empty DataFrame\n",
      "Columns: [categorias, precios, codigos, recargos]\n",
      "Index: []\n",
      "No existe ningun el codigo \n",
      " Introduczca Codigo de categoria 2\n",
      "       categorias  precios  codigos  recargos\n",
      "0       FAVORITOS      2.5        1      0.50\n",
      "1          NUEVOS      3.0        2      0.75\n",
      "2        ESTRENOS      3.5        3      1.00\n",
      "3  SUPER ESTRENOS      4.0        4      1.50\n",
      "2\n",
      "  categorias  precios  codigos  recargos\n",
      "1     NUEVOS      3.0        2      0.75\n",
      "3.0 0.75\n",
      " Total a pagar.... 4.5\n"
     ]
    }
   ],
   "source": [
    "codCategoria=int(input(\"Codigo de categoria \"))\n",
    "dias=comprobar_error_teclado(\"Número de dias \",int)\n",
    "print(\" Total a pagar....\",calculoPagar(df,codCategoria,dias))"
   ]
  },
  {
   "cell_type": "code",
   "execution_count": null,
   "id": "0f955537",
   "metadata": {},
   "outputs": [],
   "source": []
  }
 ],
 "metadata": {
  "kernelspec": {
   "display_name": "Python 3 (ipykernel)",
   "language": "python",
   "name": "python3"
  },
  "language_info": {
   "codemirror_mode": {
    "name": "ipython",
    "version": 3
   },
   "file_extension": ".py",
   "mimetype": "text/x-python",
   "name": "python",
   "nbconvert_exporter": "python",
   "pygments_lexer": "ipython3",
   "version": "3.8.10"
  }
 },
 "nbformat": 4,
 "nbformat_minor": 5
}
