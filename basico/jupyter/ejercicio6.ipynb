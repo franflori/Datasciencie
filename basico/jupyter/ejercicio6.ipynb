{
 "cells": [
  {
   "cell_type": "markdown",
   "id": "114fdbc6",
   "metadata": {},
   "source": [
    "Ejercicio 1\n",
    "Mínimo de una lista de números (lista de nombre \"listado\")\n",
    "30, 20, 10, 50, 40\n",
    "\n",
    "1) Escribe el listado e ímprimelo\n",
    "\n",
    "2) Prueba con min(listado)\n",
    "\n",
    "3) Realiza lo mismo pero con bucles y condicionales\n"
   ]
  },
  {
   "cell_type": "code",
   "execution_count": 13,
   "id": "ab5fc3e2",
   "metadata": {},
   "outputs": [
    {
     "name": "stdout",
     "output_type": "stream",
     "text": [
      "[30, 20, 10, 50, 40]\n",
      "minimo 10\n",
      "minimo 10\n"
     ]
    }
   ],
   "source": [
    "listado=[30, 20, 10, 50, 40]\n",
    "print( listado)\n",
    "print (\"minimo \"+ str(min(listado)) )\n",
    "numMin=listado[0]\n",
    "\n",
    "for i in listado:\n",
    "    if(numMin>i):\n",
    "        numMin=i\n",
    "\n",
    "print (\"minimo \"+ str(numMin))"
   ]
  },
  {
   "cell_type": "markdown",
   "id": "fa28cce6",
   "metadata": {},
   "source": [
    "Ejercicio 2\n",
    "\n",
    "Máximo de una lista de números (lista de nombre \"listado\")\n",
    "\n",
    "30, 20, 10, 50, 40\n",
    "\n",
    "1) Escribe el listado e ímprimelo\n",
    "\n",
    "2) Prueba con max(listado)\n",
    "\n",
    "3) Realiza lo mismo pero con bucles y condicionales"
   ]
  },
  {
   "cell_type": "code",
   "execution_count": 15,
   "id": "91f1e4b3",
   "metadata": {},
   "outputs": [
    {
     "name": "stdout",
     "output_type": "stream",
     "text": [
      "[30, 20, 10, 50, 40]\n",
      "maximo 50\n",
      "minimo 50\n"
     ]
    }
   ],
   "source": [
    "listado=[30, 20, 10, 50, 40]\n",
    "print( listado)\n",
    "print (\"maximo \"+ str(max(listado)) )\n",
    "numMax=0\n",
    "\n",
    "for i in listado:\n",
    "    if(numMax<i):\n",
    "        numMax=i\n",
    "\n",
    "print (\"minimo \"+ str(numMax))\n"
   ]
  },
  {
   "cell_type": "markdown",
   "id": "1ff094e0",
   "metadata": {},
   "source": [
    "Ejercicio 3\n",
    "\n",
    "Ordena de menor a mayor un listado de números: 30, 20, 10, 50, 40 (de nombre \"listado\")\n",
    "    \n",
    "Pista: si quieres almacena esos números en una lista de nombre: \"listado_ascendente\"\n",
    "        \n",
    "1) Escribe el listado e ímprimelo\n",
    "\n",
    "2) Prueba a usar sort()\n",
    "\n",
    "3) Realiza lo mismo pero con bucles y condicionales\n"
   ]
  },
  {
   "cell_type": "code",
   "execution_count": 104,
   "id": "507d1679",
   "metadata": {},
   "outputs": [
    {
     "name": "stdout",
     "output_type": "stream",
     "text": [
      "[10, 20, 30, 40, 50]\n",
      "[50, 40, 30, 20, 10]\n",
      "9\n",
      "10\n",
      "20\n",
      "30\n",
      "40\n",
      "[10, 20, 30, 40, 50]\n"
     ]
    }
   ],
   "source": [
    "listado=[30, 20, 10, 50, 40]\n",
    "\n",
    "listado.sort()\n",
    "print( listado)\n",
    "\n",
    "listado=[30, 20, 10, 50, 40]\n",
    "\n",
    "listado_ascendente=[]\n",
    "maxMin=min(listado)-1\n",
    "for j in listado:\n",
    "    numMin=max(listado)\n",
    "    print(maxMin)\n",
    "    for i in listado:\n",
    "        if(i>maxMin):\n",
    "            if(numMin>i):\n",
    "                numMin=i\n",
    "\n",
    "    \n",
    "    listado_ascendente.append(numMin)\n",
    "  \n",
    "    \n",
    "\n",
    "    maxMin=numMin\n",
    "print( listado_ascendente)\n",
    "\n",
    "\n",
    "    \n",
    "    \n",
    "    "
   ]
  },
  {
   "cell_type": "code",
   "execution_count": 106,
   "id": "5172b980",
   "metadata": {},
   "outputs": [
    {
     "name": "stdout",
     "output_type": "stream",
     "text": [
      "[50, 40, 30, 20, 10]\n",
      "51\n",
      "50\n",
      "40\n",
      "30\n",
      "20\n",
      "[50, 40, 30, 20, 10]\n"
     ]
    }
   ],
   "source": [
    "listado=[30, 20, 10, 50, 40]\n",
    "listado.sort(reverse=True)\n",
    "print( listado)\n",
    "listado=[30, 20, 10, 50, 40]\n",
    "\n",
    "listado_cendente=[]\n",
    "maxMax=max(listado)+1\n",
    "for j in listado:\n",
    "    numMax=min(listado)\n",
    "    print(maxMax)\n",
    "    for i in listado:\n",
    "        if(i<maxMax):\n",
    "         \n",
    "            \n",
    "            if(numMax<i):\n",
    "              \n",
    "                numMax=i\n",
    "\n",
    "    \n",
    "    listado_cendente.append(numMax)\n",
    "  \n",
    "    \n",
    "\n",
    "    maxMax=numMax\n",
    "print( listado_cendente)\n"
   ]
  },
  {
   "cell_type": "code",
   "execution_count": null,
   "id": "290b6990",
   "metadata": {},
   "outputs": [],
   "source": []
  },
  {
   "cell_type": "code",
   "execution_count": null,
   "id": "c6b89968",
   "metadata": {},
   "outputs": [],
   "source": []
  }
 ],
 "metadata": {
  "kernelspec": {
   "display_name": "Python 3 (ipykernel)",
   "language": "python",
   "name": "python3"
  },
  "language_info": {
   "codemirror_mode": {
    "name": "ipython",
    "version": 3
   },
   "file_extension": ".py",
   "mimetype": "text/x-python",
   "name": "python",
   "nbconvert_exporter": "python",
   "pygments_lexer": "ipython3",
   "version": "3.8.10"
  }
 },
 "nbformat": 4,
 "nbformat_minor": 5
}
