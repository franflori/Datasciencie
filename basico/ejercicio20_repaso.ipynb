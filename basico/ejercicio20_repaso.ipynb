{
 "cells": [
  {
   "cell_type": "markdown",
   "id": "a806f7f9",
   "metadata": {},
   "source": [
    " Definir una función generar_n_caracteres() que tome un entero n\n",
    "    y devuelva el caracter multiplicado por n.\n",
    "    Por ejemplo: generar_n_caracteres(5, \"x\") debería devolver \"xxxxx\"."
   ]
  },
  {
   "cell_type": "code",
   "execution_count": 1,
   "id": "190f6a73",
   "metadata": {},
   "outputs": [],
   "source": [
    "def generar_n_caracteres(n, caracter):\n",
    "    return caracter*n\n"
   ]
  },
  {
   "cell_type": "code",
   "execution_count": 2,
   "id": "e4192cc3",
   "metadata": {},
   "outputs": [
    {
     "data": {
      "text/plain": [
       "'cadcadcadcad'"
      ]
     },
     "execution_count": 2,
     "metadata": {},
     "output_type": "execute_result"
    }
   ],
   "source": [
    "generar_n_caracteres(4,\"cad\")"
   ]
  },
  {
   "cell_type": "code",
   "execution_count": 3,
   "id": "3fde7b00",
   "metadata": {},
   "outputs": [
    {
     "data": {
      "text/plain": [
       "'xxxx'"
      ]
     },
     "execution_count": 3,
     "metadata": {},
     "output_type": "execute_result"
    }
   ],
   "source": [
    "generar_n_caracteres(4,\"x\")"
   ]
  },
  {
   "cell_type": "markdown",
   "id": "0deab4e9",
   "metadata": {},
   "source": [
    " Definir un diagrama procedimiento() que tome una lista de números enteros\n",
    "    e imprima un diagrama en la pantalla. Ejemplo: procedimiento([4, 9, 7])\n",
    "    debería imprimir lo siguiente:\n",
    "    \n",
    "    # XXXX\n",
    "    # XXXXXXXXX\n",
    "    # XXXXXXX\n",
    "    "
   ]
  },
  {
   "cell_type": "code",
   "execution_count": 4,
   "id": "73e760fa",
   "metadata": {},
   "outputs": [],
   "source": [
    "def pintar_lista(lista):\n",
    "    for x in lista:\n",
    "        print(generar_n_caracteres(x,\"X\"))"
   ]
  },
  {
   "cell_type": "code",
   "execution_count": 6,
   "id": "ed9a69f2",
   "metadata": {},
   "outputs": [
    {
     "name": "stdout",
     "output_type": "stream",
     "text": [
      "XXXXX\n",
      "XXXX\n",
      "XXXXX\n",
      "XXX\n"
     ]
    }
   ],
   "source": [
    "pintar_lista([5,4,5,3])"
   ]
  },
  {
   "cell_type": "code",
   "execution_count": 7,
   "id": "09d61bee",
   "metadata": {},
   "outputs": [],
   "source": [
    "def pintar_lista2(lista):\n",
    "    for x in lista:\n",
    "        print(\"X\"*x)"
   ]
  },
  {
   "cell_type": "code",
   "execution_count": 8,
   "id": "81497086",
   "metadata": {},
   "outputs": [
    {
     "name": "stdout",
     "output_type": "stream",
     "text": [
      "XXXXX\n",
      "XXXX\n",
      "XXXXX\n",
      "XXX\n"
     ]
    }
   ],
   "source": [
    "pintar_lista2([5,4,5,3])"
   ]
  },
  {
   "cell_type": "markdown",
   "id": "2bc71b67",
   "metadata": {},
   "source": [
    "  Escribir una función mas_larga() que tome una lista de palabras y devuelva la mas larga."
   ]
  },
  {
   "cell_type": "code",
   "execution_count": 8,
   "id": "85731e7a",
   "metadata": {},
   "outputs": [],
   "source": [
    "def mas_larga_cadena(lista):\n",
    "    maxi=0\n",
    "    listaN=[]\n",
    "    for x in lista:\n",
    "        if(len(x)>maxi):\n",
    "            listaN=[]\n",
    "            listaN.append(x)\n",
    "            maxi=len(x)\n",
    "        elif len(x)==maxi:\n",
    "            listaN.append(x)\n",
    "        \n",
    "    return listaN\n",
    "            \n",
    "    "
   ]
  },
  {
   "cell_type": "code",
   "execution_count": 9,
   "id": "d2cceade",
   "metadata": {},
   "outputs": [
    {
     "data": {
      "text/plain": [
       "['cuatra', 'cuatro']"
      ]
     },
     "execution_count": 9,
     "metadata": {},
     "output_type": "execute_result"
    }
   ],
   "source": [
    "palabras2=[\"uno\", \"dos\",\"cuatra\", \"tres\",\"cuatro\"]\n",
    "mas_larga_cadena(palabras2)\n"
   ]
  },
  {
   "cell_type": "markdown",
   "id": "5114887b",
   "metadata": {},
   "source": [
    "\n",
    "    Escribir una función filtrar_palabras() que tome una lista de palabras y un entero n,\n",
    "    y devuelva las palabras que tengan mas de n caracteres."
   ]
  },
  {
   "cell_type": "code",
   "execution_count": 10,
   "id": "6d6bf3dd",
   "metadata": {},
   "outputs": [],
   "source": [
    "def filtrar_palabras(lista, n):\n",
    "    salida=[]\n",
    "    for x in lista:\n",
    "        if len(x)>n:\n",
    "            salida.append(x)\n",
    "    return salida\n"
   ]
  },
  {
   "cell_type": "code",
   "execution_count": 11,
   "id": "1759c1ba",
   "metadata": {},
   "outputs": [
    {
     "data": {
      "text/plain": [
       "['cuatra', 'tres', 'cuatro']"
      ]
     },
     "execution_count": 11,
     "metadata": {},
     "output_type": "execute_result"
    }
   ],
   "source": [
    "filtrar_palabras(palabras2,3)"
   ]
  },
  {
   "cell_type": "markdown",
   "id": "eb6b41c3",
   "metadata": {},
   "source": [
    "5) Escribir un programa que ingrese una cadena de texto. El programa tiene que evaluar la cadena y decir cuantas letras mayúsculas\n",
    "tiene."
   ]
  },
  {
   "cell_type": "code",
   "execution_count": 15,
   "id": "3b8dbd4e",
   "metadata": {},
   "outputs": [],
   "source": [
    "def comp_mayusculas(cadena):\n",
    "    mayuscula=0\n",
    "    for letra in cadena:\n",
    "        if letra==letra.upper():\n",
    "            mayuscula+=1\n",
    "    return mayuscula\n",
    "\n"
   ]
  },
  {
   "cell_type": "code",
   "execution_count": 17,
   "id": "b7b17317",
   "metadata": {},
   "outputs": [
    {
     "name": "stdout",
     "output_type": "stream",
     "text": [
      "La palabra tiene n Mayuscula 9\n"
     ]
    }
   ],
   "source": [
    "print (\"La palabra tiene n Mayuscula\",comp_mayusculas(\"DFGSDGSDsfsdfwr retwete\"))"
   ]
  },
  {
   "cell_type": "markdown",
   "id": "078832ce",
   "metadata": {},
   "source": [
    "Definir una tupla con 10 edades de personas.\n",
    "        * Imprimir la cantidad de personas con edades superiores a 20."
   ]
  },
  {
   "cell_type": "code",
   "execution_count": 1,
   "id": "207c99cd",
   "metadata": {},
   "outputs": [],
   "source": [
    "def mayores(tup):\n",
    "    cont=0\n",
    "    for t in tup:\n",
    "      \n",
    "       if(t>20):\n",
    "        cont+=1\n",
    "\n",
    "    return cont"
   ]
  },
  {
   "cell_type": "code",
   "execution_count": 2,
   "id": "bdcb66e1",
   "metadata": {},
   "outputs": [
    {
     "name": "stdout",
     "output_type": "stream",
     "text": [
      "El numero de mayores de 20 años  son 6\n"
     ]
    }
   ],
   "source": [
    "edades = (20, 13, 30, 40,70,89,23,12,29)\n",
    "print(\"El numero de mayores de 20 años  son\",mayores(edades))"
   ]
  },
  {
   "cell_type": "markdown",
   "id": "4144e002",
   "metadata": {},
   "source": [
    "Definir una lista con un conjunto de nombres, imprimir la cantidad de comienzan con la letra a.\n",
    "    También se puede hacer elegir al usuario la letra a buscar.  (Un poco mas emocionante)"
   ]
  },
  {
   "cell_type": "code",
   "execution_count": 14,
   "id": "6681c0a4",
   "metadata": {},
   "outputs": [],
   "source": [
    "def contar():\n",
    "\n",
    "    num=int(input(\"Introduzca numero quiere anadir \"))\n",
    "    lista=[]\n",
    "    cont=0\n",
    "    while(cont<num):\n",
    "        nombre=input(\"Introduzca nombre anadir \")\n",
    "        lista.append(nombre)\n",
    "        cont+=1\n",
    "    cadena=input(\"Introduzca palabra busca palabra \")\n",
    "\n",
    "    print(lista)\n",
    "\n",
    "    salida=[]\n",
    "    for x in lista:\n",
    "        if(x[0].upper()==cadena.upper()):\n",
    "            salida.append(x)\n",
    "\n",
    "    \n",
    "   \n",
    "    \n",
    "    \n",
    "    return salida"
   ]
  },
  {
   "cell_type": "code",
   "execution_count": 15,
   "id": "7e77ab6e",
   "metadata": {},
   "outputs": [
    {
     "name": "stdout",
     "output_type": "stream",
     "text": [
      "Introduzca numero quiere anadir 5\n",
      "Introduzca nombre anadir hielo\n",
      "Introduzca nombre anadir hola\n",
      "Introduzca nombre anadir calor\n",
      "Introduzca nombre anadir ilo\n",
      "Introduzca nombre anadir hilo\n",
      "Introduzca palabra busca palabra h\n",
      "['hielo', 'hola', 'calor', 'ilo', 'hilo']\n"
     ]
    },
    {
     "data": {
      "text/plain": [
       "['hielo', 'hola', 'hilo']"
      ]
     },
     "execution_count": 15,
     "metadata": {},
     "output_type": "execute_result"
    }
   ],
   "source": [
    "contar()"
   ]
  },
  {
   "cell_type": "markdown",
   "id": "ffeb1b91",
   "metadata": {},
   "source": [
    "\"\"\"\n",
    "    Crear una función contar_vocales(),\n",
    "    que reciba una palabra y cuente cuantas letras \"a\" tiene,\n",
    "    cuantas letras \"e\" tiene y así hasta completar todas las vocales.\n",
    "    Se puede hacer que el usuario sea quien elija la palabra.\n",
    "\"\"\"\n"
   ]
  },
  {
   "cell_type": "code",
   "execution_count": 12,
   "id": "2286993c",
   "metadata": {},
   "outputs": [],
   "source": [
    "def contar_letra(cadena,vocal):\n",
    "    cont=0\n",
    "    for letra in cadena:\n",
    "\n",
    "        if letra.upper()==vocal.upper():\n",
    "            cont+=1\n",
    "        \n",
    "    \n",
    "    return cont\n",
    "\n",
    "\n",
    "def contar_vocales(cadena):\n",
    "   print(\" Con la letra A \",contar_letra(cadena,\"A\"))\n",
    "   print(\" Con la letra E \",contar_letra(cadena,\"E\"))\n",
    "   print(\" Con la letra I \",contar_letra(cadena,\"I\"))\n",
    "   print(\" Con la letra O \",contar_letra(cadena,\"O\"))\n",
    "   print(\" Con la letra U \",contar_letra(cadena,\"U\"))\n"
   ]
  },
  {
   "cell_type": "code",
   "execution_count": 6,
   "id": "e50d5975",
   "metadata": {},
   "outputs": [
    {
     "name": "stdout",
     "output_type": "stream",
     "text": [
      "contral vocales.....as ñlqweoqw dasfqwpoer dsvieotueñklasdfpwe\n",
      " Con la letra A  3\n",
      " Con la letra E  5\n",
      " Con la letra I  1\n",
      " Con la letra O  3\n",
      " Con la letra U  1\n"
     ]
    }
   ],
   "source": [
    "vocales=input(\"contral vocales.....\")\n",
    "contar_vocales(vocales)"
   ]
  },
  {
   "cell_type": "code",
   "execution_count": null,
   "id": "f0499c8e",
   "metadata": {},
   "outputs": [],
   "source": []
  }
 ],
 "metadata": {
  "kernelspec": {
   "display_name": "Python 3 (ipykernel)",
   "language": "python",
   "name": "python3"
  },
  "language_info": {
   "codemirror_mode": {
    "name": "ipython",
    "version": 3
   },
   "file_extension": ".py",
   "mimetype": "text/x-python",
   "name": "python",
   "nbconvert_exporter": "python",
   "pygments_lexer": "ipython3",
   "version": "3.8.10"
  }
 },
 "nbformat": 4,
 "nbformat_minor": 5
}
