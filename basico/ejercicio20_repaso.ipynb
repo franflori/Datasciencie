{
 "cells": [
  {
   "cell_type": "markdown",
   "id": "a806f7f9",
   "metadata": {},
   "source": [
    " Definir una función generar_n_caracteres() que tome un entero n\n",
    "    y devuelva el caracter multiplicado por n.\n",
    "    Por ejemplo: generar_n_caracteres(5, \"x\") debería devolver \"xxxxx\"."
   ]
  },
  {
   "cell_type": "code",
   "execution_count": 1,
   "id": "190f6a73",
   "metadata": {},
   "outputs": [],
   "source": [
    "def generar_n_caracteres(n, caracter):\n",
    "    return caracter*n\n"
   ]
  },
  {
   "cell_type": "code",
   "execution_count": 2,
   "id": "e4192cc3",
   "metadata": {},
   "outputs": [
    {
     "data": {
      "text/plain": [
       "'cadcadcadcad'"
      ]
     },
     "execution_count": 2,
     "metadata": {},
     "output_type": "execute_result"
    }
   ],
   "source": [
    "generar_n_caracteres(4,\"cad\")"
   ]
  },
  {
   "cell_type": "code",
   "execution_count": 3,
   "id": "3fde7b00",
   "metadata": {},
   "outputs": [
    {
     "data": {
      "text/plain": [
       "'xxxx'"
      ]
     },
     "execution_count": 3,
     "metadata": {},
     "output_type": "execute_result"
    }
   ],
   "source": [
    "generar_n_caracteres(4,\"x\")"
   ]
  },
  {
   "cell_type": "markdown",
   "id": "0deab4e9",
   "metadata": {},
   "source": [
    " Definir un diagrama procedimiento() que tome una lista de números enteros\n",
    "    e imprima un diagrama en la pantalla. Ejemplo: procedimiento([4, 9, 7])\n",
    "    debería imprimir lo siguiente:\n",
    "    \n",
    "    # XXXX\n",
    "    # XXXXXXXXX\n",
    "    # XXXXXXX\n",
    "    "
   ]
  },
  {
   "cell_type": "code",
   "execution_count": 4,
   "id": "73e760fa",
   "metadata": {},
   "outputs": [],
   "source": [
    "def pintar_lista(lista):\n",
    "    for x in lista:\n",
    "        print(generar_n_caracteres(x,\"X\"))"
   ]
  },
  {
   "cell_type": "code",
   "execution_count": 6,
   "id": "ed9a69f2",
   "metadata": {},
   "outputs": [
    {
     "name": "stdout",
     "output_type": "stream",
     "text": [
      "XXXXX\n",
      "XXXX\n",
      "XXXXX\n",
      "XXX\n"
     ]
    }
   ],
   "source": [
    "pintar_lista([5,4,5,3])"
   ]
  },
  {
   "cell_type": "code",
   "execution_count": 7,
   "id": "09d61bee",
   "metadata": {},
   "outputs": [],
   "source": [
    "def pintar_lista2(lista):\n",
    "    for x in lista:\n",
    "        print(\"X\"*x)"
   ]
  },
  {
   "cell_type": "code",
   "execution_count": 8,
   "id": "81497086",
   "metadata": {},
   "outputs": [
    {
     "name": "stdout",
     "output_type": "stream",
     "text": [
      "XXXXX\n",
      "XXXX\n",
      "XXXXX\n",
      "XXX\n"
     ]
    }
   ],
   "source": [
    "pintar_lista2([5,4,5,3])"
   ]
  },
  {
   "cell_type": "markdown",
   "id": "2bc71b67",
   "metadata": {},
   "source": [
    "  Escribir una función mas_larga() que tome una lista de palabras y devuelva la mas larga."
   ]
  },
  {
   "cell_type": "code",
   "execution_count": 8,
   "id": "85731e7a",
   "metadata": {},
   "outputs": [],
   "source": [
    "def mas_larga_cadena(lista):\n",
    "    maxi=0\n",
    "    listaN=[]\n",
    "    for x in lista:\n",
    "        if(len(x)>maxi):\n",
    "            listaN=[]\n",
    "            listaN.append(x)\n",
    "            maxi=len(x)\n",
    "        elif len(x)==maxi:\n",
    "            listaN.append(x)\n",
    "        \n",
    "    return listaN\n",
    "            \n",
    "    "
   ]
  },
  {
   "cell_type": "code",
   "execution_count": 9,
   "id": "d2cceade",
   "metadata": {},
   "outputs": [
    {
     "data": {
      "text/plain": [
       "['cuatra', 'cuatro']"
      ]
     },
     "execution_count": 9,
     "metadata": {},
     "output_type": "execute_result"
    }
   ],
   "source": [
    "palabras2=[\"uno\", \"dos\",\"cuatra\", \"tres\",\"cuatro\"]\n",
    "mas_larga_cadena(palabras2)\n"
   ]
  },
  {
   "cell_type": "markdown",
   "id": "5114887b",
   "metadata": {},
   "source": [
    "\n",
    "    Escribir una función filtrar_palabras() que tome una lista de palabras y un entero n,\n",
    "    y devuelva las palabras que tengan mas de n caracteres."
   ]
  },
  {
   "cell_type": "code",
   "execution_count": 10,
   "id": "6d6bf3dd",
   "metadata": {},
   "outputs": [],
   "source": [
    "def filtrar_palabras(lista, n):\n",
    "    salida=[]\n",
    "    for x in lista:\n",
    "        if len(x)>n:\n",
    "            salida.append(x)\n",
    "    return salida\n"
   ]
  },
  {
   "cell_type": "code",
   "execution_count": 11,
   "id": "1759c1ba",
   "metadata": {},
   "outputs": [
    {
     "data": {
      "text/plain": [
       "['cuatra', 'tres', 'cuatro']"
      ]
     },
     "execution_count": 11,
     "metadata": {},
     "output_type": "execute_result"
    }
   ],
   "source": [
    "filtrar_palabras(palabras2,3)"
   ]
  },
  {
   "cell_type": "markdown",
   "id": "eb6b41c3",
   "metadata": {},
   "source": [
    "5) Escribir un programa que ingrese una cadena de texto. El programa tiene que evaluar la cadena y decir cuantas letras mayúsculas\n",
    "tiene."
   ]
  },
  {
   "cell_type": "code",
   "execution_count": 15,
   "id": "3b8dbd4e",
   "metadata": {},
   "outputs": [],
   "source": [
    "def comp_mayusculas(cadena):\n",
    "    mayuscula=0\n",
    "    for letra in cadena:\n",
    "        if letra==letra.upper():\n",
    "            mayuscula+=1\n",
    "    return mayuscula\n",
    "\n"
   ]
  },
  {
   "cell_type": "code",
   "execution_count": 17,
   "id": "b7b17317",
   "metadata": {},
   "outputs": [
    {
     "name": "stdout",
     "output_type": "stream",
     "text": [
      "La palabra tiene n Mayuscula 9\n"
     ]
    }
   ],
   "source": [
    "print (\"La palabra tiene n Mayuscula\",comp_mayusculas(\"DFGSDGSDsfsdfwr retwete\"))"
   ]
  },
  {
   "cell_type": "code",
   "execution_count": null,
   "id": "38b17a1f",
   "metadata": {},
   "outputs": [],
   "source": []
  }
 ],
 "metadata": {
  "kernelspec": {
   "display_name": "Python 3 (ipykernel)",
   "language": "python",
   "name": "python3"
  },
  "language_info": {
   "codemirror_mode": {
    "name": "ipython",
    "version": 3
   },
   "file_extension": ".py",
   "mimetype": "text/x-python",
   "name": "python",
   "nbconvert_exporter": "python",
   "pygments_lexer": "ipython3",
   "version": "3.8.10"
  }
 },
 "nbformat": 4,
 "nbformat_minor": 5
}
