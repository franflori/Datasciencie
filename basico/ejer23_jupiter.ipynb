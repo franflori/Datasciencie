{
 "cells": [
  {
   "cell_type": "code",
   "execution_count": 5,
   "id": "fed7e66d",
   "metadata": {},
   "outputs": [],
   "source": [
    "import pandas as pd"
   ]
  },
  {
   "cell_type": "markdown",
   "id": "c36de1d5",
   "metadata": {},
   "source": [
    "\"\"\"\n",
    "    Desarrolla el siguiente ejercicios de POO:\n",
    "\n",
    "   * Alumnos  -> Es la clase.\n",
    "   * __init__ -> Es el método init\n",
    "   * nombre, edad, asignatura y nota son las propiedades\n",
    "   * Instanciamos..\n",
    "   * los posibles alumnos (alumno1, alumno2, alumno3..) --> son los \"objetos\"\n",
    "   * y el.__init__ los inicializa\n",
    "\n",
    "   A continuación muestra la edad del alumno 2 y el alumno 3 y sus notas\n",
    "\"\"\""
   ]
  },
  {
   "cell_type": "code",
   "execution_count": 6,
   "id": "7a907f1a",
   "metadata": {},
   "outputs": [],
   "source": [
    "class Alumnos:\n",
    "    def __init__(self,nombre,edad,asignagtura,nota):\n",
    "        self.nombre=nombre\n",
    "        self.edad=edad\n",
    "        self.asignagtura=asignagtura\n",
    "        self.nota=nota\n",
    "    \n",
    "    def getEdad(self):\n",
    "        return self.edad \n",
    "    def getNombre(self):\n",
    "        return self.nombre\n",
    "    def getNota(self):\n",
    "        return self.nota\n",
    "        \n",
    "        "
   ]
  },
  {
   "cell_type": "code",
   "execution_count": 7,
   "id": "628ea59b",
   "metadata": {},
   "outputs": [
    {
     "name": "stdout",
     "output_type": "stream",
     "text": [
      "Nombre, edad, Nota Pepe 21 6\n",
      "Nombre, edad, Nota Luis 11 5\n"
     ]
    }
   ],
   "source": [
    "alumno1=Alumnos(\"Pepe\",21,\"Matematica\",6)\n",
    "alumno2=Alumnos(\"Juan\",21,\"Historia\",10)\n",
    "alumno3=Alumnos(\"Luis\",11,\"Matematica\",5)\n",
    "\n",
    "print(\"Nombre, edad, Nota\",alumno1.getNombre(),alumno1.getEdad(),alumno1.getNota())\n",
    "print(\"Nombre, edad, Nota\",alumno3.getNombre(),alumno3.getEdad(),alumno3.getNota())"
   ]
  },
  {
   "cell_type": "markdown",
   "id": "224c472a",
   "metadata": {},
   "source": [
    "\"\"\"\n",
    "    Escribir un programa que pregunte al usuario su edad\n",
    "    y muestre por pantalla todos los años que ha cumplido (desde 1 hasta su edad).\n",
    "\"\"\""
   ]
  },
  {
   "cell_type": "code",
   "execution_count": 8,
   "id": "158afba2",
   "metadata": {},
   "outputs": [
    {
     "name": "stdout",
     "output_type": "stream",
     "text": [
      "Que edad tienes....12\n",
      "has cumplido ---- 1\n",
      "has cumplido ---- 2\n",
      "has cumplido ---- 3\n",
      "has cumplido ---- 4\n",
      "has cumplido ---- 5\n",
      "has cumplido ---- 6\n",
      "has cumplido ---- 7\n",
      "has cumplido ---- 8\n",
      "has cumplido ---- 9\n",
      "has cumplido ---- 10\n",
      "has cumplido ---- 11\n",
      "has cumplido ---- 12\n"
     ]
    }
   ],
   "source": [
    "edad=int(input(\"Que edad tienes....\"))\n",
    "\n",
    "for i in range(1,edad+1):\n",
    "    print(\"has cumplido ----\",i)"
   ]
  },
  {
   "cell_type": "markdown",
   "id": "adf0914a",
   "metadata": {},
   "source": [
    "\"\"\"\n",
    "    Escribir un programa que pida al usuario una palabra y\n",
    "    luego muestre por pantalla una a una las letras de la palabra introducida empezando por la última.\n",
    "\"\"\""
   ]
  },
  {
   "cell_type": "code",
   "execution_count": 9,
   "id": "21e42931",
   "metadata": {},
   "outputs": [],
   "source": [
    "def invetir_cadena(cadena):\n",
    "    return cadena[::-1]"
   ]
  },
  {
   "cell_type": "code",
   "execution_count": 10,
   "id": "43af0b1f",
   "metadata": {},
   "outputs": [],
   "source": [
    "def imprimir(cadena):\n",
    "    for i in range(len(cadena)-1,-1,-1):\n",
    "        print(cadena[i])\n",
    "\n",
    "    "
   ]
  },
  {
   "cell_type": "code",
   "execution_count": 11,
   "id": "7a62b14b",
   "metadata": {},
   "outputs": [
    {
     "name": "stdout",
     "output_type": "stream",
     "text": [
      "Invertira cadena....fasd\n",
      " la innvertida es  dsaf\n",
      "Invertira cadena....as\n",
      "s\n",
      "a\n"
     ]
    }
   ],
   "source": [
    "\n",
    "print(\" la innvertida es \",invetir_cadena(input(\"Invertira cadena....\")))\n",
    "imprimir(input(\"Invertira cadena....\"))"
   ]
  },
  {
   "cell_type": "markdown",
   "id": "32d7a591",
   "metadata": {},
   "source": [
    "# Ejercicio 4\n",
    "\n",
    "\"\"\"\n",
    "    Escribir un programa que pregunte el nombre completo del usuario en la consola y\n",
    "    después muestre por pantalla el nombre completo del usuario tres veces,\n",
    "    una con todas las letras minúsculas,\n",
    "    otra con todas las letras mayúsculas y otra solo con la primera letra del nombre y de los apellidos en mayúscula.\n",
    "    El usuario puede introducir su nombre combinando mayúsculas y minúsculas como quiera.\n",
    "\"\"\""
   ]
  },
  {
   "cell_type": "code",
   "execution_count": 17,
   "id": "29d50f22",
   "metadata": {},
   "outputs": [
    {
     "name": "stdout",
     "output_type": "stream",
     "text": [
      "Escribre tu nombre....NOMbre\n",
      "Maysucula NOMBRE\n",
      "Minuscula nombre\n",
      "Primera maysuca Nombre\n"
     ]
    }
   ],
   "source": [
    "cadena=input(\"Escribre tu nombre....\")\n",
    "print(\"Maysucula\",cadena.upper())\n",
    "print(\"Minuscula\",cadena.lower())\n",
    "print(\"Primera maysuca\",cadena.title())"
   ]
  },
  {
   "cell_type": "markdown",
   "id": "be79d9a5",
   "metadata": {},
   "source": [
    "# Ejercicio 5\n",
    "\n",
    "\"\"\"\n",
    "    Los teléfonos de una empresa tienen el siguiente formato prefijo-número-extension donde el prefijo es el código del país +34,\n",
    "    y la extensión tiene dos dígitos (por ejemplo +34-913724710-56).\n",
    "    Escribir un programa que pregunte por un número de teléfono con este formato\n",
    "    y muestre por pantalla el número de teléfono sin el prefijo y la extensión.\n",
    "\"\"\""
   ]
  },
  {
   "cell_type": "code",
   "execution_count": 18,
   "id": "669a8740",
   "metadata": {},
   "outputs": [],
   "source": [
    "def sacartelefono(cadena):\n",
    "    telefono=cadena.strip()\n",
    "    primer_guion=telefono.index(\"-\")\n",
    "    nuevo=telefono[primer_guion+1::]\n",
    "    \n",
    "    final=nuevo[0:nuevo.index(\"-\")]\n",
    "    \n",
    "    return final\n",
    "    "
   ]
  },
  {
   "cell_type": "code",
   "execution_count": 19,
   "id": "49c36d0c",
   "metadata": {},
   "outputs": [
    {
     "name": "stdout",
     "output_type": "stream",
     "text": [
      "Introducaza telefono....343-23234-223-\n",
      "telefono final 23234\n"
     ]
    }
   ],
   "source": [
    "print  ( \"telefono final\",sacartelefono(input(\"Introducaza telefono....\")))"
   ]
  },
  {
   "cell_type": "markdown",
   "id": "743facd3",
   "metadata": {},
   "source": [
    "# Ejercicio 6\n",
    "\"\"\"\n",
    "    Escribir un programa que pida al usuario que introduzca una frase en la consola y una vocal,\n",
    "    y después muestre por pantalla la misma frase pero con la vocal introducida en mayúscula.\n",
    "\"\"\""
   ]
  },
  {
   "cell_type": "code",
   "execution_count": 20,
   "id": "f6ff55c0",
   "metadata": {},
   "outputs": [
    {
     "name": "stdout",
     "output_type": "stream",
     "text": [
      "Introducaza cadena....hsdfaskfasdhklasdfow\n",
      "Intrudzca vocal....e\n",
      "hsdfaskfasdhklasdfow\n"
     ]
    }
   ],
   "source": [
    "cadena=input(\"Introducaza cadena....\")\n",
    "vocal=input(\"Intrudzca vocal....\")\n",
    "print(cadena.replace(vocal.lower(),vocal.upper()))"
   ]
  },
  {
   "cell_type": "markdown",
   "id": "a88c6b41",
   "metadata": {},
   "source": [
    "# Ejercicio 7\n",
    "\n",
    "\"\"\"\n",
    "    Escribir un programa que pregunte por consola el precio de un producto en euros con dos decimales\n",
    "    y muestre por pantalla el número de euros y el número de céntimos del precio introducido.\n",
    "\"\"\""
   ]
  },
  {
   "cell_type": "code",
   "execution_count": 21,
   "id": "4dde8c8c",
   "metadata": {},
   "outputs": [
    {
     "name": "stdout",
     "output_type": "stream",
     "text": [
      "Introduce euros....2\n",
      "2 0\n"
     ]
    }
   ],
   "source": [
    "numero=float(input(\"Introduce euros....\"))\n",
    "entero=int(numero)\n",
    "entero\n",
    "decimal=int((numero-entero)*100)\n",
    "decimal\n",
    "print(entero,decimal)"
   ]
  },
  {
   "cell_type": "markdown",
   "id": "5cd192d8",
   "metadata": {},
   "source": [
    "## Ejercicio 8\n",
    "\n",
    "\"\"\"\n",
    "    Escribir programa que genere y muestre por pantalla un DataFrame con los datos de la tabla siguiente:\n",
    "\n",
    "    Mes Ventas Gastos\n",
    "\n",
    "    Enero 30500 22000\n",
    "\n",
    "    Febrero 35600 23400\n",
    "\n",
    "    Marzo 28300 18100\n",
    "\n",
    "    Abril 33900 20700\n",
    "\"\"\""
   ]
  },
  {
   "cell_type": "code",
   "execution_count": 22,
   "id": "f1cd9e5e",
   "metadata": {},
   "outputs": [
    {
     "name": "stdout",
     "output_type": "stream",
     "text": [
      "       Mes  Ventas  Gastos\n",
      "0    Enero   30500   22000\n",
      "1  Febrero   35600   23400\n",
      "2    Marzo   28300   18100\n",
      "3    Abril   33900   20700\n"
     ]
    }
   ],
   "source": [
    "mes = [\"Enero\", \"Febrero\", \"Marzo\", \"Abril\"]\n",
    "ventas = [30500, 35600, 28300,33900]\n",
    "gastos =[22000, 23400, 18100,20700] \n",
    "df=pd.DataFrame({\"Mes\":mes,\"Ventas\":ventas,\"Gastos\":gastos})\n",
    "print(df)"
   ]
  },
  {
   "cell_type": "markdown",
   "id": "2c7ec81d",
   "metadata": {},
   "source": [
    "# Ejercicio 9\n",
    "\n",
    "\"\"\"\n",
    "    Escribir una función que reciba un DataFrame con el formato del ejercicio anterior,\n",
    "    una lista de meses, y devuelva el balance (ventas - gastos) total en los meses indicados.\n",
    "\"\"\""
   ]
  },
  {
   "cell_type": "code",
   "execution_count": 31,
   "id": "72e519dc",
   "metadata": {},
   "outputs": [
    {
     "name": "stdout",
     "output_type": "stream",
     "text": [
      "       Mes  Ventas  Gastos  nuevo\n",
      "0    Enero   30500   22000   8500\n",
      "1  Febrero   35600   23400  12200\n",
      "2    Marzo   28300   18100  10200\n",
      "3    Abril   33900   20700  13200\n",
      "18700\n"
     ]
    }
   ],
   "source": [
    "def balance(datos,listaMes):\n",
    "    datos[\"nuevo\"]=datos[\"Ventas\"] -datos[\"Gastos\"]\n",
    "    print(datos)\n",
    "    solucion=datos[datos.Mes.isin(listaMes)]\n",
    "    return solucion.nuevo.sum()\n",
    "    \n",
    "    \n",
    "print(balance(df,[\"Enero\",\"Marzo\"]))"
   ]
  },
  {
   "cell_type": "markdown",
   "id": "91181798",
   "metadata": {},
   "source": [
    "# Ejercicio 10\n",
    "\n",
    "\"\"\"\n",
    "    Escribir un programa que almacene las asignaturas de un curso\n",
    "    (por ejemplo Matemáticas, Física, Química, Historia y Lengua) en una lista, \n",
    "    pregunte al usuario la nota que ha sacado en cada asignatura,\n",
    "    y después las muestre por pantalla con el mensaje \"Has sacado ASIGNATURA la nota de NOTA\"\n",
    "    donde es cada una de las asignaturas de la lista y cada una de las correspondientes notas introducidas por el usuario.\n",
    "\"\"\""
   ]
  },
  {
   "cell_type": "code",
   "execution_count": 32,
   "id": "66d5f653",
   "metadata": {},
   "outputs": [],
   "source": [
    "def solicitud(listasAsignatura):\n",
    "    nota=[]\n",
    "    for asignatura in listasAsignatura:\n",
    "       \n",
    "        numero=int(input(\" Introduca la nota de \"+asignatura+\"  es :\"))\n",
    "        nota.append(numero)\n",
    "   \n",
    "\n",
    "    df = pd.DataFrame({\"Asignatura\": listasAsignatura, \"Nota\":nota })\n",
    "    return (df)\n",
    "    \n",
    "def imprimir(df):\n",
    "    for i in df.index: \n",
    "     print(\"Has sacado \"+ df[\"Asignatura\"][i]+ \" la nota de \"+str(df[\"Nota\"][i]))"
   ]
  },
  {
   "cell_type": "code",
   "execution_count": 34,
   "id": "fe244aa8",
   "metadata": {},
   "outputs": [
    {
     "name": "stdout",
     "output_type": "stream",
     "text": [
      " Introduca la nota de Matemáticas  es :5\n",
      " Introduca la nota de Física  es :6\n",
      " Introduca la nota de Química  es :4\n",
      " Introduca la nota de Historia  es :6\n",
      " Introduca la nota de Lengua  es :3\n",
      "Has sacado Matemáticas la nota de 5\n",
      "Has sacado Física la nota de 6\n",
      "Has sacado Química la nota de 4\n",
      "Has sacado Historia la nota de 6\n",
      "Has sacado Lengua la nota de 3\n"
     ]
    }
   ],
   "source": [
    "listasAsignatura=[\"Matemáticas\", \"Física\", \"Química\", \"Historia\" ,\"Lengua\"]\n",
    "df=solicitud(listasAsignatura)\n",
    "imprimir(df)"
   ]
  },
  {
   "cell_type": "code",
   "execution_count": null,
   "id": "ccb5ddde",
   "metadata": {},
   "outputs": [],
   "source": []
  }
 ],
 "metadata": {
  "kernelspec": {
   "display_name": "Python 3 (ipykernel)",
   "language": "python",
   "name": "python3"
  },
  "language_info": {
   "codemirror_mode": {
    "name": "ipython",
    "version": 3
   },
   "file_extension": ".py",
   "mimetype": "text/x-python",
   "name": "python",
   "nbconvert_exporter": "python",
   "pygments_lexer": "ipython3",
   "version": "3.8.10"
  }
 },
 "nbformat": 4,
 "nbformat_minor": 5
}
