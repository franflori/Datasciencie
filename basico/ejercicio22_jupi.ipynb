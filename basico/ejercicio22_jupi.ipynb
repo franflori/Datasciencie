{
 "cells": [
  {
   "cell_type": "markdown",
   "id": "6aa715d1",
   "metadata": {},
   "source": [
    "\"\"\"\n",
    "    Escribir una función que aplique un descuento a un precio y otra que aplique el IVA a un precio.\n",
    "    Escribir una tercera función que reciba un diccionario con los precios\n",
    "    y porcentajes de una cesta de la compra, y una de las funciones anteriores, \n",
    "    y utilice la función pasada para aplicar los descuentos o el IVA a los productos de la cesta y devolver el precio final de la cesta.\n",
    "    Ejemplo de diccionario: {1000:20, 500:10, 100:1}\n",
    "\"\"\""
   ]
  },
  {
   "cell_type": "code",
   "execution_count": 2,
   "id": "3b304c92",
   "metadata": {},
   "outputs": [],
   "source": [
    "def apply_discount(price, discount):\n",
    " \n",
    "    return price - price * discount / 100\n",
    "\n",
    "def apply_IVA(price, percentage):\n",
    "   \n",
    "    return price + price * percentage / 100\n",
    "\n",
    "def price_basket(basket, function):\n",
    "    \n",
    "    total = 0\n",
    "    for price, discount in basket.items():\n",
    "        total += function(price, discount)\n",
    "    return total\n",
    "\n",
    "    "
   ]
  },
  {
   "cell_type": "code",
   "execution_count": 4,
   "id": "dbb8fa37",
   "metadata": {},
   "outputs": [
    {
     "name": "stdout",
     "output_type": "stream",
     "text": [
      "descuento\n",
      "descuento\n",
      "descuento\n",
      "El precio de la compra tras aplicar los descuentos es:  1349.0\n",
      "iva\n",
      "iva\n",
      "iva\n",
      "El precio de la compra tras aplicar el IVA es:  1851.0\n"
     ]
    }
   ],
   "source": [
    "print('El precio de la compra tras aplicar los descuentos es: ', price_basket({1000:20, 500:10, 100:1}, apply_discount))\n",
    "print('El precio de la compra tras aplicar el IVA es: ', price_basket({1000:20, 500:10, 100:1}, apply_IVA))"
   ]
  },
  {
   "cell_type": "markdown",
   "id": "d4ca0ce2",
   "metadata": {},
   "source": [
    "2) Escribir una función que reciba otra función y una lista, y devuelva otra lista con el resultado de aplicar la función dada a cada uno de\n",
    "los elementos de la lista."
   ]
  },
  {
   "cell_type": "code",
   "execution_count": 5,
   "id": "40e1545a",
   "metadata": {},
   "outputs": [],
   "source": [
    "def cubo(n):\n",
    "   return n*n*n\n",
    "\n"
   ]
  },
  {
   "cell_type": "code",
   "execution_count": 6,
   "id": "85a493ac",
   "metadata": {},
   "outputs": [],
   "source": [
    "def aplica(funcion,lista):\n",
    "    resultado=[]\n",
    "    for elemento in lista:\n",
    "        resultado.append(funcion(elemento))\n",
    "    return resultado\n"
   ]
  },
  {
   "cell_type": "code",
   "execution_count": 7,
   "id": "63c922d8",
   "metadata": {},
   "outputs": [
    {
     "name": "stdout",
     "output_type": "stream",
     "text": [
      "[125, 64, 8, 1, 0]\n"
     ]
    }
   ],
   "source": [
    "print(aplica(cubo,[5,4,2,1,0]))"
   ]
  },
  {
   "cell_type": "markdown",
   "id": "2f7ba032",
   "metadata": {},
   "source": [
    "3) Escribir una función que reciba una frase y devuelva un diccionario con las palabras que contiene y su longitud."
   ]
  },
  {
   "cell_type": "code",
   "execution_count": 31,
   "id": "24fe5377",
   "metadata": {},
   "outputs": [],
   "source": [
    "def dicio_cant(sentence):\n",
    "    words = sentence.split()\n",
    "    lengths = map(len, words)\n",
    "    return dict(zip(words, lengths))\n",
    "\n",
    "  "
   ]
  },
  {
   "cell_type": "code",
   "execution_count": 32,
   "id": "f7006c00",
   "metadata": {},
   "outputs": [
    {
     "name": "stdout",
     "output_type": "stream",
     "text": [
      "{'esta': 4, 'es': 2, 'una': 3, 'frase': 5, 'muy': 3, 'muyyyyyyyy': 10, 'larga': 5}\n"
     ]
    }
   ],
   "source": [
    "print(dicio_cant(\"esta es una frase muy muy muyyyyyyyy larga\"))"
   ]
  },
  {
   "cell_type": "markdown",
   "id": "ceeb7284",
   "metadata": {},
   "source": [
    "4) Escribir una función reciba una lista de notas y devuelva la lista de calificaciones correspondientes a esas notas."
   ]
  },
  {
   "cell_type": "code",
   "execution_count": 50,
   "id": "5f7ef2ee",
   "metadata": {},
   "outputs": [],
   "source": [
    "def notas_escrito(x):\n",
    "    if x<5:\n",
    "        return \"SUSPENSO\"\n",
    "    elif  x==5 :\n",
    "        return \"APROBADO\"\n",
    "    elif x>5 and x<7 :\n",
    "        return \"SUFICIENTE\"\n",
    "    elif x>=7 and x<9 :\n",
    "        return \"NOTABLE\"\n",
    "    elif x>9:\n",
    "        return \"SOBRESALIENTE\"\n",
    "  \n"
   ]
  },
  {
   "cell_type": "code",
   "execution_count": 51,
   "id": "f3c00cfb",
   "metadata": {},
   "outputs": [],
   "source": [
    "def aplicarlista(lista):\n",
    "    return (list(map(notas_escrito,lista)))"
   ]
  },
  {
   "cell_type": "code",
   "execution_count": 52,
   "id": "e4467330",
   "metadata": {},
   "outputs": [
    {
     "name": "stdout",
     "output_type": "stream",
     "text": [
      "['SUFICIENTE', 'APROBADO', 'SUSPENSO', 'NOTABLE', 'SUSPENSO', 'SOBRESALIENTE', 'SOBRESALIENTE']\n"
     ]
    }
   ],
   "source": [
    "print(aplicarlista([6.5, 5, 3.4, 8.2, 2.1, 9.7, 10]))"
   ]
  },
  {
   "cell_type": "markdown",
   "id": "57c7e77a",
   "metadata": {},
   "source": [
    "5) Escribir una función reciba un diccionario con las asignaturas y las notas de un alumno y devuelva otro diccionario con las asignaturas\n",
    "en mayúsculas y las calificaciones correspondientes a las notas."
   ]
  },
  {
   "cell_type": "code",
   "execution_count": 48,
   "id": "57ede9de",
   "metadata": {},
   "outputs": [],
   "source": [
    "def aplicarlistaMascomplica(campos):\n",
    "    asignatura=map(str.upper,campos.keys())\n",
    "    putuacion=map(notas_escrito,campos.values())\n",
    "    return dict(zip(asignatura,putuacion))\n"
   ]
  },
  {
   "cell_type": "code",
   "execution_count": 49,
   "id": "01d51d0e",
   "metadata": {},
   "outputs": [
    {
     "name": "stdout",
     "output_type": "stream",
     "text": [
      "{'MATEMÁTICAS': 'SUFICIENTE', 'FÍSICA': 'APROBADO', 'QUÍMICA': 'SUSPENSO', 'ECONOMÍA': 'SUFICIENTE', 'HISTORIA': 'SUFICIENTE', 'PROGRAMACIÓN': 'APROBADO', 'MARIA': 'SUFICIENTE'}\n"
     ]
    }
   ],
   "source": [
    "print(aplicarlistaMascomplica({'Matemáticas':6.5, 'Física':5, 'Química':3.4, 'Economía':8.2, 'Historia':9.7, 'Programación':5,\"Maria\":10}))\n"
   ]
  },
  {
   "cell_type": "markdown",
   "id": "99769ad4",
   "metadata": {},
   "source": [
    "6) Escribir un programa que almacene la cadena de caracteres contraseña en una variable, pregunte al usuario por la contraseña e\n",
    "imprima por pantalla si la contraseña introducida por el usuario coincide con la guardada en la variable sin tener en cuenta mayúsculas y\n",
    "minúsculas."
   ]
  },
  {
   "cell_type": "code",
   "execution_count": 54,
   "id": "8573980d",
   "metadata": {},
   "outputs": [],
   "source": [
    "def constraseña(key):\n",
    "    if key == password.lower():\n",
    "        print(\"La contaseña coincide\")\n",
    "    else:\n",
    "        print(\"La contraseña no coincide\")\n",
    "\n",
    "\n"
   ]
  },
  {
   "cell_type": "code",
   "execution_count": 57,
   "id": "6fef6dd2",
   "metadata": {
    "scrolled": true
   },
   "outputs": [
    {
     "name": "stdout",
     "output_type": "stream",
     "text": [
      "Introduce la contraseña: pass\n",
      "La contaseña coincide\n"
     ]
    }
   ],
   "source": [
    "password=\"pass\"\n",
    "constraseña(input(\"Introduce la contraseña: \"))"
   ]
  }
 ],
 "metadata": {
  "kernelspec": {
   "display_name": "Python 3 (ipykernel)",
   "language": "python",
   "name": "python3"
  },
  "language_info": {
   "codemirror_mode": {
    "name": "ipython",
    "version": 3
   },
   "file_extension": ".py",
   "mimetype": "text/x-python",
   "name": "python",
   "nbconvert_exporter": "python",
   "pygments_lexer": "ipython3",
   "version": "3.8.10"
  }
 },
 "nbformat": 4,
 "nbformat_minor": 5
}
