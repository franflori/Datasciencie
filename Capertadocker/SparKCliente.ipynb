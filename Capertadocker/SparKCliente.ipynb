{
 "cells": [
  {
   "cell_type": "markdown",
   "id": "d069088e-e42a-4c1b-ab2e-08311e611398",
   "metadata": {},
   "source": [
    "**Importamos las dependencias**"
   ]
  },
  {
   "cell_type": "code",
   "execution_count": null,
   "id": "e3e72d4d-e0b4-4258-9c61-3584b2b6116f",
   "metadata": {},
   "outputs": [],
   "source": [
    "from pyspark import SparkConf, SparkContext\n",
    "from pyspark.streaming import StreamingContext"
   ]
  },
  {
   "cell_type": "markdown",
   "id": "acd76a0b-e9ab-4d5c-8037-85b9904929fa",
   "metadata": {},
   "source": [
    "**Creamos el contexto de streaming**"
   ]
  },
  {
   "cell_type": "code",
   "execution_count": null,
   "id": "76ca6b51-608c-4470-8c2c-d07b007a044f",
   "metadata": {},
   "outputs": [],
   "source": [
    "# Crear la configuración de Spark\n",
    "conf = SparkConf()\n",
    "conf.setAppName(\"TwitterStreamingApp\")\n",
    "# Creamos el contexto con la configuración anterior:\n",
    "sc = SparkContext(conf=conf)\n",
    "sc.setLogLevel(\"WARN\")\n",
    "# Creamos el contexto de Streaming desde el contexto de spark visto arrib\n",
    "# con intervalo de tiempo cada 2 segundos.\n",
    "ssc = StreamingContext(sc, 2)\n",
    "# establece un punto de control para permitir la recuperación de RDD\n",
    "ssc.checkpoint(\"checkpoint_TwitterAPP\")\n",
    "dataStream = ssc.socketTextStream(\"localhost\", 9009)"
   ]
  },
  {
   "cell_type": "code",
   "execution_count": null,
   "id": "1e0945c5-981d-4f75-8b5b-0208ecec2dc6",
   "metadata": {},
   "outputs": [],
   "source": [
    "# recogida de la información\n",
    "dataStream.pprint()\n",
    "# comienza la computación streaming\n",
    "ssc.start()\n",
    "## espera que la transmisión termine\n",
    "ssc.awaitTermination()\n",
    "ssc.stop()"
   ]
  },
  {
   "cell_type": "code",
   "execution_count": null,
   "id": "83071b92-1a36-40da-adf0-b863a78dbc59",
   "metadata": {},
   "outputs": [],
   "source": []
  },
  {
   "cell_type": "code",
   "execution_count": null,
   "id": "fc8cb6b3-8f5b-410a-9532-cbc8fadce9cf",
   "metadata": {},
   "outputs": [],
   "source": []
  }
 ],
 "metadata": {
  "kernelspec": {
   "display_name": "Python 3 (ipykernel)",
   "language": "python",
   "name": "python3"
  },
  "language_info": {
   "codemirror_mode": {
    "name": "ipython",
    "version": 3
   },
   "file_extension": ".py",
   "mimetype": "text/x-python",
   "name": "python",
   "nbconvert_exporter": "python",
   "pygments_lexer": "ipython3",
   "version": "3.10.6"
  }
 },
 "nbformat": 4,
 "nbformat_minor": 5
}
