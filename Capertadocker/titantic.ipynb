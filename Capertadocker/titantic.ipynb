{
 "cells": [
  {
   "cell_type": "markdown",
   "id": "29af355a-f8e9-49e9-8b8a-c5b33ee2896f",
   "metadata": {},
   "source": [
    "## MLlib usando Titanic dataset ##"
   ]
  },
  {
   "cell_type": "code",
   "execution_count": 1,
   "id": "593ff85e-93e5-4ec9-b297-26c057e3d1b7",
   "metadata": {},
   "outputs": [],
   "source": [
    "from pyspark.sql import SparkSession\n",
    "from pyspark .sql.types import StructType\n",
    "spark = SparkSession.builder.appName(\"titanic\").getOrCreate()\n"
   ]
  },
  {
   "cell_type": "code",
   "execution_count": 2,
   "id": "3bac5b9e-eed4-42e1-88f8-9944396f6c4d",
   "metadata": {},
   "outputs": [],
   "source": [
    "\n",
    "df = spark.read.csv(\"train.csv\", header=True).cache()\n"
   ]
  },
  {
   "cell_type": "code",
   "execution_count": 3,
   "id": "9900c15c-3294-4790-bceb-29f5f687058a",
   "metadata": {},
   "outputs": [
    {
     "name": "stdout",
     "output_type": "stream",
     "text": [
      "+-----------+--------+------+--------------------+------+----+-----+-----+----------------+-------+-----+--------+\n",
      "|PassengerId|Survived|Pclass|                Name|   Sex| Age|SibSp|Parch|          Ticket|   Fare|Cabin|Embarked|\n",
      "+-----------+--------+------+--------------------+------+----+-----+-----+----------------+-------+-----+--------+\n",
      "|          1|       0|     3|Braund, Mr. Owen ...|  male|  22|    1|    0|       A/5 21171|   7.25| null|       S|\n",
      "|          2|       1|     1|Cumings, Mrs. Joh...|female|  38|    1|    0|        PC 17599|71.2833|  C85|       C|\n",
      "|          3|       1|     3|Heikkinen, Miss. ...|female|  26|    0|    0|STON/O2. 3101282|  7.925| null|       S|\n",
      "|          4|       1|     1|Futrelle, Mrs. Ja...|female|  35|    1|    0|          113803|   53.1| C123|       S|\n",
      "|          5|       0|     3|Allen, Mr. Willia...|  male|  35|    0|    0|          373450|   8.05| null|       S|\n",
      "|          6|       0|     3|    Moran, Mr. James|  male|null|    0|    0|          330877| 8.4583| null|       Q|\n",
      "|          7|       0|     1|McCarthy, Mr. Tim...|  male|  54|    0|    0|           17463|51.8625|  E46|       S|\n",
      "|          8|       0|     3|Palsson, Master. ...|  male|   2|    3|    1|          349909| 21.075| null|       S|\n",
      "|          9|       1|     3|Johnson, Mrs. Osc...|female|  27|    0|    2|          347742|11.1333| null|       S|\n",
      "|         10|       1|     2|Nasser, Mrs. Nich...|female|  14|    1|    0|          237736|30.0708| null|       C|\n",
      "+-----------+--------+------+--------------------+------+----+-----+-----+----------------+-------+-----+--------+\n",
      "only showing top 10 rows\n",
      "\n"
     ]
    }
   ],
   "source": [
    "df.show(10)"
   ]
  },
  {
   "cell_type": "code",
   "execution_count": 4,
   "id": "92e928de-f790-4947-863b-248e2b0be417",
   "metadata": {},
   "outputs": [
    {
     "data": {
      "text/html": [
       "<div>\n",
       "<style scoped>\n",
       "    .dataframe tbody tr th:only-of-type {\n",
       "        vertical-align: middle;\n",
       "    }\n",
       "\n",
       "    .dataframe tbody tr th {\n",
       "        vertical-align: top;\n",
       "    }\n",
       "\n",
       "    .dataframe thead th {\n",
       "        text-align: right;\n",
       "    }\n",
       "</style>\n",
       "<table border=\"1\" class=\"dataframe\">\n",
       "  <thead>\n",
       "    <tr style=\"text-align: right;\">\n",
       "      <th></th>\n",
       "      <th>PassengerId</th>\n",
       "      <th>Survived</th>\n",
       "      <th>Pclass</th>\n",
       "      <th>Name</th>\n",
       "      <th>Sex</th>\n",
       "      <th>Age</th>\n",
       "      <th>SibSp</th>\n",
       "      <th>Parch</th>\n",
       "      <th>Ticket</th>\n",
       "      <th>Fare</th>\n",
       "      <th>Cabin</th>\n",
       "      <th>Embarked</th>\n",
       "    </tr>\n",
       "  </thead>\n",
       "  <tbody>\n",
       "    <tr>\n",
       "      <th>0</th>\n",
       "      <td>1</td>\n",
       "      <td>0</td>\n",
       "      <td>3</td>\n",
       "      <td>Braund, Mr. Owen Harris</td>\n",
       "      <td>male</td>\n",
       "      <td>22</td>\n",
       "      <td>1</td>\n",
       "      <td>0</td>\n",
       "      <td>A/5 21171</td>\n",
       "      <td>7.25</td>\n",
       "      <td>None</td>\n",
       "      <td>S</td>\n",
       "    </tr>\n",
       "    <tr>\n",
       "      <th>1</th>\n",
       "      <td>2</td>\n",
       "      <td>1</td>\n",
       "      <td>1</td>\n",
       "      <td>Cumings, Mrs. John Bradley (Florence Briggs Th...</td>\n",
       "      <td>female</td>\n",
       "      <td>38</td>\n",
       "      <td>1</td>\n",
       "      <td>0</td>\n",
       "      <td>PC 17599</td>\n",
       "      <td>71.2833</td>\n",
       "      <td>C85</td>\n",
       "      <td>C</td>\n",
       "    </tr>\n",
       "    <tr>\n",
       "      <th>2</th>\n",
       "      <td>3</td>\n",
       "      <td>1</td>\n",
       "      <td>3</td>\n",
       "      <td>Heikkinen, Miss. Laina</td>\n",
       "      <td>female</td>\n",
       "      <td>26</td>\n",
       "      <td>0</td>\n",
       "      <td>0</td>\n",
       "      <td>STON/O2. 3101282</td>\n",
       "      <td>7.925</td>\n",
       "      <td>None</td>\n",
       "      <td>S</td>\n",
       "    </tr>\n",
       "    <tr>\n",
       "      <th>3</th>\n",
       "      <td>4</td>\n",
       "      <td>1</td>\n",
       "      <td>1</td>\n",
       "      <td>Futrelle, Mrs. Jacques Heath (Lily May Peel)</td>\n",
       "      <td>female</td>\n",
       "      <td>35</td>\n",
       "      <td>1</td>\n",
       "      <td>0</td>\n",
       "      <td>113803</td>\n",
       "      <td>53.1</td>\n",
       "      <td>C123</td>\n",
       "      <td>S</td>\n",
       "    </tr>\n",
       "    <tr>\n",
       "      <th>4</th>\n",
       "      <td>5</td>\n",
       "      <td>0</td>\n",
       "      <td>3</td>\n",
       "      <td>Allen, Mr. William Henry</td>\n",
       "      <td>male</td>\n",
       "      <td>35</td>\n",
       "      <td>0</td>\n",
       "      <td>0</td>\n",
       "      <td>373450</td>\n",
       "      <td>8.05</td>\n",
       "      <td>None</td>\n",
       "      <td>S</td>\n",
       "    </tr>\n",
       "    <tr>\n",
       "      <th>...</th>\n",
       "      <td>...</td>\n",
       "      <td>...</td>\n",
       "      <td>...</td>\n",
       "      <td>...</td>\n",
       "      <td>...</td>\n",
       "      <td>...</td>\n",
       "      <td>...</td>\n",
       "      <td>...</td>\n",
       "      <td>...</td>\n",
       "      <td>...</td>\n",
       "      <td>...</td>\n",
       "      <td>...</td>\n",
       "    </tr>\n",
       "    <tr>\n",
       "      <th>886</th>\n",
       "      <td>887</td>\n",
       "      <td>0</td>\n",
       "      <td>2</td>\n",
       "      <td>Montvila, Rev. Juozas</td>\n",
       "      <td>male</td>\n",
       "      <td>27</td>\n",
       "      <td>0</td>\n",
       "      <td>0</td>\n",
       "      <td>211536</td>\n",
       "      <td>13</td>\n",
       "      <td>None</td>\n",
       "      <td>S</td>\n",
       "    </tr>\n",
       "    <tr>\n",
       "      <th>887</th>\n",
       "      <td>888</td>\n",
       "      <td>1</td>\n",
       "      <td>1</td>\n",
       "      <td>Graham, Miss. Margaret Edith</td>\n",
       "      <td>female</td>\n",
       "      <td>19</td>\n",
       "      <td>0</td>\n",
       "      <td>0</td>\n",
       "      <td>112053</td>\n",
       "      <td>30</td>\n",
       "      <td>B42</td>\n",
       "      <td>S</td>\n",
       "    </tr>\n",
       "    <tr>\n",
       "      <th>888</th>\n",
       "      <td>889</td>\n",
       "      <td>0</td>\n",
       "      <td>3</td>\n",
       "      <td>\"Johnston, Miss. Catherine Helen \"\"Carrie\"\"\"</td>\n",
       "      <td>female</td>\n",
       "      <td>None</td>\n",
       "      <td>1</td>\n",
       "      <td>2</td>\n",
       "      <td>W./C. 6607</td>\n",
       "      <td>23.45</td>\n",
       "      <td>None</td>\n",
       "      <td>S</td>\n",
       "    </tr>\n",
       "    <tr>\n",
       "      <th>889</th>\n",
       "      <td>890</td>\n",
       "      <td>1</td>\n",
       "      <td>1</td>\n",
       "      <td>Behr, Mr. Karl Howell</td>\n",
       "      <td>male</td>\n",
       "      <td>26</td>\n",
       "      <td>0</td>\n",
       "      <td>0</td>\n",
       "      <td>111369</td>\n",
       "      <td>30</td>\n",
       "      <td>C148</td>\n",
       "      <td>C</td>\n",
       "    </tr>\n",
       "    <tr>\n",
       "      <th>890</th>\n",
       "      <td>891</td>\n",
       "      <td>0</td>\n",
       "      <td>3</td>\n",
       "      <td>Dooley, Mr. Patrick</td>\n",
       "      <td>male</td>\n",
       "      <td>32</td>\n",
       "      <td>0</td>\n",
       "      <td>0</td>\n",
       "      <td>370376</td>\n",
       "      <td>7.75</td>\n",
       "      <td>None</td>\n",
       "      <td>Q</td>\n",
       "    </tr>\n",
       "  </tbody>\n",
       "</table>\n",
       "<p>891 rows × 12 columns</p>\n",
       "</div>"
      ],
      "text/plain": [
       "    PassengerId Survived Pclass  \\\n",
       "0             1        0      3   \n",
       "1             2        1      1   \n",
       "2             3        1      3   \n",
       "3             4        1      1   \n",
       "4             5        0      3   \n",
       "..          ...      ...    ...   \n",
       "886         887        0      2   \n",
       "887         888        1      1   \n",
       "888         889        0      3   \n",
       "889         890        1      1   \n",
       "890         891        0      3   \n",
       "\n",
       "                                                  Name     Sex   Age SibSp  \\\n",
       "0                              Braund, Mr. Owen Harris    male    22     1   \n",
       "1    Cumings, Mrs. John Bradley (Florence Briggs Th...  female    38     1   \n",
       "2                               Heikkinen, Miss. Laina  female    26     0   \n",
       "3         Futrelle, Mrs. Jacques Heath (Lily May Peel)  female    35     1   \n",
       "4                             Allen, Mr. William Henry    male    35     0   \n",
       "..                                                 ...     ...   ...   ...   \n",
       "886                              Montvila, Rev. Juozas    male    27     0   \n",
       "887                       Graham, Miss. Margaret Edith  female    19     0   \n",
       "888       \"Johnston, Miss. Catherine Helen \"\"Carrie\"\"\"  female  None     1   \n",
       "889                              Behr, Mr. Karl Howell    male    26     0   \n",
       "890                                Dooley, Mr. Patrick    male    32     0   \n",
       "\n",
       "    Parch            Ticket     Fare Cabin Embarked  \n",
       "0       0         A/5 21171     7.25  None        S  \n",
       "1       0          PC 17599  71.2833   C85        C  \n",
       "2       0  STON/O2. 3101282    7.925  None        S  \n",
       "3       0            113803     53.1  C123        S  \n",
       "4       0            373450     8.05  None        S  \n",
       "..    ...               ...      ...   ...      ...  \n",
       "886     0            211536       13  None        S  \n",
       "887     0            112053       30   B42        S  \n",
       "888     2        W./C. 6607    23.45  None        S  \n",
       "889     0            111369       30  C148        C  \n",
       "890     0            370376     7.75  None        Q  \n",
       "\n",
       "[891 rows x 12 columns]"
      ]
     },
     "execution_count": 4,
     "metadata": {},
     "output_type": "execute_result"
    }
   ],
   "source": [
    "df.toPandas()\n"
   ]
  },
  {
   "cell_type": "code",
   "execution_count": 5,
   "id": "eb10c7f2-d5d9-41fd-8704-3fd813b25143",
   "metadata": {},
   "outputs": [
    {
     "data": {
      "text/plain": [
       "891"
      ]
     },
     "execution_count": 5,
     "metadata": {},
     "output_type": "execute_result"
    }
   ],
   "source": [
    "df.count()\n"
   ]
  },
  {
   "cell_type": "code",
   "execution_count": 6,
   "id": "f54abddb-8355-4d8b-a41a-746f34bbea8d",
   "metadata": {},
   "outputs": [
    {
     "data": {
      "text/plain": [
       "['PassengerId',\n",
       " 'Survived',\n",
       " 'Pclass',\n",
       " 'Name',\n",
       " 'Sex',\n",
       " 'Age',\n",
       " 'SibSp',\n",
       " 'Parch',\n",
       " 'Ticket',\n",
       " 'Fare',\n",
       " 'Cabin',\n",
       " 'Embarked']"
      ]
     },
     "execution_count": 6,
     "metadata": {},
     "output_type": "execute_result"
    }
   ],
   "source": [
    "\n",
    "df.columns"
   ]
  },
  {
   "cell_type": "code",
   "execution_count": 7,
   "id": "3720032e-599d-4b1d-8390-408a18b3a45f",
   "metadata": {},
   "outputs": [
    {
     "data": {
      "text/plain": [
       "[('PassengerId', 'string'),\n",
       " ('Survived', 'string'),\n",
       " ('Pclass', 'string'),\n",
       " ('Name', 'string'),\n",
       " ('Sex', 'string'),\n",
       " ('Age', 'string'),\n",
       " ('SibSp', 'string'),\n",
       " ('Parch', 'string'),\n",
       " ('Ticket', 'string'),\n",
       " ('Fare', 'string'),\n",
       " ('Cabin', 'string'),\n",
       " ('Embarked', 'string')]"
      ]
     },
     "execution_count": 7,
     "metadata": {},
     "output_type": "execute_result"
    }
   ],
   "source": [
    "\n",
    "df.dtypes"
   ]
  },
  {
   "cell_type": "code",
   "execution_count": 8,
   "id": "7bf32af3-1647-4a49-8311-97ca995d1f94",
   "metadata": {},
   "outputs": [
    {
     "data": {
      "text/html": [
       "<div>\n",
       "<style scoped>\n",
       "    .dataframe tbody tr th:only-of-type {\n",
       "        vertical-align: middle;\n",
       "    }\n",
       "\n",
       "    .dataframe tbody tr th {\n",
       "        vertical-align: top;\n",
       "    }\n",
       "\n",
       "    .dataframe thead th {\n",
       "        text-align: right;\n",
       "    }\n",
       "</style>\n",
       "<table border=\"1\" class=\"dataframe\">\n",
       "  <thead>\n",
       "    <tr style=\"text-align: right;\">\n",
       "      <th></th>\n",
       "      <th>summary</th>\n",
       "      <th>PassengerId</th>\n",
       "      <th>Survived</th>\n",
       "      <th>Pclass</th>\n",
       "      <th>Name</th>\n",
       "      <th>Sex</th>\n",
       "      <th>Age</th>\n",
       "      <th>SibSp</th>\n",
       "      <th>Parch</th>\n",
       "      <th>Ticket</th>\n",
       "      <th>Fare</th>\n",
       "      <th>Cabin</th>\n",
       "      <th>Embarked</th>\n",
       "    </tr>\n",
       "  </thead>\n",
       "  <tbody>\n",
       "    <tr>\n",
       "      <th>0</th>\n",
       "      <td>count</td>\n",
       "      <td>891</td>\n",
       "      <td>891</td>\n",
       "      <td>891</td>\n",
       "      <td>891</td>\n",
       "      <td>891</td>\n",
       "      <td>714</td>\n",
       "      <td>891</td>\n",
       "      <td>891</td>\n",
       "      <td>891</td>\n",
       "      <td>891</td>\n",
       "      <td>204</td>\n",
       "      <td>889</td>\n",
       "    </tr>\n",
       "    <tr>\n",
       "      <th>1</th>\n",
       "      <td>mean</td>\n",
       "      <td>446.0</td>\n",
       "      <td>0.3838383838383838</td>\n",
       "      <td>2.308641975308642</td>\n",
       "      <td>None</td>\n",
       "      <td>None</td>\n",
       "      <td>29.69911764705882</td>\n",
       "      <td>0.5230078563411896</td>\n",
       "      <td>0.38159371492704824</td>\n",
       "      <td>260318.54916792738</td>\n",
       "      <td>32.2042079685746</td>\n",
       "      <td>None</td>\n",
       "      <td>None</td>\n",
       "    </tr>\n",
       "    <tr>\n",
       "      <th>2</th>\n",
       "      <td>stddev</td>\n",
       "      <td>257.3538420152301</td>\n",
       "      <td>0.48659245426485753</td>\n",
       "      <td>0.8360712409770491</td>\n",
       "      <td>None</td>\n",
       "      <td>None</td>\n",
       "      <td>14.526497332334035</td>\n",
       "      <td>1.1027434322934315</td>\n",
       "      <td>0.8060572211299488</td>\n",
       "      <td>471609.26868834975</td>\n",
       "      <td>49.69342859718089</td>\n",
       "      <td>None</td>\n",
       "      <td>None</td>\n",
       "    </tr>\n",
       "    <tr>\n",
       "      <th>3</th>\n",
       "      <td>min</td>\n",
       "      <td>1</td>\n",
       "      <td>0</td>\n",
       "      <td>1</td>\n",
       "      <td>\"Andersson, Mr. August Edvard (\"\"Wennerstrom\"\")\"</td>\n",
       "      <td>female</td>\n",
       "      <td>0.42</td>\n",
       "      <td>0</td>\n",
       "      <td>0</td>\n",
       "      <td>110152</td>\n",
       "      <td>0</td>\n",
       "      <td>A10</td>\n",
       "      <td>C</td>\n",
       "    </tr>\n",
       "    <tr>\n",
       "      <th>4</th>\n",
       "      <td>max</td>\n",
       "      <td>99</td>\n",
       "      <td>1</td>\n",
       "      <td>3</td>\n",
       "      <td>van Melkebeke, Mr. Philemon</td>\n",
       "      <td>male</td>\n",
       "      <td>9</td>\n",
       "      <td>8</td>\n",
       "      <td>6</td>\n",
       "      <td>WE/P 5735</td>\n",
       "      <td>93.5</td>\n",
       "      <td>T</td>\n",
       "      <td>S</td>\n",
       "    </tr>\n",
       "  </tbody>\n",
       "</table>\n",
       "</div>"
      ],
      "text/plain": [
       "  summary        PassengerId             Survived              Pclass  \\\n",
       "0   count                891                  891                 891   \n",
       "1    mean              446.0   0.3838383838383838   2.308641975308642   \n",
       "2  stddev  257.3538420152301  0.48659245426485753  0.8360712409770491   \n",
       "3     min                  1                    0                   1   \n",
       "4     max                 99                    1                   3   \n",
       "\n",
       "                                               Name     Sex  \\\n",
       "0                                               891     891   \n",
       "1                                              None    None   \n",
       "2                                              None    None   \n",
       "3  \"Andersson, Mr. August Edvard (\"\"Wennerstrom\"\")\"  female   \n",
       "4                       van Melkebeke, Mr. Philemon    male   \n",
       "\n",
       "                  Age               SibSp                Parch  \\\n",
       "0                 714                 891                  891   \n",
       "1   29.69911764705882  0.5230078563411896  0.38159371492704824   \n",
       "2  14.526497332334035  1.1027434322934315   0.8060572211299488   \n",
       "3                0.42                   0                    0   \n",
       "4                   9                   8                    6   \n",
       "\n",
       "               Ticket               Fare Cabin Embarked  \n",
       "0                 891                891   204      889  \n",
       "1  260318.54916792738   32.2042079685746  None     None  \n",
       "2  471609.26868834975  49.69342859718089  None     None  \n",
       "3              110152                  0   A10        C  \n",
       "4           WE/P 5735               93.5     T        S  "
      ]
     },
     "execution_count": 8,
     "metadata": {},
     "output_type": "execute_result"
    }
   ],
   "source": [
    "df.describe().toPandas()\n"
   ]
  },
  {
   "cell_type": "code",
   "execution_count": 9,
   "id": "79cec65c-ba90-4d00-93a4-aaf3b4fc8cf8",
   "metadata": {},
   "outputs": [
    {
     "name": "stdout",
     "output_type": "stream",
     "text": [
      "+--------+------+------+----+-------+--------+\n",
      "|Survived|Pclass|   Sex| Age|   Fare|Embarked|\n",
      "+--------+------+------+----+-------+--------+\n",
      "|     0.0|   3.0|  male|22.0|   7.25|       S|\n",
      "|     1.0|   1.0|female|38.0|71.2833|       C|\n",
      "|     1.0|   3.0|female|26.0|  7.925|       S|\n",
      "|     1.0|   1.0|female|35.0|   53.1|       S|\n",
      "|     0.0|   3.0|  male|35.0|   8.05|       S|\n",
      "|     0.0|   3.0|  male|null| 8.4583|       Q|\n",
      "|     0.0|   1.0|  male|54.0|51.8625|       S|\n",
      "|     0.0|   3.0|  male| 2.0| 21.075|       S|\n",
      "|     1.0|   3.0|female|27.0|11.1333|       S|\n",
      "|     1.0|   2.0|female|14.0|30.0708|       C|\n",
      "|     1.0|   3.0|female| 4.0|   16.7|       S|\n",
      "|     1.0|   1.0|female|58.0|  26.55|       S|\n",
      "|     0.0|   3.0|  male|20.0|   8.05|       S|\n",
      "|     0.0|   3.0|  male|39.0| 31.275|       S|\n",
      "|     0.0|   3.0|female|14.0| 7.8542|       S|\n",
      "|     1.0|   2.0|female|55.0|   16.0|       S|\n",
      "|     0.0|   3.0|  male| 2.0| 29.125|       Q|\n",
      "|     1.0|   2.0|  male|null|   13.0|       S|\n",
      "|     0.0|   3.0|female|31.0|   18.0|       S|\n",
      "|     1.0|   3.0|female|null|  7.225|       C|\n",
      "+--------+------+------+----+-------+--------+\n",
      "only showing top 20 rows\n",
      "\n"
     ]
    }
   ],
   "source": [
    "\n",
    "# Realizamos la transformación de las columnas de string a numeros:\n",
    "from pyspark.sql.functions import col\n",
    "dataset = df.select(col(\"Survived\").cast(\"float\"),\n",
    " col(\"Pclass\").cast(\"float\"),\n",
    " col(\"Sex\"),\n",
    " col(\"Age\").cast(\"float\"),\n",
    " col(\"Fare\").cast(\"float\"),\n",
    " col(\"Embarked\"))\n",
    "dataset.show()"
   ]
  },
  {
   "cell_type": "code",
   "execution_count": 10,
   "id": "0622d2fd-a6cf-4eb3-ac3d-f4868a67030a",
   "metadata": {},
   "outputs": [],
   "source": [
    "from pyspark.sql.functions import isnull, when, count\n"
   ]
  },
  {
   "cell_type": "code",
   "execution_count": 11,
   "id": "15a18d2e-a836-4cc4-8518-c238677c2fb0",
   "metadata": {},
   "outputs": [],
   "source": [
    "\n",
    "dataset = dataset.replace(\"?\", None).dropna(how=\"any\")\n",
    "\n"
   ]
  },
  {
   "cell_type": "code",
   "execution_count": 12,
   "id": "112bf9b6-a22d-4721-9db4-943b3da439f0",
   "metadata": {},
   "outputs": [
    {
     "name": "stdout",
     "output_type": "stream",
     "text": [
      "+--------+------+------+----+-------+--------+------+-------+\n",
      "|Survived|Pclass|   Sex| Age|   Fare|Embarked|Gender|Boarded|\n",
      "+--------+------+------+----+-------+--------+------+-------+\n",
      "|     0.0|   3.0|  male|22.0|   7.25|       S|   0.0|    0.0|\n",
      "|     1.0|   1.0|female|38.0|71.2833|       C|   1.0|    1.0|\n",
      "|     1.0|   3.0|female|26.0|  7.925|       S|   1.0|    0.0|\n",
      "|     1.0|   1.0|female|35.0|   53.1|       S|   1.0|    0.0|\n",
      "|     0.0|   3.0|  male|35.0|   8.05|       S|   0.0|    0.0|\n",
      "|     0.0|   1.0|  male|54.0|51.8625|       S|   0.0|    0.0|\n",
      "|     0.0|   3.0|  male| 2.0| 21.075|       S|   0.0|    0.0|\n",
      "|     1.0|   3.0|female|27.0|11.1333|       S|   1.0|    0.0|\n",
      "|     1.0|   2.0|female|14.0|30.0708|       C|   1.0|    1.0|\n",
      "|     1.0|   3.0|female| 4.0|   16.7|       S|   1.0|    0.0|\n",
      "|     1.0|   1.0|female|58.0|  26.55|       S|   1.0|    0.0|\n",
      "|     0.0|   3.0|  male|20.0|   8.05|       S|   0.0|    0.0|\n",
      "|     0.0|   3.0|  male|39.0| 31.275|       S|   0.0|    0.0|\n",
      "|     0.0|   3.0|female|14.0| 7.8542|       S|   1.0|    0.0|\n",
      "|     1.0|   2.0|female|55.0|   16.0|       S|   1.0|    0.0|\n",
      "|     0.0|   3.0|  male| 2.0| 29.125|       Q|   0.0|    2.0|\n",
      "|     0.0|   3.0|female|31.0|   18.0|       S|   1.0|    0.0|\n",
      "|     0.0|   2.0|  male|35.0|   26.0|       S|   0.0|    0.0|\n",
      "|     1.0|   2.0|  male|34.0|   13.0|       S|   0.0|    0.0|\n",
      "|     1.0|   3.0|female|15.0| 8.0292|       Q|   1.0|    2.0|\n",
      "+--------+------+------+----+-------+--------+------+-------+\n",
      "only showing top 20 rows\n",
      "\n"
     ]
    }
   ],
   "source": [
    "# Modificación de las columnas en formato string a número.\n",
    "from pyspark.ml.feature import StringIndexer\n",
    "dataset = StringIndexer(inputCol=\"Sex\",\n",
    " outputCol=\"Gender\",\n",
    " handleInvalid=\"keep\")\\\n",
    " .fit(dataset).transform(dataset)\n",
    "dataset = StringIndexer(inputCol=\"Embarked\",\n",
    " outputCol=\"Boarded\",\n",
    " handleInvalid=\"keep\") \\\n",
    " .fit(dataset).transform(dataset)\n",
    "dataset.show()"
   ]
  },
  {
   "cell_type": "markdown",
   "id": "70f9cf8a-8e97-404f-9ad0-f34ad8e7489b",
   "metadata": {},
   "source": [
    "Observamos que nos ha creado dos nuevas columnas con los valores de:\n",
    "    \n",
    "    Hombre: 0\n",
    "    Mujer: 1\n",
    "    S: 0\n",
    "    C: 1\n",
    "    Q: 2"
   ]
  },
  {
   "cell_type": "code",
   "execution_count": 13,
   "id": "fef99413-5bb0-41e2-86b6-5cf04cd9f8ad",
   "metadata": {},
   "outputs": [
    {
     "data": {
      "text/plain": [
       "[('Survived', 'float'),\n",
       " ('Pclass', 'float'),\n",
       " ('Sex', 'string'),\n",
       " ('Age', 'float'),\n",
       " ('Fare', 'float'),\n",
       " ('Embarked', 'string'),\n",
       " ('Gender', 'double'),\n",
       " ('Boarded', 'double')]"
      ]
     },
     "execution_count": 13,
     "metadata": {},
     "output_type": "execute_result"
    }
   ],
   "source": [
    "dataset.dtypes"
   ]
  },
  {
   "cell_type": "code",
   "execution_count": 14,
   "id": "1c2e18d1-ad24-4749-92ef-09916f87b9a2",
   "metadata": {},
   "outputs": [
    {
     "name": "stdout",
     "output_type": "stream",
     "text": [
      "+--------+------+----+-------+------+-------+\n",
      "|Survived|Pclass| Age|   Fare|Gender|Boarded|\n",
      "+--------+------+----+-------+------+-------+\n",
      "|     0.0|   3.0|22.0|   7.25|   0.0|    0.0|\n",
      "|     1.0|   1.0|38.0|71.2833|   1.0|    1.0|\n",
      "|     1.0|   3.0|26.0|  7.925|   1.0|    0.0|\n",
      "|     1.0|   1.0|35.0|   53.1|   1.0|    0.0|\n",
      "|     0.0|   3.0|35.0|   8.05|   0.0|    0.0|\n",
      "|     0.0|   1.0|54.0|51.8625|   0.0|    0.0|\n",
      "|     0.0|   3.0| 2.0| 21.075|   0.0|    0.0|\n",
      "|     1.0|   3.0|27.0|11.1333|   1.0|    0.0|\n",
      "|     1.0|   2.0|14.0|30.0708|   1.0|    1.0|\n",
      "|     1.0|   3.0| 4.0|   16.7|   1.0|    0.0|\n",
      "|     1.0|   1.0|58.0|  26.55|   1.0|    0.0|\n",
      "|     0.0|   3.0|20.0|   8.05|   0.0|    0.0|\n",
      "|     0.0|   3.0|39.0| 31.275|   0.0|    0.0|\n",
      "|     0.0|   3.0|14.0| 7.8542|   1.0|    0.0|\n",
      "|     1.0|   2.0|55.0|   16.0|   1.0|    0.0|\n",
      "|     0.0|   3.0| 2.0| 29.125|   0.0|    2.0|\n",
      "|     0.0|   3.0|31.0|   18.0|   1.0|    0.0|\n",
      "|     0.0|   2.0|35.0|   26.0|   0.0|    0.0|\n",
      "|     1.0|   2.0|34.0|   13.0|   0.0|    0.0|\n",
      "|     1.0|   3.0|15.0| 8.0292|   1.0|    2.0|\n",
      "+--------+------+----+-------+------+-------+\n",
      "only showing top 20 rows\n",
      "\n"
     ]
    }
   ],
   "source": [
    "dataset = dataset.drop(\"Sex\")\n",
    "dataset = dataset.drop(\"Embarked\")\n",
    "dataset.show()\n"
   ]
  },
  {
   "cell_type": "markdown",
   "id": "2c706dcf-bc15-4b51-b98c-357904f33837",
   "metadata": {},
   "source": [
    "## Realizamos un vetor con la información correspondiente a la X: ##"
   ]
  },
  {
   "cell_type": "code",
   "execution_count": 15,
   "id": "da65e3bb-4248-4d19-97cb-42bd139ab8c4",
   "metadata": {},
   "outputs": [],
   "source": [
    "required_features = ['Pclass', 'Age',\n",
    " 'Fare', 'Gender',\n",
    " 'Boarded']\n"
   ]
  },
  {
   "cell_type": "code",
   "execution_count": 16,
   "id": "51b0f2e5-2864-44e4-93f4-0047c6580da9",
   "metadata": {},
   "outputs": [],
   "source": [
    "from pyspark.ml.feature import VectorAssembler"
   ]
  },
  {
   "cell_type": "raw",
   "id": "4a68adb0-3683-489b-9690-4b6742678b33",
   "metadata": {},
   "source": [
    "assembler = VectorAssembler(inputCols=required_features,\n",
    " outputCol=\"feature\")\n",
    "transformed_data = assembler.transform(dataset)\n"
   ]
  },
  {
   "cell_type": "code",
   "execution_count": 18,
   "id": "875ccd76-a936-4738-934c-49a18dda8c72",
   "metadata": {},
   "outputs": [
    {
     "name": "stdout",
     "output_type": "stream",
     "text": [
      "+--------+------+----+-------+------+-------+--------------------+\n",
      "|Survived|Pclass| Age|   Fare|Gender|Boarded|             feature|\n",
      "+--------+------+----+-------+------+-------+--------------------+\n",
      "|     0.0|   3.0|22.0|   7.25|   0.0|    0.0|[3.0,22.0,7.25,0....|\n",
      "|     1.0|   1.0|38.0|71.2833|   1.0|    1.0|[1.0,38.0,71.2833...|\n",
      "|     1.0|   3.0|26.0|  7.925|   1.0|    0.0|[3.0,26.0,7.92500...|\n",
      "|     1.0|   1.0|35.0|   53.1|   1.0|    0.0|[1.0,35.0,53.0999...|\n",
      "|     0.0|   3.0|35.0|   8.05|   0.0|    0.0|[3.0,35.0,8.05000...|\n",
      "+--------+------+----+-------+------+-------+--------------------+\n",
      "only showing top 5 rows\n",
      "\n"
     ]
    }
   ],
   "source": [
    "transformed_data.show(5)"
   ]
  },
  {
   "cell_type": "markdown",
   "id": "3c4bf397-b35b-4aa9-bd0a-5bc9251b66df",
   "metadata": {},
   "source": [
    "## Realizamos los modelos... ## "
   ]
  },
  {
   "cell_type": "markdown",
   "id": "2502a36f-c26a-4dbb-bba2-71004f8a421d",
   "metadata": {},
   "source": [
    "**Algoritmo de Decission Tree Classifier**"
   ]
  },
  {
   "cell_type": "code",
   "execution_count": 19,
   "id": "c2460bb7-c4bf-4356-b6d6-0ffd98004711",
   "metadata": {},
   "outputs": [],
   "source": [
    "# Crearemos los dataset de entrenamiento y test:\n",
    "training_data, test_data = transformed_data.randomSplit([0.8, 0.2])\n"
   ]
  },
  {
   "cell_type": "code",
   "execution_count": 20,
   "id": "2f5918bb-b257-4b89-b8c1-d498a7ed5ab6",
   "metadata": {},
   "outputs": [],
   "source": [
    "from pyspark.ml.classification import DecisionTreeClassifier\n",
    "dt = DecisionTreeClassifier(labelCol=\"Survived\",\n",
    " featuresCol=\"feature\",\n",
    " maxDepth=5)"
   ]
  },
  {
   "cell_type": "code",
   "execution_count": 21,
   "id": "d08c5123-8081-4017-9da6-1a0dfc28cb9d",
   "metadata": {},
   "outputs": [],
   "source": [
    "model = dt.fit(training_data)\n"
   ]
  },
  {
   "cell_type": "code",
   "execution_count": 22,
   "id": "a7a7d392-03a3-4d18-8d50-ed6f1a1a6eb9",
   "metadata": {},
   "outputs": [],
   "source": [
    "predictions = model.transform(test_data)"
   ]
  },
  {
   "cell_type": "code",
   "execution_count": 31,
   "id": "02429880-95a2-4478-b2cb-5ccf16522897",
   "metadata": {},
   "outputs": [
    {
     "name": "stdout",
     "output_type": "stream",
     "text": [
      "+--------+------+----+--------+------+-------+--------------------+--------------------+--------------------+----------+\n",
      "|Survived|Pclass| Age|    Fare|Gender|Boarded|             feature|       rawPrediction|         probability|prediction|\n",
      "+--------+------+----+--------+------+-------+--------------------+--------------------+--------------------+----------+\n",
      "|     0.0|   1.0|24.0|    79.2|   0.0|    1.0|[1.0,24.0,79.1999...|[-0.2759534510703...|[0.36542210638537...|       1.0|\n",
      "|     0.0|   1.0|28.0|    47.1|   0.0|    0.0|[1.0,28.0,47.0999...|[0.07917553735956...|[0.53950525343208...|       0.0|\n",
      "|     0.0|   1.0|28.0| 82.1708|   0.0|    1.0|[1.0,28.0,82.1707...|[-0.3760004311312...|[0.32038547934698...|       1.0|\n",
      "|     0.0|   1.0|29.0|    30.0|   0.0|    0.0|[1.0,29.0,30.0,0....|[0.07917553735956...|[0.53950525343208...|       0.0|\n",
      "|     0.0|   1.0|31.0| 50.4958|   0.0|    0.0|[1.0,31.0,50.4958...|[0.07917553735956...|[0.53950525343208...|       0.0|\n",
      "|     0.0|   1.0|38.0|     0.0|   0.0|    0.0|(5,[0,1],[1.0,38.0])|[1.05526128717469...|[0.89192171834731...|       0.0|\n",
      "|     0.0|   1.0|40.0|     0.0|   0.0|    0.0|(5,[0,1],[1.0,40.0])|[1.05526128717469...|[0.89192171834731...|       0.0|\n",
      "|     0.0|   1.0|40.0| 27.7208|   0.0|    1.0|[1.0,40.0,27.7208...|[0.07154349513386...|[0.53571084003946...|       0.0|\n",
      "|     0.0|   1.0|46.0|    79.2|   0.0|    1.0|[1.0,46.0,79.1999...|[-0.3484857681144...|[0.33248401889988...|       1.0|\n",
      "|     0.0|   1.0|50.0| 28.7125|   1.0|    1.0|[1.0,50.0,28.7124...|[-1.1562162311111...|[0.09009853060873...|       1.0|\n",
      "|     0.0|   1.0|51.0| 61.3792|   0.0|    1.0|[1.0,51.0,61.3791...|[-0.3484857681144...|[0.33248401889988...|       1.0|\n",
      "|     0.0|   1.0|56.0| 30.6958|   0.0|    1.0|[1.0,56.0,30.6958...|[0.73821016180053...|[0.81403128277731...|       0.0|\n",
      "|     0.0|   1.0|61.0|    33.5|   0.0|    0.0|[1.0,61.0,33.5,0....|[0.74584220402623...|[0.81633095841715...|       0.0|\n",
      "|     0.0|   1.0|71.0| 49.5042|   0.0|    1.0|[1.0,71.0,49.5041...|[0.48975763678646...|[0.72701202543548...|       0.0|\n",
      "|     0.0|   2.0|16.0|    26.0|   0.0|    0.0|[2.0,16.0,26.0,0....|[0.75418622905394...|[0.81881987996259...|       0.0|\n",
      "|     0.0|   2.0|18.0|    11.5|   0.0|    0.0|[2.0,18.0,11.5,0....|[0.94142272479666...|[0.86793761892142...|       0.0|\n",
      "|     0.0|   2.0|19.0|    13.0|   0.0|    0.0|[2.0,19.0,13.0,0....|[0.94142272479666...|[0.86793761892142...|       0.0|\n",
      "|     0.0|   2.0|24.0|    10.5|   0.0|    0.0|[2.0,24.0,10.5,0....|[0.90226680564108...|[0.85869991303897...|       0.0|\n",
      "|     0.0|   2.0|25.0|    13.0|   0.0|    0.0|[2.0,25.0,13.0,0....|[0.90226680564108...|[0.85869991303897...|       0.0|\n",
      "|     0.0|   2.0|26.0|    26.0|   1.0|    0.0|[2.0,26.0,26.0,1....|[-0.9157845852905...|[0.13805144640217...|       1.0|\n",
      "|     0.0|   2.0|27.0|    13.0|   0.0|    0.0|[2.0,27.0,13.0,0....|[0.86398566394184...|[0.84915274687641...|       0.0|\n",
      "|     0.0|   2.0|28.0|    10.5|   0.0|    0.0|[2.0,28.0,10.5,0....|[0.86398566394184...|[0.84915274687641...|       0.0|\n",
      "|     0.0|   2.0|28.0|    13.5|   0.0|    0.0|[2.0,28.0,13.5,0....|[0.86398566394184...|[0.84915274687641...|       0.0|\n",
      "|     0.0|   2.0|31.0|    10.5|   0.0|    0.0|[2.0,31.0,10.5,0....|[0.32917553735956...|[0.65888988304591...|       0.0|\n",
      "|     0.0|   2.0|33.0|  12.275|   0.0|    0.0|[2.0,33.0,12.2749...|[0.90060410878813...|[0.85829594699485...|       0.0|\n",
      "|     0.0|   2.0|34.0|    21.0|   0.0|    0.0|[2.0,34.0,21.0,0....|[0.90060410878813...|[0.85829594699485...|       0.0|\n",
      "|     0.0|   2.0|34.0|    26.0|   0.0|    0.0|[2.0,34.0,26.0,0....|[0.90060410878813...|[0.85829594699485...|       0.0|\n",
      "|     0.0|   2.0|36.0|    13.0|   0.0|    0.0|[2.0,36.0,13.0,0....|[0.90060410878813...|[0.85829594699485...|       0.0|\n",
      "|     0.0|   2.0|36.5|    26.0|   0.0|    0.0|[2.0,36.5,26.0,0....|[0.90060410878813...|[0.85829594699485...|       0.0|\n",
      "|     0.0|   2.0|38.0|    13.0|   1.0|    0.0|[2.0,38.0,13.0,1....|[-1.0992242140013...|[0.09988990734854...|       1.0|\n",
      "|     0.0|   2.0|39.0|    13.0|   0.0|    0.0|[2.0,39.0,13.0,0....|[0.90060410878813...|[0.85829594699485...|       0.0|\n",
      "|     0.0|   2.0|48.0|    13.0|   0.0|    0.0|[2.0,48.0,13.0,0....|[0.90060410878813...|[0.85829594699485...|       0.0|\n",
      "|     0.0|   2.0|50.0|    13.0|   0.0|    0.0|[2.0,50.0,13.0,0....|[0.90060410878813...|[0.85829594699485...|       0.0|\n",
      "|     0.0|   2.0|54.0|    26.0|   0.0|    0.0|[2.0,54.0,26.0,0....|[0.90060410878813...|[0.85829594699485...|       0.0|\n",
      "|     0.0|   2.0|57.0|   12.35|   0.0|    2.0|[2.0,57.0,12.3500...|[0.90060410878813...|[0.85829594699485...|       0.0|\n",
      "|     0.0|   2.0|60.0|    39.0|   0.0|    0.0|[2.0,60.0,39.0,0....|[0.90060410878813...|[0.85829594699485...|       0.0|\n",
      "|     0.0|   3.0| 2.0| 10.4625|   1.0|    0.0|[3.0,2.0,10.46249...|[-0.9343452717697...|[0.13369331027400...|       1.0|\n",
      "|     0.0|   3.0| 2.0|  31.275|   1.0|    0.0|[3.0,2.0,31.27499...|[0.98006957588197...|[0.87654801105815...|       0.0|\n",
      "|     0.0|   3.0| 7.0|  29.125|   0.0|    2.0|[3.0,7.0,29.125,0...|[1.13793579355952...|[0.90685892234750...|       0.0|\n",
      "|     0.0|   3.0|14.0|  7.8542|   1.0|    0.0|[3.0,14.0,7.85419...|[-0.8183286215625...|[0.16292042542425...|       1.0|\n",
      "|     0.0|   3.0|16.0|   7.775|   0.0|    0.0|[3.0,16.0,7.77500...|[0.64952198132171...|[0.78567403955239...|       0.0|\n",
      "|     0.0|   3.0|16.0|  9.2167|   0.0|    0.0|[3.0,16.0,9.21669...|[0.82626596823051...|[0.83923295531283...|       0.0|\n",
      "|     0.0|   3.0|16.0|    18.0|   0.0|    0.0|[3.0,16.0,18.0,0....|[0.92274592014179...|[0.86359692399507...|       0.0|\n",
      "|     0.0|   3.0|16.0|   20.25|   0.0|    0.0|[3.0,16.0,20.25,0...|[0.92274592014179...|[0.86359692399507...|       0.0|\n",
      "|     0.0|   3.0|17.0|  8.6625|   0.0|    0.0|[3.0,17.0,8.66250...|[0.94142272479666...|[0.86793761892142...|       0.0|\n",
      "|     0.0|   3.0|19.0|     0.0|   0.0|    0.0|(5,[0,1],[3.0,19.0])|[0.90863020422492...|[0.86023707294756...|       0.0|\n",
      "|     0.0|   3.0|20.0|  7.8542|   0.0|    0.0|[3.0,20.0,7.85419...|[0.90863020422492...|[0.86023707294756...|       0.0|\n",
      "|     0.0|   3.0|20.0|    8.05|   0.0|    0.0|[3.0,20.0,8.05000...|[0.85835918536197...|[0.84770565870368...|       0.0|\n",
      "|     0.0|   3.0|20.0|  8.6625|   1.0|    0.0|[3.0,20.0,8.66250...|[0.09883341045675...|[0.54925642992876...|       0.0|\n",
      "|     0.0|   3.0|20.0|     9.5|   0.0|    0.0|[3.0,20.0,9.5,0.0...|[0.94142272479666...|[0.86793761892142...|       0.0|\n",
      "|     0.0|   3.0|21.0|     7.8|   0.0|    0.0|[3.0,21.0,7.80000...|[0.90863020422492...|[0.86023707294756...|       0.0|\n",
      "|     0.0|   3.0|21.0|  34.375|   1.0|    0.0|[3.0,21.0,34.375,...|[0.71704216761619...|[0.80753690491547...|       0.0|\n",
      "|     0.0|   3.0|22.0|   7.125|   0.0|    0.0|[3.0,22.0,7.125,0...|[0.90863020422492...|[0.86023707294756...|       0.0|\n",
      "|     0.0|   3.0|22.0|  7.7958|   0.0|    0.0|[3.0,22.0,7.79580...|[0.90863020422492...|[0.86023707294756...|       0.0|\n",
      "|     0.0|   3.0|22.0|  7.8958|   0.0|    0.0|[3.0,22.0,7.89580...|[0.90863020422492...|[0.86023707294756...|       0.0|\n",
      "|     0.0|   3.0|22.0|    8.05|   0.0|    0.0|[3.0,22.0,8.05000...|[0.85835918536197...|[0.84770565870368...|       0.0|\n",
      "|     0.0|   3.0|22.0| 10.5167|   1.0|    0.0|[3.0,22.0,10.5166...|[-0.5356592081501...|[0.25515243871265...|       1.0|\n",
      "|     0.0|   3.0|23.0|   7.925|   1.0|    0.0|[3.0,23.0,7.92500...|[0.05327221122993...|[0.52661093706420...|       0.0|\n",
      "|     0.0|   3.0|25.0|   7.225|   0.0|    1.0|[3.0,25.0,7.22499...|[0.72575285905013...|[0.81023005730362...|       0.0|\n",
      "|     0.0|   3.0|26.0|  7.8875|   0.0|    0.0|[3.0,26.0,7.88749...|[0.84007141375697...|[0.84292344290529...|       0.0|\n",
      "|     0.0|   3.0|26.0|  7.8958|   0.0|    0.0|[3.0,26.0,7.89580...|[0.84007141375697...|[0.84292344290529...|       0.0|\n",
      "|     0.0|   3.0|26.0|    8.05|   0.0|    0.0|[3.0,26.0,8.05000...|[0.81920326620640...|[0.83731799738465...|       0.0|\n",
      "|     0.0|   3.0|26.0| 14.4542|   0.0|    1.0|[3.0,26.0,14.4541...|[0.23859775064365...|[0.61708541491160...|       0.0|\n",
      "|     0.0|   3.0|26.0|  20.575|   0.0|    0.0|[3.0,26.0,20.5750...|[0.90226680564108...|[0.85869991303897...|       0.0|\n",
      "|     0.0|   3.0|28.0|   7.925|   0.0|    0.0|[3.0,28.0,7.92500...|[0.78980039489402...|[0.82914797264619...|       0.0|\n",
      "|     0.0|   3.0|28.0|     9.5|   0.0|    0.0|[3.0,28.0,9.5,0.0...|[0.86398566394184...|[0.84915274687641...|       0.0|\n",
      "|     0.0|   3.0|28.0|    14.4|   1.0|    0.0|[3.0,28.0,14.3999...|[-0.2330766409365...|[0.38552711336543...|       1.0|\n",
      "|     0.0|   3.0|29.0|   7.775|   0.0|    0.0|[3.0,29.0,7.77500...|[0.84007141375697...|[0.84292344290529...|       0.0|\n",
      "|     0.0|   3.0|29.0| 10.4625|   1.0|    0.0|[3.0,29.0,10.4624...|[-0.5356592081501...|[0.25515243871265...|       1.0|\n",
      "|     0.0|   3.0|30.0|    7.25|   0.0|    0.0|[3.0,30.0,7.25,0....|[0.84007141375697...|[0.84292344290529...|       0.0|\n",
      "|     0.0|   3.0|30.0|    8.05|   0.0|    0.0|[3.0,30.0,8.05000...|[0.81920326620640...|[0.83731799738465...|       0.0|\n",
      "|     0.0|   3.0|31.0|    18.0|   1.0|    0.0|[3.0,31.0,18.0,1....|[-0.2330766409365...|[0.38552711336543...|       1.0|\n",
      "|     0.0|   3.0|32.0|  7.8958|   0.0|    0.0|[3.0,32.0,7.89580...|[0.30526128717469...|[0.64805999913662...|       0.0|\n",
      "|     0.0|   3.0|32.0|    15.5|   1.0|    2.0|[3.0,32.0,15.5,1....|[-0.2330766409365...|[0.38552711336543...|       1.0|\n",
      "|     0.0|   3.0|32.0|   15.85|   0.0|    0.0|[3.0,32.0,15.8500...|[0.32917553735956...|[0.65888988304591...|       0.0|\n",
      "|     0.0|   3.0|33.0|  7.8958|   0.0|    0.0|[3.0,33.0,7.89580...|[1.05526128717469...|[0.89192171834731...|       0.0|\n",
      "|     0.0|   3.0|35.0|    8.05|   0.0|    0.0|[3.0,35.0,8.05000...|[0.85582171105269...|[0.84704932214925...|       0.0|\n",
      "|     0.0|   3.0|36.0|  7.4958|   0.0|    0.0|[3.0,36.0,7.49580...|[1.05526128717469...|[0.89192171834731...|       0.0|\n",
      "|     0.0|   3.0|36.0|   15.55|   0.0|    0.0|[3.0,36.0,15.5500...|[0.90060410878813...|[0.85829594699485...|       0.0|\n",
      "|     0.0|   3.0|39.0|   7.925|   0.0|    0.0|[3.0,39.0,7.92500...|[0.82641883974032...|[0.83927420218903...|       0.0|\n",
      "|     0.0|   3.0|39.0|  31.275|   1.0|    0.0|[3.0,39.0,31.2749...|[0.75001028570814...|[0.81757754432735...|       0.0|\n",
      "|     0.0|   3.0|40.0|  7.8958|   0.0|    0.0|[3.0,40.0,7.89580...|[1.05526128717469...|[0.89192171834731...|       0.0|\n",
      "|     0.0|   3.0|40.5|    14.5|   0.0|    0.0|[3.0,40.5,14.5,0....|[0.90060410878813...|[0.85829594699485...|       0.0|\n",
      "|     0.0|   3.0|42.0|    7.55|   0.0|    0.0|[3.0,42.0,7.55000...|[1.05526128717469...|[0.89192171834731...|       0.0|\n",
      "|     0.0|   3.0|44.0|    8.05|   0.0|    0.0|[3.0,44.0,8.05000...|[0.85582171105269...|[0.84704932214925...|       0.0|\n",
      "|     0.0|   3.0|45.0|    27.9|   1.0|    0.0|[3.0,45.0,27.8999...|[0.75001028570814...|[0.81757754432735...|       0.0|\n",
      "|     0.0|   3.0|47.0|    7.25|   0.0|    0.0|[3.0,47.0,7.25,0....|[1.05526128717469...|[0.89192171834731...|       0.0|\n",
      "|     0.0|   3.0|49.0|     0.0|   0.0|    0.0|(5,[0,1],[3.0,49.0])|[1.05526128717469...|[0.89192171834731...|       0.0|\n",
      "|     0.0|   3.0|74.0|   7.775|   0.0|    0.0|[3.0,74.0,7.77500...|[1.05526128717469...|[0.89192171834731...|       0.0|\n",
      "|     1.0|   1.0|23.0|   263.0|   1.0|    0.0|[1.0,23.0,263.0,1...|[-1.0730169403412...|[0.10470242400098...|       1.0|\n",
      "|     1.0|   1.0|24.0| 49.5042|   1.0|    1.0|[1.0,24.0,49.5041...|[-1.1639260312503...|[0.08884238405169...|       1.0|\n",
      "|     1.0|   1.0|27.0|    30.5|   0.0|    0.0|[1.0,27.0,30.5,0....|[0.07917553735956...|[0.53950525343208...|       0.0|\n",
      "|     1.0|   1.0|30.0|    31.0|   1.0|    1.0|[1.0,30.0,31.0,1....|[-1.1562162311111...|[0.09009853060873...|       1.0|\n",
      "|     1.0|   1.0|32.0|    30.5|   0.0|    1.0|[1.0,32.0,30.5,0....|[0.15494011351706...|[0.57685602564052...|       0.0|\n",
      "|     1.0|   1.0|34.0|   26.55|   0.0|    0.0|[1.0,34.0,26.5499...|[0.07917553735956...|[0.53950525343208...|       0.0|\n",
      "|     1.0|   1.0|36.0| 26.2875|   0.0|    0.0|[1.0,36.0,26.2875...|[0.07917553735956...|[0.53950525343208...|       0.0|\n",
      "|     1.0|   1.0|36.0| 26.3875|   0.0|    0.0|[1.0,36.0,26.3875...|[0.07917553735956...|[0.53950525343208...|       0.0|\n",
      "|     1.0|   1.0|39.0| 83.1583|   1.0|    1.0|[1.0,39.0,83.1583...|[-1.1562162311111...|[0.09009853060873...|       1.0|\n",
      "|     1.0|   1.0|40.0|153.4625|   1.0|    0.0|[1.0,40.0,153.462...|[-1.0653071402020...|[0.10615669007266...|       1.0|\n",
      "|     1.0|   1.0|41.0|   134.5|   1.0|    1.0|[1.0,41.0,134.5,1...|[-1.0653071402020...|[0.10615669007266...|       1.0|\n",
      "+--------+------+----+--------+------+-------+--------------------+--------------------+--------------------+----------+\n",
      "only showing top 100 rows\n",
      "\n"
     ]
    }
   ],
   "source": [
    "predictions.show(100)"
   ]
  },
  {
   "cell_type": "code",
   "execution_count": 24,
   "id": "6d9e8ecd-e78c-4886-a871-176b97c87290",
   "metadata": {},
   "outputs": [],
   "source": [
    "# Evaluamos el modelo:\n",
    "from pyspark.ml.evaluation import MulticlassClassificationEvaluator\n",
    "evaluator = MulticlassClassificationEvaluator(labelCol=\"Survived\",\n",
    " predictionCol=\"prediction\",\n",
    " metricName=\"accuracy\")"
   ]
  },
  {
   "cell_type": "code",
   "execution_count": 25,
   "id": "af49f4a7-fd47-4698-866d-2a4a99b33f5a",
   "metadata": {},
   "outputs": [
    {
     "name": "stdout",
     "output_type": "stream",
     "text": [
      "Test Accuracy:  77.77777777777779\n"
     ]
    }
   ],
   "source": [
    "accuracy = evaluator.evaluate(predictions)\n",
    "print(\"Test Accuracy: \", accuracy*100)\n",
    "\n"
   ]
  },
  {
   "cell_type": "markdown",
   "id": "33444b52-016b-4d95-94d2-bd61223b4178",
   "metadata": {},
   "source": [
    "**Algortimo de Gradient-boosted tree Classifier**\n"
   ]
  },
  {
   "cell_type": "code",
   "execution_count": 26,
   "id": "d9e60b74-3a06-4455-8849-82f0a7a8c950",
   "metadata": {},
   "outputs": [],
   "source": [
    "from pyspark.ml.classification import GBTClassifier\n",
    "gbt = GBTClassifier(labelCol=\"Survived\",\n",
    " featuresCol=\"feature\",\n",
    " maxIter=5)"
   ]
  },
  {
   "cell_type": "code",
   "execution_count": 27,
   "id": "e7bffdbf-27dc-4639-bbb3-2301dc353f8b",
   "metadata": {},
   "outputs": [],
   "source": [
    "model = gbt.fit(training_data)"
   ]
  },
  {
   "cell_type": "code",
   "execution_count": 28,
   "id": "c59abec3-80e3-4f94-b86b-aa200d9e291b",
   "metadata": {},
   "outputs": [],
   "source": [
    "\n",
    "predictions = model.transform(test_data)\n"
   ]
  },
  {
   "cell_type": "code",
   "execution_count": 30,
   "id": "ae70950a-2b64-43e4-be12-f556e4039544",
   "metadata": {},
   "outputs": [
    {
     "name": "stdout",
     "output_type": "stream",
     "text": [
      "Test Accuracy:  75.55555555555556\n"
     ]
    }
   ],
   "source": [
    "\n",
    "accuracy = evaluator.evaluate(predictions)\n",
    "print(\"Test Accuracy: \", accuracy*100)"
   ]
  },
  {
   "cell_type": "code",
   "execution_count": null,
   "id": "1b4855c3-e36a-4d8e-9311-fce752bc69b3",
   "metadata": {},
   "outputs": [],
   "source": []
  }
 ],
 "metadata": {
  "kernelspec": {
   "display_name": "Python 3 (ipykernel)",
   "language": "python",
   "name": "python3"
  },
  "language_info": {
   "codemirror_mode": {
    "name": "ipython",
    "version": 3
   },
   "file_extension": ".py",
   "mimetype": "text/x-python",
   "name": "python",
   "nbconvert_exporter": "python",
   "pygments_lexer": "ipython3",
   "version": "3.10.6"
  }
 },
 "nbformat": 4,
 "nbformat_minor": 5
}
