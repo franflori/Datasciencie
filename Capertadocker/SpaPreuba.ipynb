{
 "cells": [
  {
   "cell_type": "code",
   "execution_count": 12,
   "id": "0c8f2ff0-6968-4a47-baab-aa3e65330031",
   "metadata": {},
   "outputs": [],
   "source": [
    "#pip install --user --upgrade -e git+https://github.com/twintproject/twint.git@origin/master#egg=twint"
   ]
  },
  {
   "cell_type": "code",
   "execution_count": null,
   "id": "172ba1db-c4ab-4f8f-9061-9c4d0d4a855f",
   "metadata": {},
   "outputs": [],
   "source": []
  },
  {
   "cell_type": "code",
   "execution_count": 13,
   "id": "5a168538-b7b6-406b-af2b-4c14fc9878d0",
   "metadata": {},
   "outputs": [],
   "source": [
    "#pip install nest_asyncio"
   ]
  },
  {
   "cell_type": "code",
   "execution_count": 14,
   "id": "c0530463-0dbe-4c4a-b5b9-4f27061124ce",
   "metadata": {},
   "outputs": [],
   "source": [
    "import socket\n",
    "import sys\n",
    "import requests\n",
    "import json\n",
    "import twint\n",
    "from datetime import datetime, timedelta\n",
    "from time import sleep\n"
   ]
  },
  {
   "cell_type": "code",
   "execution_count": 15,
   "id": "20e0248c-f44a-4d15-a21c-4f7d8483d03e",
   "metadata": {},
   "outputs": [
    {
     "name": "stdout",
     "output_type": "stream",
     "text": [
      "1597913295075172352 2022-11-30 11:19:51 +0000 <el_pais> 📺 TV en DIRECTO | Marlaska: \"Esto no es que el ministro de Interior se ponga detrás de las fuerzas y cuerpos de seguridad; se pone delante de ellas y defiende su actuación\"  https://t.co/0rTRG60ECl  https://t.co/0NBzIG3edg\n",
      "1597912919122931712 2022-11-30 11:18:22 +0000 <el_pais> 🔴 ÚLTIMA HORA | Marlaska insiste en el Congreso en que no hubo muertes en territorio nacional en la tragedia de Melilla  https://t.co/wD1EO2YnPc  https://t.co/5L1f4tosle\n",
      "1597911839886581761 2022-11-30 11:14:05 +0000 <el_pais> 📺 TV en DIRECTO | Marlaska: \"La Guardia Civil actuó de forma más que proporcionada en Melilla (...) No hubo ninguna pérdida de vida humana en territorio nacional. Y lo reitero\"  https://t.co/0rTRG60ECl  https://t.co/TRcBCX861O\n",
      "1597911334540218368 2022-11-30 11:12:04 +0000 <el_pais> Jiang, que ha muerto hoy a los 96 años, llegó al poder tras las protestas de Tiananmen con el encargo de buscar el equilibrio entre las reformas aperturistas y la pervivencia del Partido Comunista. Se retiró tras la entrada de China en la OMC  https://t.co/FBq2gdEGjr\n",
      "1597910793126744064 2022-11-30 11:09:55 +0000 <el_pais> 📺 TV en DIRECTO | Marlaska: \"La violencia está excluda de cualquier momento y lugar. España es un país de acogida para cualquier solicitante, pero no puede permitir que nadie intente derribarla por la fuerza\"  https://t.co/0rTRG60ECl  https://t.co/lhedS0dB9F\n",
      "1597909703149117440 2022-11-30 11:05:35 +0000 <el_pais> 📺 TV en DIRECTO | Marlaska: \"Empatizo con las causas subyacentes de la gente, sus vidas... Pero eso no puede hacer que se justifique un ataque violento a las fronteras de un país con el fin de ejercitar un hipotético derecho\"  https://t.co/0rTRG5JBAl  https://t.co/40QIKiL8fP\n",
      "1597909286679728133 2022-11-30 11:03:56 +0000 <el_pais> A partir del 1 de enero la venta de bicis en Portugal solo pagará un 6% de IVA. El país que se ha convertido en el líder de Europa en la fabricación quiere también conquistar las ciudades portuguesas  https://t.co/8A05XCJYYA\n",
      "1597906541646077952 2022-11-30 10:53:01 +0000 <el_pais> Apenas tres meses después de su proclamación como reina consorte, Camila ya ha roto una de las tradiciones más antiguas de la monarquía británica  https://t.co/N6vRVdxqTf\n",
      "1597904950062874626 2022-11-30 10:46:42 +0000 <el_pais> Estos viajes, que han supuesto un gasto de 60.000 euros públicos, no han cristalizado aún en grandes inversiones conocidas para Madrid. Han servido para promocionar a Ayuso y para abrir nuevos frentes en su confrontación constante con el gobierno de España  https://t.co/dJJNZ2MVEo\n",
      "1597903601069744128 2022-11-30 10:41:20 +0000 <el_pais> 📺 TV en DIRECTO | González Vázquez (PP): \"Irene Montero ha pasado hoy de supuesta víctima de violencia política a agresora\"  https://t.co/0rTRG60ECl  https://t.co/5UKQLlMaHP\n",
      "1597903215210553344 2022-11-30 10:39:48 +0000 <el_pais> 🔴 ÚLTIMA HORA | La inflación en la zona euro se frena por primera vez en 17 meses con España como el país con el menor IPC  https://t.co/xedMP0Anl3  https://t.co/QKvJNWixwB\n",
      "1597900255692877824 2022-11-30 10:28:03 +0000 <el_pais> 📺 TV en DIRECTO | Pilar Llop: \"A mí me han llamado desde niña de San Ildefonso hasta mudita el otro día, y soy una ministra. Si eso no lo respetan, no se respetan a ustedes\"  https://t.co/0rTRG60ECl  https://t.co/bsNaY6nJ3a\n",
      "1597898568374837248 2022-11-30 10:21:20 +0000 <el_pais> La Universidad Complutense de Madrid y el Arzobispado de Madrid han presentado la reconstrucción facial de San Isidro a partir del análisis de su cuerpo momificado. Los resultados antropométricos señalan que era un hombre de rasgos norteafricanos  https://t.co/Y3pjdfH6oh\n",
      "1597896972081537027 2022-11-30 10:15:00 +0000 <el_pais> 41.000 especies de plantas y animales están seriamente amenazadas, lo que supone más de un cuarto de las que es capaz de evaluar. En el vídeo, Jaime Cantizano explica cómo esta pérdida nos afecta directamente #AcertarConEnergía #BrandedContent con @Naturgy  https://t.co/SPtwfTdZQ9  https://t.co/XyLfX6cXlH\n",
      "1597896269342597121 2022-11-30 10:12:12 +0000 <el_pais> Decían que subía demasiados vídeos cantando mientras conducía o que había ganado mucho dinero demasiado rápido. Parecía que, simplemente, odiarla se hizo viral. Eso le pasó a Millie Bobby Brown, que como Anne Hathaway, es una mujer odiada por internet  https://t.co/or0m8bFCzy\n",
      "1597892305196834821 2022-11-30 09:56:27 +0000 <el_pais> Una sensación de incertidumbre sigue rodeando al lecanemab, el fármaco más prometedor contra el alzhéimer que se ha desarrollado en las últimas décadas.  Los ensayos confirman la reducción, pero puede estar detrás de la muerte de dos pacientes  https://t.co/yYdj5Rvl4r\n",
      "1597888687697788929 2022-11-30 09:42:05 +0000 <el_pais> Las verduras y legumbres en conserva son, por lo general, productos procesados sanos, pero algunas generan ciertas dudas. La nutricionista Lucía Martínez explica en qué nos tenemos que fijar cuando las compramos  https://t.co/AhrQXkTxOZ\n",
      "1597887645518028800 2022-11-30 09:37:56 +0000 <el_pais> La pandemia aumentó un 400% el uso de la tecnología digital y la previsión para el final de la década es que esa imaginaria pila de discos alcanzaría Marte solo con los datos generados en un año. Por esta cantidad hay que inventar nuevos prefijos de tamaño  https://t.co/0Gk5IY8Jb0\n",
      "1597885294178553856 2022-11-30 09:28:36 +0000 <el_pais> 📺 TV en DIRECTO | Batet corta a la ministra Montero cuando insiste en que el PP contribuye a la \"cultura de la violación\". Se escucha un \"sinvergüenza\"  https://t.co/ARhbim4DQh  https://t.co/eIng9gWzMk\n",
      "1597884917178052608 2022-11-30 09:27:06 +0000 <el_pais> 📺 TV en DIRECTO | Gamarra: \"La ministra ha dicho que mi grupo parlamentario promueve la cultura de la violación. Es altamente ofensivo que una dirigente esté vertiendo estas afirmaciones. Sea un poquito más responsable\"  https://t.co/ARhbilNAOh  https://t.co/KxRCLu5l9l\n",
      "1597884462443819008 2022-11-30 09:25:17 +0000 <el_pais> 📺 TV en DIRECTO | Batet reclama a la ministra Montero: \"La expresión que ha utilizado no es correcta en términos parlamentarios contra un grupo. Les pido respeto en las expresiones y contención en el lenguaje. Tenemos que contribuir a la convivencia\"  https://t.co/ARhbim4DQh  https://t.co/ow3HiUrLpz\n",
      "1597883989276360705 2022-11-30 09:23:24 +0000 <el_pais> 📺 TV en DIRECTO | Montero: \"¿Qué hacen ustedes? Una campaña en Galicia que dice 'no debería pasar, pero pasa'; 'vigila tu copa al salir' en Madrid... responsabilizar a las víctimas de agresiones. Promueven la cultura de la violación\". El PP protesta  https://t.co/ARhbilNAOh  https://t.co/IXkrExVIy5\n",
      "1597883489973583872 2022-11-30 09:21:25 +0000 <el_pais> Pregunta. ¿No se vino un poco arriba eligiendo a Juan Diego Botto como su alter ego? Respuesta. Mi hijo le dijo a mi mujer, “¿por qué no estás con Juan Diego Botto y estás con papá, que es gordo y calvo?”. Con ese tema ya vengo humillado de casa  https://t.co/KvzpmyrftD\n",
      "1597881153708400640 2022-11-30 09:12:08 +0000 <el_pais> 📺 TV en DIRECTO | Marlaska ironiza: \"Llevan cuatro años y medio tratando de sacarme de aquí. Enhorabuena por su éxito\"  https://t.co/ARhbim4DQh  https://t.co/nA0e0N6T6N\n",
      "1597880794495623169 2022-11-30 09:10:43 +0000 <el_pais> 📺 TV en DIRECTO | Montesinos (PP): \"Señor Marlaska, todavía sigue aquí, yo creía que le quedaba todavía un atisbo de dignidad, pero en fin...\"  https://t.co/ARhbim4DQh  https://t.co/YdVuYsg2GF\n",
      "1597880442732089348 2022-11-30 09:09:19 +0000 <el_pais> “Estoy aquí porque estoy absolutamente en contra de cualquier tipo de censura y esto nos retrotrae a los peores tiempos. Nunca imaginé que iba a intervenir hoy en un acto contra la censura. Hace 40 años que nos manifestábamos por esto”  https://t.co/njlDgZl06o\n",
      "1597877947393884169 2022-11-30 08:59:24 +0000 <el_pais> La presidenta de la Eurocámara (de la familia política europea del PP) “no se creía que en la capital española existiera un barrio en construcción donde se produce la violación de derechos fundamentales, como es el suministro eléctrico”, dice una vecina  https://t.co/VMa16FX2R5\n",
      "1597876139401306113 2022-11-30 08:52:13 +0000 <el_pais> ¿El gol de Richarlison, el de Messi o tienes tú otro favorito? Dinos cuál ha sido tu gol favorito de lo que va de Mundial #Qatar2022  https://t.co/C3ewnqF0vG\n",
      "1597875491159085056 2022-11-30 08:49:38 +0000 <el_pais> “No creo que haya una fórmula para la felicidad, pero sí creo que hay una receta”, Silvia Olmedo, psicóloga. “Cada uno tiene que prepararse su plato. Y si bien encontrar la receta es difícil, es muy fácil saber qué puede destrozarla”. En @AprenderJuntos_.  https://t.co/moWBs2RZAp\n",
      "1597875356274499585 2022-11-30 08:49:06 +0000 <el_pais> Columna | \"Por alguna secreta razón hay gente que cree que al 'haberse hecho a sí misma' la vida les debe algo muy especial, y dedica el resto de sus años no a disfrutarla, sino a exigir que se les devuelva el esfuerzo en estatus\". Por @manueljabois  https://t.co/JKw8pfQjXB\n",
      "1597872872927682563 2022-11-30 08:39:14 +0000 <el_pais> “En inglés, el verbo 'conquistar' conlleva la utilización de la fuerza. Por eso, a los descubridores españoles se les llama siempre en EEUU conquistadores”. Alfonso Borrego investiga “la verdad de lo que ocurrió” en la conquista del sur de EEUU  https://t.co/t103SxIn3A\n",
      "1597872067432554497 2022-11-30 08:36:02 +0000 <el_pais> Esto es lo que tienes que saber hoy del Mundial de #Qatar2022, polémicas incluidas  https://t.co/YA3rWKojff  https://t.co/JFIRZ1K1Pi\n",
      "1597869205784862722 2022-11-30 08:24:40 +0000 <el_pais> Cada ciudadano no llegó a ver ni una sola película en salas de media en un año: 0,86. Habrá que ver las cifras de 2022, pero la taquilla ya registra fines de semana desoladores. Aun así, en 2021 se exhibieron 2.105 películas, la cifra más alta desde 1992  https://t.co/t9g59BmuOp\n",
      "1597868074522247169 2022-11-30 08:20:10 +0000 <el_pais> La última de los Azcona murió sin herederos ni testamento. Caía la primera ficha de un dominó que llevó la herencia de 5,7 millones a las arcas del Estado. La segunda mayor del siglo en manos públicas. Pero había una prima distanciada con algo que decir  https://t.co/CkYuG1LMfQ\n",
      "1597866623267794944 2022-11-30 08:14:24 +0000 <el_pais> 📺 TV en DIRECTO | Sánchez: \"Habrá votantes de Vox que se sientan reconfortados con tantos insultos y tantos bulos, pero otros pedirán un mayor rendimiento laboral. Porque no hacen nada más. ¿Esa es la España que madruga?\"  https://t.co/ARhbim4DQh  https://t.co/SuRfOIc4gw\n",
      "1597865895203782662 2022-11-30 08:11:30 +0000 <el_pais> 📺 TV en DIRECTO | Abascal: \"Usted pasará a la historia pero no por desenterrar muertos e impedir su descanso, sino por haber cedido a todas las pretensiones de comunistas, separatistas, malversadores, golpistas... Por destruir todo lo que funciona\"  https://t.co/ARhbim4DQh  https://t.co/YkAJFyOx0I\n",
      "1597864787353796608 2022-11-30 08:07:06 +0000 <el_pais> 📺 TV en DIRECTO | Sánchez responde a la oposición en la sesión de control al Gobierno. La jornada en el Congreso estará marcada por la comparecencia de Marlaska sobre Melilla  https://t.co/ARhbim4DQh  https://t.co/kSsxlqIoJG\n",
      "1597863566304055298 2022-11-30 08:02:15 +0000 <el_pais> La misteriosa llegada del pájaro parecido a un pingüino que preocupa en las costas mediterráneas. Hasta las costas catalanas han llegado más de un centenar de ejemplares tan débiles que 33 han muerto y 17 están críticas en un centro de recuperación  https://t.co/NYD5p0Xnqn\n",
      "1597859013357625344 2022-11-30 07:44:10 +0000 <el_pais> La muerte de al menos 23 personas el 24 de junio en el puesto fronterizo de Barrio Chino dejó muchas preguntas. Un superviviente y agentes marroquíes apuntan que hubo al menos un muerto en suelo español  https://t.co/vuzQ7SsBli\n",
      "1597857478536007680 2022-11-30 07:38:04 +0000 <el_pais> Dua Lipa recibió hace dos días su ciudadanía albanesa, algo que significó mucho para la cantante, pero también para el Gobierno albano, que ha convertido esta noticia en una auténtica exhibición nacionalista  https://t.co/9Ipo8DRijC\n",
      "[!] No more data! Scraping will stop now.\n",
      "found 0 deleted tweets in this search.\n"
     ]
    }
   ],
   "source": [
    "import nest_asyncio\n",
    "nest_asyncio.apply()\n",
    "# Tweets de las 2 últimas horas\n",
    "current_date = datetime.now()\n",
    "current_end_date = current_date - timedelta(minutes=240)\n",
    "def twint_to_pandas(columns):\n",
    " return twint.output.panda.Tweets_df[columns]\n",
    "# Configuración de twint\n",
    "c= twint.Config()\n",
    "c.Username = \"el_pais\"\n",
    "c.Since = current_end_date.strftime(\"%Y-%m-%d %H:%M:%S\")\n",
    "c.Until = current_date.strftime(\"%Y-%m-%d %H:%M:%S\")\n",
    "c.Pandas = True\n",
    "# Run\n",
    "twint.run.Search(c)\n",
    "df_pd = twint_to_pandas([\"date\", \"username\", \n",
    " \"tweet\", \"hashtags\", \n",
    "\"nlikes\"])"
   ]
  },
  {
   "cell_type": "markdown",
   "id": "0064b2be-2dfc-461b-9d86-489194d832ee",
   "metadata": {},
   "source": [
    "**Procesar los tweets**"
   ]
  },
  {
   "cell_type": "code",
   "execution_count": 16,
   "id": "157af4e2-ccb5-443a-ba76-c09ab8c28446",
   "metadata": {},
   "outputs": [
    {
     "name": "stderr",
     "output_type": "stream",
     "text": [
      "/usr/local/spark/python/pyspark/sql/pandas/conversion.py:474: FutureWarning: iteritems is deprecated and will be removed in a future version. Use .items instead.\n",
      "  for column, series in pdf.iteritems():\n",
      "/usr/local/spark/python/pyspark/sql/pandas/conversion.py:486: FutureWarning: iteritems is deprecated and will be removed in a future version. Use .items instead.\n",
      "  for column, series in pdf.iteritems():\n"
     ]
    },
    {
     "name": "stdout",
     "output_type": "stream",
     "text": [
      "DataFrame[tweet: string]\n"
     ]
    }
   ],
   "source": [
    "from pyspark.sql import SparkSession\n",
    "spark = SparkSession.builder.appName(\"pandasToSparkDF\").getOrCreate()\n",
    "df_pd = spark.createDataFrame(df_pd)\n",
    "lines = df_pd.select(\"tweet\")\n",
    "print(lines)"
   ]
  },
  {
   "cell_type": "markdown",
   "id": "6a59049b-fde9-4e51-8b8e-53ca987a972c",
   "metadata": {},
   "source": [
    "**Procesar los tweets**"
   ]
  },
  {
   "cell_type": "code",
   "execution_count": 17,
   "id": "c31919d2-0340-490f-8bfa-7cf86407b0f7",
   "metadata": {},
   "outputs": [],
   "source": [
    "from pyspark.sql.functions import *\n",
    "from pyspark.sql.types import *\n",
    "from pyspark.sql import functions as F\n",
    "import re\n",
    "def preprocessing(lines):\n",
    "     words = lines.na.replace(\"\", None)\n",
    "     words = lines.na.drop()\n",
    "     words = lines.withColumn(\"tweet\", F.regexp_replace(\"tweet\", r'http\\S+', ''))\n",
    "     words = lines.withColumn(\"tweet\", F.regexp_replace(\"tweet\", '@\\w+', ''))\n",
    "     words = lines.withColumn(\"tweet\", F.regexp_replace(\"tweet\", '#', ''))\n",
    "     words = lines.withColumn(\"tweet\", F.regexp_replace(\"tweet\", 'RT', ''))\n",
    "     words = lines.withColumn(\"tweet\", F.regexp_replace(\"tweet\", ':', ''))\n",
    "     full_tweet = words.toJSON()\n",
    "     return full_tweet \n"
   ]
  },
  {
   "cell_type": "markdown",
   "id": "7b851de2-e994-42f5-ad09-7ccd258ed5ba",
   "metadata": {},
   "source": [
    "**Función para enviar los tweets al socket**"
   ]
  },
  {
   "cell_type": "code",
   "execution_count": 9,
   "id": "39a18db0-3323-4b0b-a2ff-1d9911608817",
   "metadata": {},
   "outputs": [],
   "source": [
    "def send_tweets_to_spark(data, tcp_connection):\n",
    "     for row in data.collect():\n",
    "         line = row + \"\\n\"\n",
    "         try:\n",
    "             tcp_connection.send(line.encode(\"utf-8\"))\n",
    "         except:\n",
    "             e = sys.exc_info()[0]\n",
    "             print(\"Error connection: %s\" % e)"
   ]
  },
  {
   "cell_type": "markdown",
   "id": "f4bdb4cc-cec8-4595-bcbe-af22f7bde24f",
   "metadata": {},
   "source": [
    "**Crear el socket donde se almacena la información**"
   ]
  },
  {
   "cell_type": "code",
   "execution_count": 10,
   "id": "0ec686de-58a2-4c4b-be41-b4e57ebd935b",
   "metadata": {},
   "outputs": [
    {
     "name": "stdout",
     "output_type": "stream",
     "text": [
      "Waiting for TCP connection...\n"
     ]
    },
    {
     "ename": "KeyboardInterrupt",
     "evalue": "",
     "output_type": "error",
     "traceback": [
      "\u001b[0;31m---------------------------------------------------------------------------\u001b[0m",
      "\u001b[0;31mKeyboardInterrupt\u001b[0m                         Traceback (most recent call last)",
      "Cell \u001b[0;32mIn [10], line 8\u001b[0m\n\u001b[1;32m      6\u001b[0m s\u001b[38;5;241m.\u001b[39mlisten(\u001b[38;5;241m1\u001b[39m)\n\u001b[1;32m      7\u001b[0m \u001b[38;5;28mprint\u001b[39m(\u001b[38;5;124m\"\u001b[39m\u001b[38;5;124mWaiting for TCP connection...\u001b[39m\u001b[38;5;124m\"\u001b[39m)\n\u001b[0;32m----> 8\u001b[0m conn, addr \u001b[38;5;241m=\u001b[39m \u001b[43ms\u001b[49m\u001b[38;5;241;43m.\u001b[39;49m\u001b[43maccept\u001b[49m\u001b[43m(\u001b[49m\u001b[43m)\u001b[49m\n\u001b[1;32m      9\u001b[0m \u001b[38;5;28mprint\u001b[39m(\u001b[38;5;124m\"\u001b[39m\u001b[38;5;124mConnected... Starting getting tweets.\u001b[39m\u001b[38;5;124m\"\u001b[39m)\n\u001b[1;32m     10\u001b[0m data \u001b[38;5;241m=\u001b[39m preprocessing(lines)\n",
      "File \u001b[0;32m/opt/conda/lib/python3.10/socket.py:293\u001b[0m, in \u001b[0;36msocket.accept\u001b[0;34m(self)\u001b[0m\n\u001b[1;32m    286\u001b[0m \u001b[38;5;28;01mdef\u001b[39;00m \u001b[38;5;21maccept\u001b[39m(\u001b[38;5;28mself\u001b[39m):\n\u001b[1;32m    287\u001b[0m     \u001b[38;5;124;03m\"\"\"accept() -> (socket object, address info)\u001b[39;00m\n\u001b[1;32m    288\u001b[0m \n\u001b[1;32m    289\u001b[0m \u001b[38;5;124;03m    Wait for an incoming connection.  Return a new socket\u001b[39;00m\n\u001b[1;32m    290\u001b[0m \u001b[38;5;124;03m    representing the connection, and the address of the client.\u001b[39;00m\n\u001b[1;32m    291\u001b[0m \u001b[38;5;124;03m    For IP sockets, the address info is a pair (hostaddr, port).\u001b[39;00m\n\u001b[1;32m    292\u001b[0m \u001b[38;5;124;03m    \"\"\"\u001b[39;00m\n\u001b[0;32m--> 293\u001b[0m     fd, addr \u001b[38;5;241m=\u001b[39m \u001b[38;5;28;43mself\u001b[39;49m\u001b[38;5;241;43m.\u001b[39;49m\u001b[43m_accept\u001b[49m\u001b[43m(\u001b[49m\u001b[43m)\u001b[49m\n\u001b[1;32m    294\u001b[0m     sock \u001b[38;5;241m=\u001b[39m socket(\u001b[38;5;28mself\u001b[39m\u001b[38;5;241m.\u001b[39mfamily, \u001b[38;5;28mself\u001b[39m\u001b[38;5;241m.\u001b[39mtype, \u001b[38;5;28mself\u001b[39m\u001b[38;5;241m.\u001b[39mproto, fileno\u001b[38;5;241m=\u001b[39mfd)\n\u001b[1;32m    295\u001b[0m     \u001b[38;5;66;03m# Issue #7995: if no default timeout is set and the listening\u001b[39;00m\n\u001b[1;32m    296\u001b[0m     \u001b[38;5;66;03m# socket had a (non-zero) timeout, force the new socket in blocking\u001b[39;00m\n\u001b[1;32m    297\u001b[0m     \u001b[38;5;66;03m# mode to override platform-specific socket flags inheritance.\u001b[39;00m\n",
      "\u001b[0;31mKeyboardInterrupt\u001b[0m: "
     ]
    }
   ],
   "source": [
    "TCP_IP = \"localhost\"\n",
    "TCP_PORT = 9009\n",
    "conn = None\n",
    "s = socket.socket(socket.AF_INET, socket.SOCK_STREAM)\n",
    "s.bind((TCP_IP, TCP_PORT))\n",
    "s.listen(1)\n",
    "print(\"Waiting for TCP connection...\")\n",
    "conn, addr = s.accept()\n",
    "print(\"Connected... Starting getting tweets.\")\n",
    "data = preprocessing(lines)\n",
    "send_tweets_to_spark(data, conn)"
   ]
  },
  {
   "cell_type": "code",
   "execution_count": null,
   "id": "2e933705-ab72-4226-bb40-8b2859dd8729",
   "metadata": {},
   "outputs": [],
   "source": []
  }
 ],
 "metadata": {
  "kernelspec": {
   "display_name": "Python 3 (ipykernel)",
   "language": "python",
   "name": "python3"
  },
  "language_info": {
   "codemirror_mode": {
    "name": "ipython",
    "version": 3
   },
   "file_extension": ".py",
   "mimetype": "text/x-python",
   "name": "python",
   "nbconvert_exporter": "python",
   "pygments_lexer": "ipython3",
   "version": "3.10.6"
  }
 },
 "nbformat": 4,
 "nbformat_minor": 5
}
