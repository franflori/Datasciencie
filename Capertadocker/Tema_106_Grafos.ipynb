{
 "cells": [
  {
   "cell_type": "markdown",
   "id": "37b8d8e2-2fc1-498a-97b6-2738ac40a7e9",
   "metadata": {},
   "source": [
    "*Creado por:*\n",
    "\n",
    "*Isabel Maniega*"
   ]
  },
  {
   "cell_type": "markdown",
   "id": "f39e565c-5555-45db-8be6-7a68f93f9002",
   "metadata": {},
   "source": [
    "# GraphFrames"
   ]
  },
  {
   "cell_type": "markdown",
   "id": "6d950128-d8a6-4707-b87d-67d28590091e",
   "metadata": {},
   "source": [
    "Realizaremos la instalación de la librería de Graphframes:"
   ]
  },
  {
   "cell_type": "code",
   "execution_count": 2,
   "id": "04cb7a44-19bb-4164-a26a-7282b7f35c32",
   "metadata": {},
   "outputs": [],
   "source": [
    "#pip install graphframes"
   ]
  },
  {
   "cell_type": "code",
   "execution_count": 3,
   "id": "cffa8781-a782-4d5d-84ba-694a01bd92d7",
   "metadata": {},
   "outputs": [],
   "source": [
    "import pyspark\n",
    "import os"
   ]
  },
  {
   "cell_type": "code",
   "execution_count": 4,
   "id": "c638f3cf-cc41-4b51-81a8-96e85534f9a2",
   "metadata": {},
   "outputs": [],
   "source": [
    "os.environ[\"PYSPARK_SUBMIT_ARGS\"] = \"--packages graphframes:graphframes:0.8.1-spark3.0-s_2.12 pyspark-shell\""
   ]
  },
  {
   "cell_type": "code",
   "execution_count": 5,
   "id": "b91c4d86-0822-4c07-8d2d-bbe75d5771b4",
   "metadata": {},
   "outputs": [],
   "source": [
    "conf = pyspark.SparkConf()"
   ]
  },
  {
   "cell_type": "code",
   "execution_count": 6,
   "id": "cdd553ca-aaca-4af3-8017-50a9d37e526f",
   "metadata": {},
   "outputs": [
    {
     "name": "stdout",
     "output_type": "stream",
     "text": [
      "[('spark.driver.extraJavaOptions', '-XX:+IgnoreUnrecognizedVMOptions --add-opens=java.base/java.lang=ALL-UNNAMED --add-opens=java.base/java.lang.invoke=ALL-UNNAMED --add-opens=java.base/java.lang.reflect=ALL-UNNAMED --add-opens=java.base/java.io=ALL-UNNAMED --add-opens=java.base/java.net=ALL-UNNAMED --add-opens=java.base/java.nio=ALL-UNNAMED --add-opens=java.base/java.util=ALL-UNNAMED --add-opens=java.base/java.util.concurrent=ALL-UNNAMED --add-opens=java.base/java.util.concurrent.atomic=ALL-UNNAMED --add-opens=java.base/sun.nio.ch=ALL-UNNAMED --add-opens=java.base/sun.nio.cs=ALL-UNNAMED --add-opens=java.base/sun.security.action=ALL-UNNAMED --add-opens=java.base/sun.util.calendar=ALL-UNNAMED --add-opens=java.security.jgss/sun.security.krb5=ALL-UNNAMED'), ('spark.app.id', 'local-1669723983308'), ('spark.app.submitTime', '1669723977013'), ('spark.executor.id', 'driver'), ('spark.submit.pyFiles', '/home/jovyan/.ivy2/jars/graphframes_graphframes-0.8.1-spark3.0-s_2.12.jar,/home/jovyan/.ivy2/jars/org.slf4j_slf4j-api-1.7.16.jar'), ('spark.app.initial.jar.urls', 'spark://04374da785dc:41041/jars/org.slf4j_slf4j-api-1.7.16.jar,spark://04374da785dc:41041/jars/graphframes_graphframes-0.8.1-spark3.0-s_2.12.jar'), ('spark.app.name', 'pyspark-shell'), ('spark.jars', 'file:///home/jovyan/.ivy2/jars/graphframes_graphframes-0.8.1-spark3.0-s_2.12.jar,file:///home/jovyan/.ivy2/jars/org.slf4j_slf4j-api-1.7.16.jar'), ('spark.driver.port', '41041'), ('spark.app.startTime', '1669723977672'), ('spark.driver.host', '04374da785dc'), ('spark.rdd.compress', 'True'), ('spark.executor.extraJavaOptions', '-XX:+IgnoreUnrecognizedVMOptions --add-opens=java.base/java.lang=ALL-UNNAMED --add-opens=java.base/java.lang.invoke=ALL-UNNAMED --add-opens=java.base/java.lang.reflect=ALL-UNNAMED --add-opens=java.base/java.io=ALL-UNNAMED --add-opens=java.base/java.net=ALL-UNNAMED --add-opens=java.base/java.nio=ALL-UNNAMED --add-opens=java.base/java.util=ALL-UNNAMED --add-opens=java.base/java.util.concurrent=ALL-UNNAMED --add-opens=java.base/java.util.concurrent.atomic=ALL-UNNAMED --add-opens=java.base/sun.nio.ch=ALL-UNNAMED --add-opens=java.base/sun.nio.cs=ALL-UNNAMED --add-opens=java.base/sun.security.action=ALL-UNNAMED --add-opens=java.base/sun.util.calendar=ALL-UNNAMED --add-opens=java.security.jgss/sun.security.krb5=ALL-UNNAMED'), ('spark.app.initial.file.urls', 'file:///home/jovyan/.ivy2/jars/graphframes_graphframes-0.8.1-spark3.0-s_2.12.jar,file:///home/jovyan/.ivy2/jars/org.slf4j_slf4j-api-1.7.16.jar'), ('spark.serializer.objectStreamReset', '100'), ('spark.master', 'local[*]'), ('spark.submit.deployMode', 'client'), ('spark.files', 'file:///home/jovyan/.ivy2/jars/graphframes_graphframes-0.8.1-spark3.0-s_2.12.jar,file:///home/jovyan/.ivy2/jars/org.slf4j_slf4j-api-1.7.16.jar'), ('spark.repl.local.jars', 'file:///home/jovyan/.ivy2/jars/graphframes_graphframes-0.8.1-spark3.0-s_2.12.jar,file:///home/jovyan/.ivy2/jars/org.slf4j_slf4j-api-1.7.16.jar'), ('spark.ui.showConsoleProgress', 'true')]\n"
     ]
    }
   ],
   "source": [
    "sc = pyspark.SparkContext(conf=conf)\n",
    "print(sc._conf.getAll())"
   ]
  },
  {
   "cell_type": "markdown",
   "id": "03d2115f-4864-444a-976a-5d77a40f093f",
   "metadata": {},
   "source": [
    "# Creamos el Grafo"
   ]
  },
  {
   "cell_type": "code",
   "execution_count": 9,
   "id": "847c0435-584a-410f-a7ad-13e82ecf1117",
   "metadata": {},
   "outputs": [],
   "source": [
    "from pyspark import *\n",
    "from pyspark.sql import *\n",
    "from graphframes import *"
   ]
  },
  {
   "cell_type": "code",
   "execution_count": 8,
   "id": "24ad9fcb-3c36-43cd-9152-0c1ab9cf9d78",
   "metadata": {},
   "outputs": [
    {
     "name": "stdout",
     "output_type": "stream",
     "text": [
      "+---+---------+------------+\n",
      "| id|     name|total_points|\n",
      "+---+---------+------------+\n",
      "|  A|      ANA|         350|\n",
      "|  B|    BERTO|         360|\n",
      "|  C|    CLARA|         195|\n",
      "|  D|   DANIEL|          90|\n",
      "|  E|    ERICA|          90|\n",
      "|  F|FRANCISCO|         215|\n",
      "|  G|  GERARDO|          30|\n",
      "|  H| HERNANDO|          25|\n",
      "|  I|     INMA|          25|\n",
      "|  J|     JUAN|          20|\n",
      "+---+---------+------------+\n",
      "\n"
     ]
    }
   ],
   "source": [
    "spark = SparkSession.builder.appName('graphframes').getOrCreate()\n",
    "\n",
    "v = spark.createDataFrame([\n",
    "    (\"A\", \"ANA\" , 350 ),\n",
    "    (\"B\", \"BERTO\", 360 ),\n",
    "    (\"C\", \"CLARA\", 195 ),\n",
    "    (\"D\", \"DANIEL\", 90),\n",
    "    (\"E\", \"ERICA\", 90),\n",
    "    (\"F\", \"FRANCISCO\", 215 ),\n",
    "    (\"G\", \"GERARDO\", 30 ),\n",
    "    (\"H\", \"HERNANDO\", 25 ),\n",
    "    (\"I\", \"INMA\", 25 ),\n",
    "    (\"J\", \"JUAN\" , 20 )\n",
    "], [\"id\", \"name\", \"total_points\"])\n",
    "v.show()"
   ]
  },
  {
   "cell_type": "code",
   "execution_count": 10,
   "id": "6ecd9bbb-4c30-48f2-8c7c-25644edec7ce",
   "metadata": {},
   "outputs": [
    {
     "name": "stdout",
     "output_type": "stream",
     "text": [
      "+---+---+------------+\n",
      "|src|dst|relationship|\n",
      "+---+---+------------+\n",
      "|  A|  B|          60|\n",
      "|  B|  A|          60|\n",
      "|  A|  C|          50|\n",
      "|  D|  A|         100|\n",
      "|  A|  D|          80|\n",
      "|  C|  I|          25|\n",
      "|  C|  J|          20|\n",
      "|  B|  F|          50|\n",
      "|  F|  B|          60|\n",
      "|  F|  G|         110|\n",
      "|  F|  H|          25|\n",
      "|  B|  E|          90|\n",
      "+---+---+------------+\n",
      "\n"
     ]
    }
   ],
   "source": [
    "e = spark.createDataFrame([\n",
    "    (\"A\", \"B\" , 60),\n",
    "    (\"B\", \"A\", 60),\n",
    "    (\"A\", \"C\", 50),\n",
    "    (\"D\", \"A\", 100),\n",
    "    (\"A\", \"D\", 80),\n",
    "    (\"C\", \"I\", 25),\n",
    "    (\"C\", \"J\", 20),\n",
    "    (\"B\", \"F\", 50),\n",
    "    (\"F\", \"B\", 60),\n",
    "    (\"F\", \"G\" , 110),\n",
    "    (\"F\", \"H\", 25),\n",
    "    (\"B\", \"E\", 90),\n",
    "], [\"src\", \"dst\", \"relationship\"])\n",
    "e.show()"
   ]
  },
  {
   "cell_type": "code",
   "execution_count": 11,
   "id": "646643f0-2490-44e3-aad9-f9cdbae0d050",
   "metadata": {},
   "outputs": [
    {
     "name": "stderr",
     "output_type": "stream",
     "text": [
      "/usr/local/spark/python/pyspark/sql/dataframe.py:148: UserWarning: DataFrame.sql_ctx is an internal property, and will be removed in future releases. Use DataFrame.sparkSession instead.\n",
      "  warnings.warn(\n"
     ]
    }
   ],
   "source": [
    "g = GraphFrame(v,e)"
   ]
  },
  {
   "cell_type": "markdown",
   "id": "0e14fb79-f3ee-4387-a436-360f2634ba72",
   "metadata": {},
   "source": [
    "## Atributos básicos Graph:"
   ]
  },
  {
   "cell_type": "markdown",
   "id": "d77ba903-b51d-47ab-a3bd-94b6b329fdd2",
   "metadata": {},
   "source": [
    "* Definimos cual corresponde al vértice y cual a la arista:"
   ]
  },
  {
   "cell_type": "code",
   "execution_count": 12,
   "id": "2b673d65-7dee-435f-94f4-d05829efb984",
   "metadata": {},
   "outputs": [],
   "source": [
    "verticesDF = g.vertices\n",
    "edgesDF = g.edges"
   ]
  },
  {
   "cell_type": "code",
   "execution_count": 13,
   "id": "d208e067-960d-47a5-951f-682c732f2255",
   "metadata": {},
   "outputs": [
    {
     "name": "stdout",
     "output_type": "stream",
     "text": [
      "+---+---------+------------+\n",
      "| id|     name|total_points|\n",
      "+---+---------+------------+\n",
      "|  A|      ANA|         350|\n",
      "|  B|    BERTO|         360|\n",
      "|  C|    CLARA|         195|\n",
      "|  D|   DANIEL|          90|\n",
      "|  E|    ERICA|          90|\n",
      "|  F|FRANCISCO|         215|\n",
      "|  G|  GERARDO|          30|\n",
      "|  H| HERNANDO|          25|\n",
      "|  I|     INMA|          25|\n",
      "|  J|     JUAN|          20|\n",
      "+---+---------+------------+\n",
      "\n"
     ]
    }
   ],
   "source": [
    "verticesDF.show()"
   ]
  },
  {
   "cell_type": "code",
   "execution_count": 14,
   "id": "155ea2af-6a13-4210-9814-f5132ce34196",
   "metadata": {},
   "outputs": [
    {
     "name": "stdout",
     "output_type": "stream",
     "text": [
      "+---+---+------------+\n",
      "|src|dst|relationship|\n",
      "+---+---+------------+\n",
      "|  A|  B|          60|\n",
      "|  B|  A|          60|\n",
      "|  A|  C|          50|\n",
      "|  D|  A|         100|\n",
      "|  A|  D|          80|\n",
      "|  C|  I|          25|\n",
      "|  C|  J|          20|\n",
      "|  B|  F|          50|\n",
      "|  F|  B|          60|\n",
      "|  F|  G|         110|\n",
      "|  F|  H|          25|\n",
      "|  B|  E|          90|\n",
      "+---+---+------------+\n",
      "\n"
     ]
    }
   ],
   "source": [
    "edgesDF.show()"
   ]
  },
  {
   "cell_type": "markdown",
   "id": "5c0628a9-1902-41b6-9e21-eb0f23822d0a",
   "metadata": {},
   "source": [
    "* inDegrees, outDegrees y degrees:\n",
    "    * **inDegrees:** son las entradas del nodo\n",
    "    * **outDegrees:** son las salidas del nodo\n",
    "    * **degrees:** son todas las conexiones por nodo"
   ]
  },
  {
   "cell_type": "code",
   "execution_count": 15,
   "id": "dc7f9902-99b1-4719-80d9-9a4528f567a2",
   "metadata": {},
   "outputs": [
    {
     "name": "stderr",
     "output_type": "stream",
     "text": [
      "/usr/local/spark/python/pyspark/sql/dataframe.py:127: UserWarning: DataFrame constructor is internal. Do not directly use it.\n",
      "  warnings.warn(\"DataFrame constructor is internal. Do not directly use it.\")\n"
     ]
    }
   ],
   "source": [
    "inDegreesDF = g.inDegrees\n",
    "outDegreesDF = g.outDegrees\n",
    "degreesDF = g.degrees"
   ]
  },
  {
   "cell_type": "code",
   "execution_count": 16,
   "id": "66d53a1b-1654-4d65-900a-c1fc3d04b5ad",
   "metadata": {},
   "outputs": [
    {
     "name": "stdout",
     "output_type": "stream",
     "text": [
      "+---+--------+\n",
      "| id|inDegree|\n",
      "+---+--------+\n",
      "|  B|       2|\n",
      "|  A|       2|\n",
      "|  C|       1|\n",
      "|  D|       1|\n",
      "|  F|       1|\n",
      "|  E|       1|\n",
      "|  I|       1|\n",
      "|  J|       1|\n",
      "|  G|       1|\n",
      "|  H|       1|\n",
      "+---+--------+\n",
      "\n"
     ]
    }
   ],
   "source": [
    "inDegreesDF.sort(['inDegree'],ascending=[0]).show() # Sort and show "
   ]
  },
  {
   "cell_type": "code",
   "execution_count": 17,
   "id": "5735bf2d-ae8e-4bf4-ad46-bd1bb57a26ad",
   "metadata": {},
   "outputs": [
    {
     "name": "stdout",
     "output_type": "stream",
     "text": [
      "+---+---------+\n",
      "| id|outDegree|\n",
      "+---+---------+\n",
      "|  F|        3|\n",
      "|  A|        3|\n",
      "|  B|        3|\n",
      "|  C|        2|\n",
      "|  D|        1|\n",
      "+---+---------+\n",
      "\n"
     ]
    }
   ],
   "source": [
    "outDegreesDF.sort(['outDegree'],ascending=[0]).show() # Sort and show "
   ]
  },
  {
   "cell_type": "code",
   "execution_count": 18,
   "id": "7b7ed6f3-ccbb-418d-b2b8-52aae4fef86a",
   "metadata": {},
   "outputs": [
    {
     "name": "stdout",
     "output_type": "stream",
     "text": [
      "+---+------+\n",
      "| id|degree|\n",
      "+---+------+\n",
      "|  B|     5|\n",
      "|  C|     3|\n",
      "|  A|     5|\n",
      "|  D|     2|\n",
      "|  I|     1|\n",
      "|  F|     4|\n",
      "|  J|     1|\n",
      "|  E|     1|\n",
      "|  G|     1|\n",
      "|  H|     1|\n",
      "+---+------+\n",
      "\n"
     ]
    }
   ],
   "source": [
    "degreesDF.show() # Sort and show "
   ]
  },
  {
   "cell_type": "markdown",
   "id": "59d26e28-aa0f-455b-a9fa-b431f6bd70ac",
   "metadata": {},
   "source": [
    "## Estructura Graph"
   ]
  },
  {
   "cell_type": "markdown",
   "id": "0ad6012e-b09a-4aaa-8ef0-05c974284a92",
   "metadata": {},
   "source": [
    "* **PageRank:** Permite calcular los pesos para cada nodo o lo que es lo mismo asignar de forma numérica la relevancia de los nodos.    "
   ]
  },
  {
   "cell_type": "code",
   "execution_count": 19,
   "id": "85dc4a85-2854-4973-8b0e-1d342ec473b9",
   "metadata": {},
   "outputs": [
    {
     "name": "stdout",
     "output_type": "stream",
     "text": [
      "+---+---------+------------+------------------+\n",
      "| id|     name|total_points|          pagerank|\n",
      "+---+---------+------------+------------------+\n",
      "|  A|      ANA|         350|1.6755780131663474|\n",
      "|  B|    BERTO|         360|1.2302848386832057|\n",
      "|  D|   DANIEL|          90|  0.99894394905248|\n",
      "|  C|    CLARA|         195|  0.99894394905248|\n",
      "|  J|     JUAN|          20|0.9313848137403751|\n",
      "|  I|     INMA|          25|0.9313848137403751|\n",
      "|  E|    ERICA|          90|0.8612020763296273|\n",
      "|  F|FRANCISCO|         215|0.8612020763296273|\n",
      "|  G|  GERARDO|          30|0.7555377349527411|\n",
      "|  H| HERNANDO|          25|0.7555377349527411|\n",
      "+---+---------+------------+------------------+\n",
      "\n"
     ]
    }
   ],
   "source": [
    "PageRankResult = g.pageRank(resetProbability=0.15, tol=0.01)\n",
    "PageRankResult.vertices.sort([\"pageRank\"],ascending=[0]).show()"
   ]
  },
  {
   "cell_type": "code",
   "execution_count": 20,
   "id": "a9c422d1-0aaf-4d23-93a5-2445deb0b7a2",
   "metadata": {},
   "outputs": [
    {
     "name": "stdout",
     "output_type": "stream",
     "text": [
      "+---+---+------------+------------------+\n",
      "|src|dst|relationship|            weight|\n",
      "+---+---+------------+------------------+\n",
      "|  F|  B|          60|0.3333333333333333|\n",
      "|  F|  G|         110|0.3333333333333333|\n",
      "|  F|  H|          25|0.3333333333333333|\n",
      "|  B|  F|          50|0.3333333333333333|\n",
      "|  B|  E|          90|0.3333333333333333|\n",
      "|  B|  A|          60|0.3333333333333333|\n",
      "|  D|  A|         100|               1.0|\n",
      "|  C|  J|          20|               0.5|\n",
      "|  C|  I|          25|               0.5|\n",
      "|  A|  B|          60|0.3333333333333333|\n",
      "|  A|  D|          80|0.3333333333333333|\n",
      "|  A|  C|          50|0.3333333333333333|\n",
      "+---+---+------------+------------------+\n",
      "\n"
     ]
    }
   ],
   "source": [
    "PageRankResult.edges.show()"
   ]
  },
  {
   "cell_type": "markdown",
   "id": "dd371161-be31-442e-b837-740ffafb21e8",
   "metadata": {},
   "source": [
    "* **Label Propagation Algorithm (LPA):** Poder obtener la relación entre nodos obteniendo los grupos que lo forman, asignando una etiqueta a cada grupo."
   ]
  },
  {
   "cell_type": "code",
   "execution_count": 21,
   "id": "e17c8cf7-7d85-43ce-9354-1a4deba63f77",
   "metadata": {},
   "outputs": [
    {
     "name": "stdout",
     "output_type": "stream",
     "text": [
      "+---+---------+------------+-------------+\n",
      "| id|     name|total_points|        label|\n",
      "+---+---------+------------+-------------+\n",
      "|  C|    CLARA|         195|1391569403904|\n",
      "|  I|     INMA|          25| 764504178688|\n",
      "|  J|     JUAN|          20| 764504178688|\n",
      "|  F|FRANCISCO|         215| 420906795008|\n",
      "|  A|      ANA|         350| 420906795008|\n",
      "|  E|    ERICA|          90| 420906795008|\n",
      "|  B|    BERTO|         360| 171798691840|\n",
      "|  D|   DANIEL|          90| 171798691840|\n",
      "|  G|  GERARDO|          30| 171798691840|\n",
      "|  H| HERNANDO|          25| 171798691840|\n",
      "+---+---------+------------+-------------+\n",
      "\n"
     ]
    }
   ],
   "source": [
    "result = g.labelPropagation(maxIter=5)\n",
    "result.sort([\"label\"],ascending=[0]).show()"
   ]
  },
  {
   "cell_type": "markdown",
   "id": "4ee2f79e-e9ef-4af2-950a-7674b7ab1383",
   "metadata": {},
   "source": [
    "* **Connected Components:** Observar cuales la conexión entre los nodos, si hay nodos aislados o no."
   ]
  },
  {
   "cell_type": "code",
   "execution_count": 22,
   "id": "79466c9d-2afe-48d2-8647-7e647b7c968e",
   "metadata": {},
   "outputs": [
    {
     "name": "stdout",
     "output_type": "stream",
     "text": [
      "+---+---------+------------+------------+\n",
      "| id|     name|total_points|   component|\n",
      "+---+---------+------------+------------+\n",
      "|  A|      ANA|         350|171798691840|\n",
      "|  B|    BERTO|         360|171798691840|\n",
      "|  C|    CLARA|         195|171798691840|\n",
      "|  D|   DANIEL|          90|171798691840|\n",
      "|  E|    ERICA|          90|171798691840|\n",
      "|  F|FRANCISCO|         215|171798691840|\n",
      "|  G|  GERARDO|          30|171798691840|\n",
      "|  H| HERNANDO|          25|171798691840|\n",
      "|  I|     INMA|          25|171798691840|\n",
      "|  J|     JUAN|          20|171798691840|\n",
      "+---+---------+------------+------------+\n",
      "\n"
     ]
    }
   ],
   "source": [
    "sc.setCheckpointDir(\"graphframes_cps\")\n",
    "result = g.connectedComponents()\n",
    "result.show()"
   ]
  },
  {
   "cell_type": "markdown",
   "id": "10feda34-7b93-461e-8c21-6d38feab4338",
   "metadata": {},
   "source": [
    "* **Strongly Connected Components:** Ver que nodos están fuertemente conectados."
   ]
  },
  {
   "cell_type": "code",
   "execution_count": 23,
   "id": "d67c46b7-2757-44ae-948e-3a424ef66141",
   "metadata": {},
   "outputs": [
    {
     "name": "stdout",
     "output_type": "stream",
     "text": [
      "+---+---------+------------+-------------+\n",
      "| id|     name|total_points|    component|\n",
      "+---+---------+------------+-------------+\n",
      "|  F|FRANCISCO|         215| 171798691840|\n",
      "|  E|    ERICA|          90| 369367187456|\n",
      "|  B|    BERTO|         360| 171798691840|\n",
      "|  D|   DANIEL|          90| 171798691840|\n",
      "|  C|    CLARA|         195| 764504178688|\n",
      "|  J|     JUAN|          20| 807453851648|\n",
      "|  A|      ANA|         350| 171798691840|\n",
      "|  G|  GERARDO|          30|1168231104512|\n",
      "|  I|     INMA|          25|1391569403904|\n",
      "|  H| HERNANDO|          25|1683627180032|\n",
      "+---+---------+------------+-------------+\n",
      "\n"
     ]
    }
   ],
   "source": [
    "result = g.stronglyConnectedComponents(maxIter=10)\n",
    "result.show()"
   ]
  },
  {
   "cell_type": "markdown",
   "id": "17cbbd2b-d443-4ce9-96d3-0df07ea2c3bb",
   "metadata": {},
   "source": [
    "* **Triangle count:** Cuenta el número de triángulos para cada nodo en el gráfico y calcula el coeficiente de agrupamiento promedio para la red de nodos resultante. Un triángulo se define como tres nodos que están conectados por tres bordes (a-b, b-c, c-a)."
   ]
  },
  {
   "cell_type": "code",
   "execution_count": 24,
   "id": "8a529bca-d285-46f3-aa0c-25932930dc49",
   "metadata": {},
   "outputs": [
    {
     "name": "stdout",
     "output_type": "stream",
     "text": [
      "+-----+---+---------+------------+\n",
      "|count| id|     name|total_points|\n",
      "+-----+---+---------+------------+\n",
      "|    0|  B|    BERTO|         360|\n",
      "|    0|  A|      ANA|         350|\n",
      "|    0|  D|   DANIEL|          90|\n",
      "|    0|  C|    CLARA|         195|\n",
      "|    0|  F|FRANCISCO|         215|\n",
      "|    0|  E|    ERICA|          90|\n",
      "|    0|  J|     JUAN|          20|\n",
      "|    0|  G|  GERARDO|          30|\n",
      "|    0|  I|     INMA|          25|\n",
      "|    0|  H| HERNANDO|          25|\n",
      "+-----+---+---------+------------+\n",
      "\n"
     ]
    }
   ],
   "source": [
    "result = g.triangleCount()\n",
    "result.show()"
   ]
  },
  {
   "cell_type": "markdown",
   "id": "a72e9b50-c02d-4c98-b4da-4974214f85d3",
   "metadata": {},
   "source": [
    "No existe agrupamiento para ese ejemplo"
   ]
  },
  {
   "cell_type": "markdown",
   "id": "da7060d2-9849-4a9e-9b08-db647e2a1f4b",
   "metadata": {},
   "source": [
    "* **Shortest paths:** Calcula la ruta más corta (ponderada) entre un par de nodos."
   ]
  },
  {
   "cell_type": "code",
   "execution_count": 25,
   "id": "c67ae8f2-08d1-446c-a3bc-3941bbb59d93",
   "metadata": {},
   "outputs": [
    {
     "name": "stdout",
     "output_type": "stream",
     "text": [
      "+---+---------+------------+---------+\n",
      "| id|     name|total_points|distances|\n",
      "+---+---------+------------+---------+\n",
      "|  F|FRANCISCO|         215| {B -> 1}|\n",
      "|  E|    ERICA|          90|       {}|\n",
      "|  B|    BERTO|         360| {B -> 0}|\n",
      "|  D|   DANIEL|          90| {B -> 2}|\n",
      "|  C|    CLARA|         195|       {}|\n",
      "|  J|     JUAN|          20|       {}|\n",
      "|  A|      ANA|         350| {B -> 1}|\n",
      "|  G|  GERARDO|          30|       {}|\n",
      "|  I|     INMA|          25|       {}|\n",
      "|  H| HERNANDO|          25|       {}|\n",
      "+---+---------+------------+---------+\n",
      "\n"
     ]
    }
   ],
   "source": [
    "result = g.shortestPaths(landmarks=[\"B\"])\n",
    "result.show()"
   ]
  },
  {
   "cell_type": "markdown",
   "id": "f23ab7b7-97cf-4846-b5fc-08f750d3a28a",
   "metadata": {},
   "source": [
    "*  **Breadth-first search (BFS):** Recorrer el gráfico desde el nodo raíz y explora todos los nodos vecinos. Luego, selecciona el nodo más cercano y explora todos los nodos inexplorados. El algoritmo sigue el mismo proceso para cada uno de los nodos más cercanos hasta que encuentra el objetivo."
   ]
  },
  {
   "cell_type": "code",
   "execution_count": 26,
   "id": "a4268b5d-da5a-4120-a8d2-666ca138b323",
   "metadata": {},
   "outputs": [
    {
     "name": "stdout",
     "output_type": "stream",
     "text": [
      "+---------------+----------+-------------------+\n",
      "|           from|        e0|                 to|\n",
      "+---------------+----------+-------------------+\n",
      "|{B, BERTO, 360}|{B, F, 50}|{F, FRANCISCO, 215}|\n",
      "|{B, BERTO, 360}|{B, E, 90}|     {E, ERICA, 90}|\n",
      "+---------------+----------+-------------------+\n",
      "\n"
     ]
    }
   ],
   "source": [
    "paths = g.bfs(\"name='BERTO'\", \"total_points < 250\")\n",
    "paths.show()"
   ]
  },
  {
   "cell_type": "markdown",
   "id": "4da6c4d9-1957-4357-9ded-2f3ade76bca6",
   "metadata": {},
   "source": [
    "* **Subgraphs:** Selecciona los nodos que cumplen una serie de normas."
   ]
  },
  {
   "cell_type": "code",
   "execution_count": 27,
   "id": "90a50a4e-366b-4059-8005-410ae9251e67",
   "metadata": {},
   "outputs": [
    {
     "name": "stdout",
     "output_type": "stream",
     "text": [
      "+---+---------+------------+\n",
      "| id|     name|total_points|\n",
      "+---+---------+------------+\n",
      "|  B|    BERTO|         360|\n",
      "|  A|      ANA|         350|\n",
      "|  C|    CLARA|         195|\n",
      "|  F|FRANCISCO|         215|\n",
      "+---+---------+------------+\n",
      "\n"
     ]
    }
   ],
   "source": [
    "g2 = g.filterEdges(\"relationship = 50\").filterVertices(\"total_points > 30\").dropIsolatedVertices()\n",
    "g2.vertices.show()"
   ]
  },
  {
   "cell_type": "code",
   "execution_count": 28,
   "id": "12826bf9-0cd2-46aa-a396-9d9a58f149e5",
   "metadata": {},
   "outputs": [
    {
     "name": "stdout",
     "output_type": "stream",
     "text": [
      "+---+---+------------+\n",
      "|src|dst|relationship|\n",
      "+---+---+------------+\n",
      "|  A|  C|          50|\n",
      "|  B|  F|          50|\n",
      "+---+---+------------+\n",
      "\n"
     ]
    }
   ],
   "source": [
    "g2.edges.show()"
   ]
  },
  {
   "cell_type": "markdown",
   "id": "9bfe7a10-e42c-455c-90f7-f7a614a7784e",
   "metadata": {},
   "source": [
    "* **Motif finding:** Se conoce como coincidencia de patrones de gráficos. La coincidencia de patrones encuentra algún patrón dentro del gráfico. El patrón es una expresión que se usa para definir algunos vértices conectados."
   ]
  },
  {
   "cell_type": "code",
   "execution_count": 29,
   "id": "d35f7c59-5b07-4dc0-9e4f-81ef9821980e",
   "metadata": {},
   "outputs": [
    {
     "name": "stdout",
     "output_type": "stream",
     "text": [
      "+-------------------+-----------+-------------------+-----------+\n",
      "|                  a|          e|                  b|         e2|\n",
      "+-------------------+-----------+-------------------+-----------+\n",
      "|    {B, BERTO, 360}| {B, A, 60}|      {A, ANA, 350}| {A, B, 60}|\n",
      "|    {D, DANIEL, 90}|{D, A, 100}|      {A, ANA, 350}| {A, D, 80}|\n",
      "|      {A, ANA, 350}| {A, B, 60}|    {B, BERTO, 360}| {B, A, 60}|\n",
      "|{F, FRANCISCO, 215}| {F, B, 60}|    {B, BERTO, 360}| {B, F, 50}|\n",
      "|      {A, ANA, 350}| {A, D, 80}|    {D, DANIEL, 90}|{D, A, 100}|\n",
      "|    {B, BERTO, 360}| {B, F, 50}|{F, FRANCISCO, 215}| {F, B, 60}|\n",
      "+-------------------+-----------+-------------------+-----------+\n",
      "\n"
     ]
    }
   ],
   "source": [
    "motifs = g.find(\"(a)-[e]->(b); (b)-[e2]->(a)\")\n",
    "motifs.show()"
   ]
  },
  {
   "cell_type": "code",
   "execution_count": null,
   "id": "ac078cd1-fa34-4beb-ac4e-61a105edd8f0",
   "metadata": {},
   "outputs": [],
   "source": []
  },
  {
   "cell_type": "markdown",
   "id": "91a671d6-a444-43cb-ae4a-b6e68ab3ca29",
   "metadata": {},
   "source": [
    "*Creado por:*\n",
    "\n",
    "*Isabel Maniega*"
   ]
  },
  {
   "cell_type": "code",
   "execution_count": null,
   "id": "7c0508cc-2dba-47bb-a490-42f40ed2e173",
   "metadata": {},
   "outputs": [],
   "source": []
  }
 ],
 "metadata": {
  "kernelspec": {
   "display_name": "Python 3 (ipykernel)",
   "language": "python",
   "name": "python3"
  },
  "language_info": {
   "codemirror_mode": {
    "name": "ipython",
    "version": 3
   },
   "file_extension": ".py",
   "mimetype": "text/x-python",
   "name": "python",
   "nbconvert_exporter": "python",
   "pygments_lexer": "ipython3",
   "version": "3.10.6"
  }
 },
 "nbformat": 4,
 "nbformat_minor": 5
}
