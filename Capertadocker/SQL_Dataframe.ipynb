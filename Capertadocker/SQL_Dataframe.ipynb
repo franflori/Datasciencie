{
 "cells": [
  {
   "cell_type": "code",
   "execution_count": 1,
   "id": "2702aee1-dae6-40aa-b7f9-4367baaf7e79",
   "metadata": {},
   "outputs": [],
   "source": [
    "import pandas as pd\n",
    "import numpy as np\n",
    "import matplotlib.pyplot as plt\n",
    "from pyspark.sql import SparkSession"
   ]
  },
  {
   "cell_type": "code",
   "execution_count": 2,
   "id": "b63c7643-7399-45c8-bc6e-cf795e3b7a4c",
   "metadata": {},
   "outputs": [],
   "source": [
    "spark = SparkSession.builder.appName(\"PysparkExample\") \\\n",
    " .config(\"spark.some.config.option\", \"some-value\") \\\n",
    " .getOrCreate()\n"
   ]
  },
  {
   "cell_type": "code",
   "execution_count": 4,
   "id": "1993611a-0610-4cdf-83a3-d240e1713541",
   "metadata": {},
   "outputs": [
    {
     "data": {
      "text/plain": [
       "DataFrame[Quarter Ending: string, Department: string, UnitNo: int, Vendor Number: string, Vendor: string, City: string, State: string, DeptID Description: string, DeptID: string, Amount: string, Account: string, AcctNo: string, Fund Description: string, Fund: string]"
      ]
     },
     "execution_count": 4,
     "metadata": {},
     "output_type": "execute_result"
    }
   ],
   "source": [
    "df = spark.read.csv(\"Vermont_Vendor_Payments.csv\",\n",
    " header=\"true\", inferSchema=True)\n",
    "df"
   ]
  },
  {
   "cell_type": "code",
   "execution_count": 5,
   "id": "d4179bad-55ee-433a-82ee-6751ddd839e9",
   "metadata": {},
   "outputs": [
    {
     "data": {
      "text/plain": [
       "DataFrame[Quarter Ending: string, Department: string, UnitNo: int, Vendor Number: string, Vendor: string, City: string, State: string, DeptID Description: string, DeptID: string, Amount: double, Account: string, AcctNo: string, Fund Description: string, Fund: string]"
      ]
     },
     "execution_count": 5,
     "metadata": {},
     "output_type": "execute_result"
    }
   ],
   "source": [
    "# Modificamos la columna de amount a decimal:\n",
    "df = df.withColumn(\"Amount\", df[\"Amount\"].cast(\"double\"))\n",
    "df"
   ]
  },
  {
   "cell_type": "code",
   "execution_count": 6,
   "id": "a69488c1-5789-40fb-9dd5-15be20b82c21",
   "metadata": {},
   "outputs": [
    {
     "name": "stdout",
     "output_type": "stream",
     "text": [
      "The column Names are:\n",
      "Quarter Ending\n",
      "Department\n",
      "UnitNo\n",
      "Vendor Number\n",
      "Vendor\n",
      "City\n",
      "State\n",
      "DeptID Description\n",
      "DeptID\n",
      "Amount\n",
      "Account\n",
      "AcctNo\n",
      "Fund Description\n",
      "Fund\n"
     ]
    }
   ],
   "source": [
    "columns = df.columns\n",
    "print(\"The column Names are:\")\n",
    "for i in columns:\n",
    " print(i)\n"
   ]
  },
  {
   "cell_type": "code",
   "execution_count": 7,
   "id": "3fd655f1-7c34-4b6c-9864-7d00927ed008",
   "metadata": {},
   "outputs": [
    {
     "name": "stdout",
     "output_type": "stream",
     "text": [
      "The total number of rows is: 1988180 \n",
      "The total number columns is: 14\n"
     ]
    }
   ],
   "source": [
    "print(\"The total number of rows is:\", df.count(),\n",
    " \"\\nThe total number columns is:\", len(df.columns))\n"
   ]
  },
  {
   "cell_type": "code",
   "execution_count": 8,
   "id": "7d566351-302a-413a-9c70-682ca019a87d",
   "metadata": {},
   "outputs": [
    {
     "name": "stdout",
     "output_type": "stream",
     "text": [
      "+--------------+--------------------+------+-------------+--------------------+-----------+-----+-------------------+----------+------+--------------------+------+--------------------+-----+\n",
      "|Quarter Ending|          Department|UnitNo|Vendor Number|              Vendor|       City|State| DeptID Description|    DeptID|Amount|             Account|AcctNo|    Fund Description| Fund|\n",
      "+--------------+--------------------+------+-------------+--------------------+-----------+-----+-------------------+----------+------+--------------------+------+--------------------+-----+\n",
      "|    12/31/2019|Vt Housing & Cons...|  9150|   0000002188|Vermont Housing &...| Montpelier|   VT|              Trust|9150120000|  null|Transfer Out - Co...|720010|Housing & Conserv...|90610|\n",
      "|    12/31/2019|Vt Housing & Cons...|  9150|   0000375660|Wagner Developmen...|Brattleboro|   VT|            VT REDI|9150293000|  null|Other Direct Gran...|552990|Housing & Conserv...|90610|\n",
      "|    12/31/2019|Vt Housing & Cons...|  9150|   0000043371|Vermont Land Trus...| Montpelier|   VT|              Trust|9150120000|  null|Other Direct Gran...|552990|Housing & Conserv...|90610|\n",
      "|    12/31/2019|Vt Housing & Cons...|  9150|   0000042844|University of Ver...| Burlington|   VT|Farm Viability-VHCB|9150255000|  null|Other Direct Gran...|552990|Housing & Conserv...|90610|\n",
      "|    12/31/2019|Vt Housing & Cons...|  9150|   0000160536|Lahar Stephanie &...| Montpelier|   VT|Farm Viability-VHCB|9150255000|  null|Other Direct Gran...|552990|Housing & Conserv...|90610|\n",
      "+--------------+--------------------+------+-------------+--------------------+-----------+-----+-------------------+----------+------+--------------------+------+--------------------+-----+\n",
      "only showing top 5 rows\n",
      "\n"
     ]
    }
   ],
   "source": [
    "\n",
    "# Visualización de las primeras filas del df:\n",
    "df.show(5)\n"
   ]
  },
  {
   "cell_type": "code",
   "execution_count": 9,
   "id": "e9d31475-6163-40d6-89c4-8f083ea26b2e",
   "metadata": {},
   "outputs": [
    {
     "data": {
      "text/plain": [
       "Row(Quarter Ending='12/31/2019', Department='Vt Housing & Conserv Board', UnitNo=9150, Vendor Number='0000002188', Vendor='Vermont Housing & Conservation Board', City='Montpelier', State='VT', DeptID Description='Trust', DeptID='9150120000', Amount=None, Account='Transfer Out - Component Units', AcctNo='720010', Fund Description='Housing & Conserv Trust Fund', Fund='90610')"
      ]
     },
     "execution_count": 9,
     "metadata": {},
     "output_type": "execute_result"
    }
   ],
   "source": [
    "# Con head nos muestra la primera línea:\n",
    "df.head()"
   ]
  },
  {
   "cell_type": "code",
   "execution_count": 10,
   "id": "63b465c7-402b-45b3-b68f-470a0e1b61ce",
   "metadata": {},
   "outputs": [
    {
     "name": "stdout",
     "output_type": "stream",
     "text": [
      "+-------+--------------+--------------------+------------------+------------------+--------------------+--------+------------------+------------------+--------------------+--------------------+--------------------+------------------+--------------------+--------------------+\n",
      "|summary|Quarter Ending|          Department|            UnitNo|     Vendor Number|              Vendor|    City|             State|DeptID Description|              DeptID|              Amount|             Account|            AcctNo|    Fund Description|                Fund|\n",
      "+-------+--------------+--------------------+------------------+------------------+--------------------+--------+------------------+------------------+--------------------+--------------------+--------------------+------------------+--------------------+--------------------+\n",
      "|  count|       1988180|             1988180|           1988180|           1988180|             1988180| 1242358|           1988132|           1987643|             1988180|             1267132|             1988180|           1988180|             1988178|             1988179|\n",
      "|   mean|          null|                null| 4108.122305324468|110894.54159101163|                null|     0.0|1.1111111111111112|              null|4.1097432119440317E9|   220267.9300443111|  7.63573317413124E8|  532765.713226481|    517470.656779661|   26431.31710903325|\n",
      "| stddev|          null|                null|2353.9594097391982|126419.09672650705|                null|     0.0| 9.094583156256787|              null|2.3531816161545434E9|1.6706487033236422E7| 5.510452102511518E8|30009.334672183704|   4455.600803960305|   19532.78446798458|\n",
      "|    min|    03/31/2010|AOT Proprietary F...|              1100|        0000000002|\"Jewett,Martin A ...|       0|                 0|         \"\"\"Admin.|              CCV\"\"\"|              -998.0|             -246.45|           -294.00|              507200|               10000|\n",
      "|    max|    12/31/2021|  Women's Commission|              9150|            SINGLE|           xAd, Inc.|w Berlin|                ZZ|     Youth at Risk|                 Seg|           6.10001E9|Youth Development...|       Water/Sewer|Youth Substance A...|Facilities Operat...|\n",
      "+-------+--------------+--------------------+------------------+------------------+--------------------+--------+------------------+------------------+--------------------+--------------------+--------------------+------------------+--------------------+--------------------+\n",
      "\n"
     ]
    }
   ],
   "source": [
    "\n",
    "df.describe().show()\n"
   ]
  },
  {
   "cell_type": "markdown",
   "id": "53a406c9-3057-4dfd-bf80-5c36a9cb9ff1",
   "metadata": {},
   "source": [
    "**Mostrar información**"
   ]
  },
  {
   "cell_type": "markdown",
   "id": "824d4fd4-8054-43f0-8ef9-e685c0fc7469",
   "metadata": {},
   "source": [
    "    SQL\n"
   ]
  },
  {
   "cell_type": "code",
   "execution_count": 11,
   "id": "56bad56e-3bc6-4c70-9592-8273f6dfa2ed",
   "metadata": {},
   "outputs": [
    {
     "name": "stdout",
     "output_type": "stream",
     "text": [
      "+--------------+--------------------+------+-----+\n",
      "|Quarter Ending|          Department|Amount|State|\n",
      "+--------------+--------------------+------+-----+\n",
      "|    12/31/2019|Vt Housing & Cons...|  null|   VT|\n",
      "|    12/31/2019|Vt Housing & Cons...|  null|   VT|\n",
      "|    12/31/2019|Vt Housing & Cons...|  null|   VT|\n",
      "|    12/31/2019|Vt Housing & Cons...|  null|   VT|\n",
      "|    12/31/2019|Vt Housing & Cons...|  null|   VT|\n",
      "|    12/31/2019|Vt Housing & Cons...|  null|   VT|\n",
      "|    12/31/2019|Vt Housing & Cons...|  null|   VT|\n",
      "|    12/31/2019|Vt Housing & Cons...|  null|   VT|\n",
      "|    12/31/2019|Vt Housing & Cons...|  null|   VT|\n",
      "|    12/31/2019|Vt Housing & Cons...|  null|   VT|\n",
      "+--------------+--------------------+------+-----+\n",
      "\n"
     ]
    }
   ],
   "source": [
    "df.createOrReplaceTempView(\"VermontVendor\")\n",
    "spark.sql(\n",
    "'''\n",
    "SELECT `Quarter Ending`, Department, Amount, State FROM VermontVendor\n",
    "LIMIT 10\n",
    "'''\n",
    ").show()"
   ]
  },
  {
   "cell_type": "markdown",
   "id": "6bae65fc-9d97-4b7b-8a7c-ef7d2f52c132",
   "metadata": {},
   "source": [
    "    Spark\n"
   ]
  },
  {
   "cell_type": "code",
   "execution_count": 13,
   "id": "45206697-8550-4990-907f-a145dbadbedf",
   "metadata": {},
   "outputs": [
    {
     "name": "stdout",
     "output_type": "stream",
     "text": [
      "+--------------+--------------------+------+-----+\n",
      "|Quarter Ending|          Department|Amount|State|\n",
      "+--------------+--------------------+------+-----+\n",
      "|    12/31/2019|Vt Housing & Cons...|  null|   VT|\n",
      "|    12/31/2019|Vt Housing & Cons...|  null|   VT|\n",
      "|    12/31/2019|Vt Housing & Cons...|  null|   VT|\n",
      "|    12/31/2019|Vt Housing & Cons...|  null|   VT|\n",
      "|    12/31/2019|Vt Housing & Cons...|  null|   VT|\n",
      "|    12/31/2019|Vt Housing & Cons...|  null|   VT|\n",
      "|    12/31/2019|Vt Housing & Cons...|  null|   VT|\n",
      "|    12/31/2019|Vt Housing & Cons...|  null|   VT|\n",
      "|    12/31/2019|Vt Housing & Cons...|  null|   VT|\n",
      "|    12/31/2019|Vt Housing & Cons...|  null|   VT|\n",
      "+--------------+--------------------+------+-----+\n",
      "only showing top 10 rows\n",
      "\n"
     ]
    }
   ],
   "source": [
    "df.select(\"Quarter Ending\", \"Department\", \"Amount\", \"State\").show(10)\n"
   ]
  },
  {
   "cell_type": "markdown",
   "id": "3c832ba9-9a45-467a-bda3-6675b8462156",
   "metadata": {},
   "source": [
    "## 2º Ejemplo ##"
   ]
  },
  {
   "cell_type": "code",
   "execution_count": 14,
   "id": "ce4eda69-d392-4712-8428-c7cebaf20ea3",
   "metadata": {},
   "outputs": [
    {
     "name": "stdout",
     "output_type": "stream",
     "text": [
      "+--------------+----------+------+-----+\n",
      "|Quarter Ending|Department|Amount|State|\n",
      "+--------------+----------+------+-----+\n",
      "|    12/31/2012| Education|302.12|   VT|\n",
      "|    12/31/2012| Education|  null|   VT|\n",
      "|    12/31/2012| Education|  null|   VT|\n",
      "|    12/31/2012| Education|  null|   VT|\n",
      "|    12/31/2012| Education|  null|   VT|\n",
      "|    12/31/2012| Education|  null|   VT|\n",
      "|    12/31/2012| Education| 646.5|   VT|\n",
      "|    12/31/2012| Education|  29.9|   VT|\n",
      "|    12/31/2012| Education|  null|   VT|\n",
      "|    12/31/2012| Education|  null|   VT|\n",
      "+--------------+----------+------+-----+\n",
      "\n"
     ]
    }
   ],
   "source": [
    "spark.sql(\n",
    "'''\n",
    "SELECT `Quarter Ending`, Department, Amount, State FROM VermontVendor\n",
    "WHERE Department = 'Education'\n",
    "LIMIT 10\n",
    "'''\n",
    ").show()\n"
   ]
  },
  {
   "cell_type": "code",
   "execution_count": 15,
   "id": "444c1016-ff82-46a6-8211-2b45a0363851",
   "metadata": {},
   "outputs": [
    {
     "name": "stdout",
     "output_type": "stream",
     "text": [
      "+--------------+----------+------+-----+\n",
      "|Quarter Ending|Department|Amount|State|\n",
      "+--------------+----------+------+-----+\n",
      "|    12/31/2012| Education|302.12|   VT|\n",
      "|    12/31/2012| Education|  null|   VT|\n",
      "|    12/31/2012| Education|  null|   VT|\n",
      "|    12/31/2012| Education|  null|   VT|\n",
      "|    12/31/2012| Education|  null|   VT|\n",
      "|    12/31/2012| Education|  null|   VT|\n",
      "|    12/31/2012| Education| 646.5|   VT|\n",
      "|    12/31/2012| Education|  29.9|   VT|\n",
      "|    12/31/2012| Education|  null|   VT|\n",
      "|    12/31/2012| Education|  null|   VT|\n",
      "+--------------+----------+------+-----+\n",
      "only showing top 10 rows\n",
      "\n"
     ]
    }
   ],
   "source": [
    "df.select(\"Quarter Ending\", \"Department\", \"Amount\", \"State\") \\\n",
    " .filter(df[\"Department\"] == \"Education\").show(10)"
   ]
  },
  {
   "cell_type": "markdown",
   "id": "7861297c-8364-4868-9440-9eea576cf6c2",
   "metadata": {},
   "source": [
    "## Visualización ##\n"
   ]
  },
  {
   "cell_type": "code",
   "execution_count": 16,
   "id": "57ca9317-2cdd-4d83-b925-0a32ba0036d9",
   "metadata": {},
   "outputs": [
    {
     "data": {
      "text/html": [
       "<div>\n",
       "<style scoped>\n",
       "    .dataframe tbody tr th:only-of-type {\n",
       "        vertical-align: middle;\n",
       "    }\n",
       "\n",
       "    .dataframe tbody tr th {\n",
       "        vertical-align: top;\n",
       "    }\n",
       "\n",
       "    .dataframe thead th {\n",
       "        text-align: right;\n",
       "    }\n",
       "</style>\n",
       "<table border=\"1\" class=\"dataframe\">\n",
       "  <thead>\n",
       "    <tr style=\"text-align: right;\">\n",
       "      <th></th>\n",
       "      <th>Department</th>\n",
       "      <th>Total</th>\n",
       "    </tr>\n",
       "  </thead>\n",
       "  <tbody>\n",
       "    <tr>\n",
       "      <th>0</th>\n",
       "      <td>Buildings &amp; Gen Serv-Prop</td>\n",
       "      <td>2.727510e+11</td>\n",
       "    </tr>\n",
       "    <tr>\n",
       "      <th>1</th>\n",
       "      <td>Natural Res Central Office</td>\n",
       "      <td>6.100636e+09</td>\n",
       "    </tr>\n",
       "    <tr>\n",
       "      <th>2</th>\n",
       "      <td>Children and Families</td>\n",
       "      <td>2.763515e+07</td>\n",
       "    </tr>\n",
       "    <tr>\n",
       "      <th>3</th>\n",
       "      <td>Transportation Agency</td>\n",
       "      <td>1.841478e+07</td>\n",
       "    </tr>\n",
       "    <tr>\n",
       "      <th>4</th>\n",
       "      <td>Children and Family Services</td>\n",
       "      <td>1.713222e+07</td>\n",
       "    </tr>\n",
       "    <tr>\n",
       "      <th>5</th>\n",
       "      <td>Corrections</td>\n",
       "      <td>1.494189e+07</td>\n",
       "    </tr>\n",
       "    <tr>\n",
       "      <th>6</th>\n",
       "      <td>Judiciary</td>\n",
       "      <td>1.240615e+07</td>\n",
       "    </tr>\n",
       "    <tr>\n",
       "      <th>7</th>\n",
       "      <td>Health</td>\n",
       "      <td>1.126880e+07</td>\n",
       "    </tr>\n",
       "    <tr>\n",
       "      <th>8</th>\n",
       "      <td>Public Safety</td>\n",
       "      <td>1.119945e+07</td>\n",
       "    </tr>\n",
       "    <tr>\n",
       "      <th>9</th>\n",
       "      <td>Agency of Transportation</td>\n",
       "      <td>9.447466e+06</td>\n",
       "    </tr>\n",
       "  </tbody>\n",
       "</table>\n",
       "</div>"
      ],
      "text/plain": [
       "                     Department         Total\n",
       "0     Buildings & Gen Serv-Prop  2.727510e+11\n",
       "1    Natural Res Central Office  6.100636e+09\n",
       "2         Children and Families  2.763515e+07\n",
       "3         Transportation Agency  1.841478e+07\n",
       "4  Children and Family Services  1.713222e+07\n",
       "5                   Corrections  1.494189e+07\n",
       "6                     Judiciary  1.240615e+07\n",
       "7                        Health  1.126880e+07\n",
       "8                 Public Safety  1.119945e+07\n",
       "9      Agency of Transportation  9.447466e+06"
      ]
     },
     "execution_count": 16,
     "metadata": {},
     "output_type": "execute_result"
    }
   ],
   "source": [
    "plot_df = spark.sql(\n",
    "'''\n",
    "SELECT Department, SUM(Amount) as Total FROM VermontVendor\n",
    "GROUP BY Department\n",
    "ORDER BY Total DESC\n",
    "LIMIT 10\n",
    "'''\n",
    ").toPandas()\n",
    "plot_df\n"
   ]
  },
  {
   "cell_type": "code",
   "execution_count": 17,
   "id": "3dc78d5e-80e2-4e45-bf10-76683913bc01",
   "metadata": {},
   "outputs": [
    {
     "data": {
      "image/png": "[encoded data removed]",
      "text/plain": [
       "<Figure size 1000x600 with 1 Axes>"
      ]
     },
     "metadata": {},
     "output_type": "display_data"
    }
   ],
   "source": [
    "fig, ax = plt.subplots(1,1, figsize=(10,6))\n",
    "plot_df.plot(x='Department', y='Total',\n",
    " kind='barh', color='C0',\n",
    " ax=ax, legend=False)\n",
    "ax.set_xlabel(\"Department\", size=16)\n",
    "ax.set_ylabel(\"Total\", size=16)\n",
    "plt.savefig(\"barplot.png\")\n",
    "plt.show()\n"
   ]
  },
  {
   "cell_type": "code",
   "execution_count": 18,
   "id": "82ca9dd3-c4f9-4164-9524-e50ffc2e4f3b",
   "metadata": {},
   "outputs": [],
   "source": [
    "import seaborn as sns"
   ]
  },
  {
   "cell_type": "code",
   "execution_count": 19,
   "id": "7aad2583-bd8a-409f-aba3-1afa1e771416",
   "metadata": {},
   "outputs": [
    {
     "data": {
      "text/html": [
       "<div>\n",
       "<style scoped>\n",
       "    .dataframe tbody tr th:only-of-type {\n",
       "        vertical-align: middle;\n",
       "    }\n",
       "\n",
       "    .dataframe tbody tr th {\n",
       "        vertical-align: top;\n",
       "    }\n",
       "\n",
       "    .dataframe thead th {\n",
       "        text-align: right;\n",
       "    }\n",
       "</style>\n",
       "<table border=\"1\" class=\"dataframe\">\n",
       "  <thead>\n",
       "    <tr style=\"text-align: right;\">\n",
       "      <th></th>\n",
       "      <th>Department</th>\n",
       "      <th>Total</th>\n",
       "    </tr>\n",
       "  </thead>\n",
       "  <tbody>\n",
       "    <tr>\n",
       "      <th>0</th>\n",
       "      <td>Buildings &amp; Gen Serv-Prop</td>\n",
       "      <td>2.727510e+11</td>\n",
       "    </tr>\n",
       "    <tr>\n",
       "      <th>1</th>\n",
       "      <td>Natural Res Central Office</td>\n",
       "      <td>6.100636e+09</td>\n",
       "    </tr>\n",
       "    <tr>\n",
       "      <th>2</th>\n",
       "      <td>Children and Families</td>\n",
       "      <td>2.763515e+07</td>\n",
       "    </tr>\n",
       "    <tr>\n",
       "      <th>3</th>\n",
       "      <td>Transportation Agency</td>\n",
       "      <td>1.841478e+07</td>\n",
       "    </tr>\n",
       "    <tr>\n",
       "      <th>4</th>\n",
       "      <td>Children and Family Services</td>\n",
       "      <td>1.713222e+07</td>\n",
       "    </tr>\n",
       "    <tr>\n",
       "      <th>5</th>\n",
       "      <td>Corrections</td>\n",
       "      <td>1.494189e+07</td>\n",
       "    </tr>\n",
       "    <tr>\n",
       "      <th>6</th>\n",
       "      <td>Judiciary</td>\n",
       "      <td>1.240615e+07</td>\n",
       "    </tr>\n",
       "    <tr>\n",
       "      <th>7</th>\n",
       "      <td>Health</td>\n",
       "      <td>1.126880e+07</td>\n",
       "    </tr>\n",
       "    <tr>\n",
       "      <th>8</th>\n",
       "      <td>Public Safety</td>\n",
       "      <td>1.119945e+07</td>\n",
       "    </tr>\n",
       "    <tr>\n",
       "      <th>9</th>\n",
       "      <td>Agency of Transportation</td>\n",
       "      <td>9.447466e+06</td>\n",
       "    </tr>\n",
       "  </tbody>\n",
       "</table>\n",
       "</div>"
      ],
      "text/plain": [
       "                     Department         Total\n",
       "0     Buildings & Gen Serv-Prop  2.727510e+11\n",
       "1    Natural Res Central Office  6.100636e+09\n",
       "2         Children and Families  2.763515e+07\n",
       "3         Transportation Agency  1.841478e+07\n",
       "4  Children and Family Services  1.713222e+07\n",
       "5                   Corrections  1.494189e+07\n",
       "6                     Judiciary  1.240615e+07\n",
       "7                        Health  1.126880e+07\n",
       "8                 Public Safety  1.119945e+07\n",
       "9      Agency of Transportation  9.447466e+06"
      ]
     },
     "execution_count": 19,
     "metadata": {},
     "output_type": "execute_result"
    }
   ],
   "source": [
    "plot_df2 = spark.sql(\n",
    "'''\n",
    "SELECT Department, SUM(Amount) as Total FROM VermontVendor\n",
    "GROUP BY Department\n",
    "'''\n",
    ").toPandas()\n",
    "plot_df\n"
   ]
  },
  {
   "cell_type": "code",
   "execution_count": 20,
   "id": "0598f50e-6f14-4fbf-9100-8ee2f0aa6940",
   "metadata": {},
   "outputs": [
    {
     "name": "stderr",
     "output_type": "stream",
     "text": [
      "/tmp/ipykernel_212/2621704109.py:2: UserWarning: \n",
      "\n",
      "`distplot` is a deprecated function and will be removed in seaborn v0.14.0.\n",
      "\n",
      "Please adapt your code to use either `displot` (a figure-level function with\n",
      "similar flexibility) or `histplot` (an axes-level function for histograms).\n",
      "\n",
      "For a guide to updating your code to use the new functions, please see\n",
      "https://gist.github.com/mwaskom/de44147ed2974457ad6372750bbe5751\n",
      "\n",
      "  sns.distplot(np.log(plot_df2[\"Total\"]))\n"
     ]
    },
    {
     "data": {
      "image/png": "[encoded data removed]",
      "text/plain": [
       "<Figure size 1000x600 with 1 Axes>"
      ]
     },
     "metadata": {},
     "output_type": "display_data"
    }
   ],
   "source": [
    "\n",
    "plt.figure(figsize=(10,6))\n",
    "sns.distplot(np.log(plot_df2[\"Total\"]))\n",
    "plt.title(\"Histogram of LOG Totals for all Departments in Dataset\",\n",
    " size=16)\n",
    "plt.ylabel(\"Density\", size=16)\n",
    "plt.xlabel(\"Log Total\", size=16)\n",
    "plt.savefig(\"distplot.png\")\n",
    "plt.show()\n"
   ]
  },
  {
   "cell_type": "code",
   "execution_count": null,
   "id": "1d119d90-f025-4705-88f4-49f4a4fe13f9",
   "metadata": {},
   "outputs": [],
   "source": []
  }
 ],
 "metadata": {
  "kernelspec": {
   "display_name": "Python 3 (ipykernel)",
   "language": "python",
   "name": "python3"
  },
  "language_info": {
   "codemirror_mode": {
    "name": "ipython",
    "version": 3
   },
   "file_extension": ".py",
   "mimetype": "text/x-python",
   "name": "python",
   "nbconvert_exporter": "python",
   "pygments_lexer": "ipython3",
   "version": "3.10.6"
  }
 },
 "nbformat": 4,
 "nbformat_minor": 5
}
