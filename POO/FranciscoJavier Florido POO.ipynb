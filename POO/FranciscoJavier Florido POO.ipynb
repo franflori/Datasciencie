{
 "cells": [
  {
   "cell_type": "markdown",
   "id": "89558447",
   "metadata": {},
   "source": [
    "*Creado por:*\n",
    "\n",
    "*Isabel Maniega*"
   ]
  },
  {
   "cell_type": "markdown",
   "id": "1d6e52a5",
   "metadata": {},
   "source": [
    "# Ejercicio 1"
   ]
  },
  {
   "cell_type": "markdown",
   "id": "f9ff6a7f",
   "metadata": {},
   "source": [
    "* El ejercicio puntua un Máximo de 10 puntos.\n",
    "* Lea el ejercicio detenidamente y realice cada uno de los apartados.\n",
    "* En caso de duda puede consultar internet para su realización.\n",
    "\n",
    "    # Suerte!! 😊"
   ]
  },
  {
   "cell_type": "markdown",
   "id": "5b3646fe",
   "metadata": {},
   "source": [
    "Crea la clase Coche que contenga las siguientes propiedades:\n",
    "\n",
    "* matrícula (string)\n",
    "* marca (string)\n",
    "* kilometros_recorridos (float)\n",
    "* gasolina (float)\n",
    "\n",
    "La clase tendrá un método llamado avanzar() que recibirá como argumento el número de kilómetros a conducir y sumará los kilómetros recorridos al valor de la propiedad kilometros_recorridos. El método también restará al valor de gasolina el resultado de los kilómetros multiplicado por 0'1.\n",
    "\n",
    "La clase también contendrá otro método llamado repostar() que recibirá como argumento los litros introducidos que deberán sumarse a la variable gasolina.\n",
    "\n",
    "Por último, será necesario controlar que el método avanzar nunca obtendrá un número negativo en la gasolina. En dicho caso, deberá mostrar el siguiente mensaje: \"Es necesario repostar para recorrer la cantidad indicada de kilómetros\" y si está en 60 litros que indique: \"Depósito lleno {numero de litros de gasolina}!\"\n",
    "\n",
    "**(4 Ptos el platamiento)**\n",
    "\n",
    "Realiza **(1 pto cada una)**:\n",
    "\n",
    "avanzar(0) # kilometros_recorridos = 0, gasolina = 50.0\n",
    "\n",
    "avanzar(100) # kilometros_recorridos = 100, gasolina = 40\n",
    "\n",
    "avanzar(40) # kilometros_recorridos = 140, gasolina = 36\n",
    "\n",
    "avanzar(180) # kilometros_recorridos = 320, gasolina = 18\n",
    "\n",
    "avanzar(200) # Es necesario repostar para recorrer la cantidad indicada de kilómetros\n",
    "\n",
    "repostar(65) # 'Depósito lleno 63.0 litros!'"
   ]
  },
  {
   "cell_type": "code",
   "execution_count": 1,
   "id": "03b444e0",
   "metadata": {
    "scrolled": true
   },
   "outputs": [
    {
     "name": "stdout",
     "output_type": "stream",
     "text": [
      "El coche con martricula Ford , marca 1234PRT  con kilometraje  0.0 y deposito  50.0 \n",
      "kilometros_recorridos = 0.0, gasolina = 50.0\n",
      "kilometros_recorridos = 100.0, gasolina = 40.0\n",
      "kilometros_recorridos = 140.0, gasolina = 36.0\n",
      "kilometros_recorridos = 320.0, gasolina = 18.0\n",
      "Es necesario repostar para recorrer la cantidad indicada de kilómetros\n",
      "Depósito lleno 63.0!\n"
     ]
    }
   ],
   "source": [
    "class Coche:\n",
    "    #constructor de coche\n",
    "    def __init__(self, matricula, marca, kilometros_recorridos,gasolina):\n",
    "        self.matricula = matricula\n",
    "        self.marca = marca\n",
    "        self.kilometros_recorridos = kilometros_recorridos\n",
    "        self.gasolina = gasolina\n",
    "\n",
    "       \n",
    "    #Muestro los datos del coche\n",
    "    def __str__(self):\n",
    "        return f\"El coche con martricula {self.matricula} , marca {self.marca}  con kilometraje  {self.kilometros_recorridos} y deposito  {self.gasolina} \"\n",
    "    \n",
    "    def avanzar(self,km_recorrido):\n",
    "        cosumo=km_recorrido*0.1\n",
    "        self.gasolina-=cosumo\n",
    "        self.kilometros_recorridos+=km_recorrido\n",
    "        if self.gasolina >= cosumo:\n",
    "\n",
    "            return f\"kilometros_recorridos = {self.kilometros_recorridos}, gasolina = {self.gasolina}\"\n",
    "        else :\n",
    "\n",
    "            return \"Es necesario repostar para recorrer la cantidad indicada de kilómetros\"\n",
    "    \n",
    "    def repostar(self,litro):\n",
    "        self.gasolina+=litro\n",
    "        if self.gasolina>60:\n",
    "            return f\"Depósito lleno {self.gasolina}!\"\n",
    "        else:\n",
    "            return f\"Se han repostado {litro} litros\"\n",
    "            \n",
    "            \n",
    "\n",
    "coche=Coche (\"Ford\",\"1234PRT\",0.0,50.0)\n",
    "print(coche)\n",
    "print(coche.avanzar(0))\n",
    "print(coche.avanzar(100))\n",
    "print(coche.avanzar(40))\n",
    "print(coche.avanzar(180))\n",
    "print(coche.avanzar(200))\n",
    "print(coche.repostar(65))\n"
   ]
  },
  {
   "cell_type": "markdown",
   "id": "2adcc59b",
   "metadata": {},
   "source": [
    " # Ampliación ejercicio Creado con clase privadas"
   ]
  },
  {
   "cell_type": "markdown",
   "id": "e356d916",
   "metadata": {},
   "source": [
    "He creado  dos atributos privado no hay casi diferencia porque solo trabajomos con una clase\n",
    "y esto atributos no se modifican directamente"
   ]
  },
  {
   "cell_type": "code",
   "execution_count": 25,
   "id": "498d31d6",
   "metadata": {},
   "outputs": [
    {
     "name": "stdout",
     "output_type": "stream",
     "text": [
      "El coche con martricula Onda , marca 4321  con kilometraje  0.0 y deposito  50.0 \n",
      "kilometros_recorridos = 0.0, gasolina = 50.0\n",
      "kilometros_recorridos = 100.0, gasolina = 40.0\n",
      "kilometros_recorridos = 140.0, gasolina = 36.0\n",
      "kilometros_recorridos = 320.0, gasolina = 18.0\n",
      "Es necesario repostar para recorrer la cantidad indicada de kilómetros\n",
      "Depósito lleno 63.0!\n"
     ]
    }
   ],
   "source": [
    "class CochePrivado:\n",
    "    matricula=\"\"\n",
    "    marca=\"\"\n",
    "    _kilometros_recorridos=0.0\n",
    "    _gasolina=0.0\n",
    "    \n",
    "    #constructor de coche\n",
    "    def __init__(self, matricula, marca, kilometros_recorridos,gasolina):\n",
    "        self.matricula = matricula\n",
    "        self.marca = marca\n",
    "        self._kilometros_recorridos = kilometros_recorridos\n",
    "        self._gasolina = gasolina\n",
    "\n",
    "       \n",
    "    #Muestro los datos del coche\n",
    "    def __str__(self):\n",
    "        return f\"El coche con martricula {self.matricula} , marca {self.marca}  con kilometraje  {self._kilometros_recorridos} y deposito  {self._gasolina} \"\n",
    "    \n",
    "    def avanzar(self,km_recorrido):\n",
    "        cosumo=km_recorrido*0.1\n",
    "        self._gasolina-=cosumo\n",
    "        self._kilometros_recorridos+=km_recorrido\n",
    "        if self._gasolina >= cosumo:\n",
    "            return f\"kilometros_recorridos = {self._kilometros_recorridos}, gasolina = {self._gasolina}\"\n",
    "        else :\n",
    "           \n",
    "            return \"Es necesario repostar para recorrer la cantidad indicada de kilómetros\"\n",
    "    \n",
    "    def repostar(self,litro):\n",
    "        self._gasolina+=litro\n",
    "        if self._gasolina>60:\n",
    "            return f\"Depósito lleno {self._gasolina}!\"\n",
    "        else:\n",
    "            return f\"Se han repostado {litro} litros\"\n",
    "        \n",
    "        \n",
    "cochep=CochePrivado (\"Onda\",\"4321\",0.0,50.0)\n",
    "print(cochep)\n",
    "print(cochep.avanzar(0))\n",
    "print(cochep.avanzar(100))\n",
    "print(cochep.avanzar(40))\n",
    "print(cochep.avanzar(180))\n",
    "print(cochep.avanzar(200))\n",
    "print(cochep.repostar(65))\n",
    "\n",
    "            "
   ]
  },
  {
   "cell_type": "markdown",
   "id": "6979b81c",
   "metadata": {},
   "source": [
    "*Creado por:*\n",
    "\n",
    "*Isabel Maniega*"
   ]
  },
  {
   "cell_type": "code",
   "execution_count": null,
   "id": "53f2ae5c",
   "metadata": {},
   "outputs": [],
   "source": []
  }
 ],
 "metadata": {
  "hide_input": false,
  "kernelspec": {
   "display_name": "Python 3 (ipykernel)",
   "language": "python",
   "name": "python3"
  },
  "language_info": {
   "codemirror_mode": {
    "name": "ipython",
    "version": 3
   },
   "file_extension": ".py",
   "mimetype": "text/x-python",
   "name": "python",
   "nbconvert_exporter": "python",
   "pygments_lexer": "ipython3",
   "version": "3.8.10"
  }
 },
 "nbformat": 4,
 "nbformat_minor": 5
}
