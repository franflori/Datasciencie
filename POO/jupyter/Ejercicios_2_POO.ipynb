{
 "cells": [
  {
   "cell_type": "markdown",
   "id": "a26e304d",
   "metadata": {},
   "source": [
    "*Creado por:*\n",
    "    \n",
    "*Isabel Maniega*"
   ]
  },
  {
   "cell_type": "markdown",
   "id": "4ffc33ab",
   "metadata": {},
   "source": [
    "# Ejercicios"
   ]
  },
  {
   "cell_type": "markdown",
   "id": "80153748",
   "metadata": {},
   "source": [
    "**1)** Crearemos un nuevo tipo llamado NumeroComplejo. Este tipo tiene un atributo x para la coordenada en x e y para la coordenada en y. Representa un número complejo de la forma (x, y)."
   ]
  },
  {
   "cell_type": "code",
   "execution_count": 16,
   "id": "5f502f2f",
   "metadata": {},
   "outputs": [],
   "source": [
    "class NumeroComplejo:\n",
    "    def __init__(self,x,y):\n",
    "        self.x=x\n",
    "        self.y=y\n",
    "     \n",
    "    def imprimir(self):\n",
    "        print(f\"El numero x {self.x} y el numero y es {self.y}\")\n",
    "    \n",
    "    def __str__(self):\n",
    "       \n",
    "        return f\"El numero complejo es ({self.x},{self.y})\"\n",
    "    "
   ]
  },
  {
   "cell_type": "code",
   "execution_count": 19,
   "id": "03f85de8",
   "metadata": {},
   "outputs": [
    {
     "name": "stdout",
     "output_type": "stream",
     "text": [
      "5\n",
      "6\n",
      "El numero x 5 y el numero y es 6\n",
      "El numero complejo es (5,6)\n"
     ]
    }
   ],
   "source": [
    "numero=NumeroComplejo(5,6)\n",
    "print(numero.x)\n",
    "print(numero.y)\n",
    "numero.imprimir()\n",
    "print(numero)"
   ]
  },
  {
   "cell_type": "markdown",
   "id": "87f488c3",
   "metadata": {},
   "source": [
    "**2)** Ahora defina dentro de la clase NumeroComplejo un función imprimir donde muestre los valores de x e y."
   ]
  },
  {
   "cell_type": "markdown",
   "id": "cdcd92ba",
   "metadata": {},
   "source": [
    "**3)** Define la función __str__ para la clase NumeroComplejo para poder imprimir usando la función print."
   ]
  },
  {
   "cell_type": "markdown",
   "id": "a62f1161",
   "metadata": {},
   "source": [
    "**4)** definie una función que compara dos números complejos, ya que si dos objetos distintos tienen sus atributos iguales, no se consideran iguales."
   ]
  },
  {
   "cell_type": "code",
   "execution_count": 28,
   "id": "178873a6",
   "metadata": {},
   "outputs": [
    {
     "name": "stdout",
     "output_type": "stream",
     "text": [
      "El numero complejo es (5,6)\n",
      "El numero complejo es (5,6)\n",
      "True\n",
      "El numero complejo es (4,6)\n",
      "False\n"
     ]
    }
   ],
   "source": [
    "def comparar(num1,num2):\n",
    "    if num1.x==num2.x and num1.y==num2.y:\n",
    "        return True\n",
    "    return False\n",
    "    \n",
    "print(numero)\n",
    "\n",
    "numer2=NumeroComplejo(5,6)\n",
    "print(numer2)\n",
    "print(comparar(numero,numer2))\n",
    "\n",
    "num3=NumeroComplejo(4,6)\n",
    "\n",
    "print(num3)\n",
    "print(comparar(num3,numer2))\n"
   ]
  },
  {
   "cell_type": "markdown",
   "id": "d09ebf3a",
   "metadata": {},
   "source": [
    "**5)** Realiza un método que sume dos numeros complejos sin modificiar los objetos originales, ya que se retorna un nuevo numero NumeroComplejo."
   ]
  },
  {
   "cell_type": "code",
   "execution_count": 44,
   "id": "6192e1e1",
   "metadata": {},
   "outputs": [
    {
     "name": "stdout",
     "output_type": "stream",
     "text": [
      "El numero complejo es (9,12)\n",
      "El numero complejo es (5,6)\n",
      "El numero complejo es (4,6)\n"
     ]
    }
   ],
   "source": [
    "def suma( num1, num2):\n",
    "    return NumeroComplejo(num1.x+num2.x,num1.y+num2.y)\n",
    "\n",
    "numsuma=suma(numer2,num3)\n",
    "print(numsuma)\n",
    "print(numer2)\n",
    "print(num3)\n",
    "    "
   ]
  },
  {
   "cell_type": "markdown",
   "id": "d5d120d3",
   "metadata": {},
   "source": [
    "**6)** Crea una clase persona. Sus atributos deben ser su nombre y su edad. Además crea un método cumpleaños, que aumente en 1 la edad de la persona."
   ]
  },
  {
   "cell_type": "code",
   "execution_count": 45,
   "id": "7606d3ee",
   "metadata": {},
   "outputs": [],
   "source": [
    "class Persona:\n",
    "    def __init__(self,nombre,edad):\n",
    "        self.nombre=nombre\n",
    "        self.edad=edad\n",
    "    def cumpleaños(self):\n",
    "        self.edad+=1\n",
    "    \n",
    "    def __str__(self):\n",
    "        return f\"Datos persona ({self.nombre},{self.edad})\"\n",
    "    \n",
    "    \n",
    "    "
   ]
  },
  {
   "cell_type": "code",
   "execution_count": 46,
   "id": "cb230037",
   "metadata": {},
   "outputs": [
    {
     "name": "stdout",
     "output_type": "stream",
     "text": [
      "Datos persona (Juan,18)\n",
      "Datos persona (Juan,19)\n"
     ]
    }
   ],
   "source": [
    "persona=Persona(\"Juan\",18)\n",
    "print(persona)\n",
    "persona.cumpleaños()\n",
    "print(persona)\n"
   ]
  },
  {
   "cell_type": "markdown",
   "id": "b9ff1562",
   "metadata": {},
   "source": [
    "**7)** Para la clase anterior definir el método __str__. Debe retornar al menos el nombre de la persona."
   ]
  },
  {
   "cell_type": "markdown",
   "id": "30ae1f6a",
   "metadata": {},
   "source": [
    "**8)** Extender la clase persona agregando un atributo saldo y un método transferencia(self, persona2, monto). El saldo representa el dinero que tiene la persona. El método transferencia hace que la Persona que llama el método le transfiera la cantidad monto al objeto persona2. Si no tiene el dinero suficiente no se ejecuta la acción."
   ]
  },
  {
   "cell_type": "code",
   "execution_count": 41,
   "id": "e9ab2849",
   "metadata": {},
   "outputs": [],
   "source": [
    "class Persona:\n",
    "    def __init__(self,nombre,edad,saldo):\n",
    "        self.nombre=nombre\n",
    "        self.edad=edad\n",
    "        self.saldo=saldo\n",
    "    def cumpleaños(self):\n",
    "        self.edad+=1\n",
    "    \n",
    "    def __str__(self):\n",
    "        return f\"Datos persona ({self.nombre},{self.edad},{self.saldo})\"\n",
    "    \n",
    "    def transferencia(self,persona,monto):\n",
    "        if(self.saldo>monto):\n",
    "            self.saldo=self.saldo-monto\n",
    "            persona.saldo=persona.saldo+monto\n",
    "        else:\n",
    "            print(\"No tiene saldo suficioente\")\n",
    "    "
   ]
  },
  {
   "cell_type": "code",
   "execution_count": 43,
   "id": "0af19101",
   "metadata": {},
   "outputs": [
    {
     "name": "stdout",
     "output_type": "stream",
     "text": [
      "Datos persona (Juan,18,25)\n",
      "Datos persona (Luis,20,25)\n",
      "Datos persona (Juan,18,5)\n",
      "Datos persona (Luis,20,45)\n",
      "No tiene saldo suficioente\n",
      "Datos persona (Juan,18,5)\n",
      "Datos persona (Luis,20,45)\n"
     ]
    }
   ],
   "source": [
    "persona=Persona(\"Juan\",18,25)\n",
    "person2=Persona(\"Luis\",20,25)\n",
    "print(persona)\n",
    "print(person2)\n",
    "    \n",
    "persona.transferencia(person2,20)\n",
    "print(persona)\n",
    "print(person2)\n",
    "\n",
    "persona.transferencia(person2,20)\n",
    "print(persona)\n",
    "print(person2)\n"
   ]
  },
  {
   "cell_type": "markdown",
   "id": "515463c6",
   "metadata": {},
   "source": [
    "*Creado por:*\n",
    "\n",
    "*Isabel Maniega*"
   ]
  }
 ],
 "metadata": {
  "kernelspec": {
   "display_name": "Python 3 (ipykernel)",
   "language": "python",
   "name": "python3"
  },
  "language_info": {
   "codemirror_mode": {
    "name": "ipython",
    "version": 3
   },
   "file_extension": ".py",
   "mimetype": "text/x-python",
   "name": "python",
   "nbconvert_exporter": "python",
   "pygments_lexer": "ipython3",
   "version": "3.8.10"
  }
 },
 "nbformat": 4,
 "nbformat_minor": 5
}
