{
 "cells": [
  {
   "cell_type": "markdown",
   "id": "b4679b30",
   "metadata": {},
   "source": [
    "*Creado por:*\n",
    "\n",
    "*Isabel Maniega*"
   ]
  },
  {
   "cell_type": "code",
   "execution_count": 2,
   "id": "92207d4f",
   "metadata": {},
   "outputs": [],
   "source": [
    "from statistics import mean"
   ]
  },
  {
   "cell_type": "markdown",
   "id": "57d3e548",
   "metadata": {},
   "source": [
    "# Ejercicios"
   ]
  },
  {
   "cell_type": "markdown",
   "id": "dd300802",
   "metadata": {},
   "source": [
    "**1)** Crea el siguiente programa:\n",
    "* Una clase de nombre Librería\n",
    "* Inicia los siguientes atributos: nombre, sección, editorial y año\n",
    "* Crea una segunda clase con nombre Rosalia que herede la clase librería.\n",
    "* En esta clase Rosalia, crea una función \"result\" cuyo resultado sea los datos de los libros.\n",
    "* declara los Objetos siguientes:\n",
    "    * libro1 --> Oceanarium, Ciencia, Impedimenta, 2021\n",
    "    * libro2 --> 33 Botones, Novela negra, Atlantis, 2022\n",
    "    * libro3 --> Venganza en Compostela, Historia, Universo de letras, 2022"
   ]
  },
  {
   "cell_type": "code",
   "execution_count": 3,
   "id": "30bed25b",
   "metadata": {},
   "outputs": [
    {
     "name": "stdout",
     "output_type": "stream",
     "text": [
      "libro : Oceanarium Ciencia Impedimenta 2021\n",
      "libro :  33 Botones Novela negra Atlantis 2022\n",
      "libro : Venganza en Compostela Historia  Universo de letras 2022\n"
     ]
    }
   ],
   "source": [
    "class Librería:\n",
    "    def __init__(self, nombre,sección,editorial,año):\n",
    "        self.nombre=nombre\n",
    "        self.sección=sección\n",
    "        self.editorial=editorial\n",
    "        self.año=año\n",
    "        \n",
    "\n",
    "class Rosalia (Librería):\n",
    "    def result(self):\n",
    "        print (\"libro :\",self.nombre,self.sección,self.editorial,self.año)\n",
    "        \n",
    "\n",
    "libro1 = Rosalia(\"Oceanarium\", \"Ciencia\", \"Impedimenta\", 2021)\n",
    "libro1.result()\n",
    "\n",
    "\n",
    "libro2 = Rosalia(\" 33 Botones\", \"Novela negra\", \"Atlantis\", 2022)\n",
    "libro3 = Rosalia(\"Venganza en Compostela\", \"Historia\", \" Universo de letras\", 2022)\n",
    "libro2.result()\n",
    "libro3.result()"
   ]
  },
  {
   "cell_type": "markdown",
   "id": "839ac91e",
   "metadata": {},
   "source": [
    "**2)** Crea otra libraría de nombre MiLibro, que corresponde a una nueva clase, define una función de nombre misLibros, cuyo resultado sea los datos de los libros:\n",
    "* libro4 --> Mi primera Novela, Novela, Bruño, 2019\n",
    "* libro5 --> Gatos, Literatura, Listado, 2018"
   ]
  },
  {
   "cell_type": "code",
   "execution_count": 4,
   "id": "dd93444d",
   "metadata": {},
   "outputs": [
    {
     "name": "stdout",
     "output_type": "stream",
     "text": [
      "libro : Mi primera Novela Novela Bruño 2019\n",
      "libro : Gatos Literatura Listado 2018\n"
     ]
    }
   ],
   "source": [
    "class MiLibro (Librería):\n",
    "    def misLibros(self):\n",
    "        print (\"libro :\",self.nombre,self.sección,self.editorial,self.año)\n",
    "        \n",
    "libro4=MiLibro(\"Mi primera Novela\", \"Novela\", \"Bruño\", 2019)\n",
    "libro5=MiLibro(\"Gatos\", \"Literatura\", \"Listado\", 2018)     \n",
    "    \n",
    "libro4.misLibros()\n",
    "libro5.misLibros()"
   ]
  },
  {
   "cell_type": "markdown",
   "id": "9a6e14fa",
   "metadata": {},
   "source": [
    "* Realiza la media de los años de los libros 4 y 5"
   ]
  },
  {
   "cell_type": "code",
   "execution_count": 5,
   "id": "6e7fc82f",
   "metadata": {},
   "outputs": [
    {
     "data": {
      "text/plain": [
       "2018.5"
      ]
     },
     "execution_count": 5,
     "metadata": {},
     "output_type": "execute_result"
    }
   ],
   "source": [
    "mean([libro4.año,libro5.año])"
   ]
  },
  {
   "cell_type": "code",
   "execution_count": 6,
   "id": "1f339f58",
   "metadata": {},
   "outputs": [
    {
     "data": {
      "text/plain": [
       "2018.5"
      ]
     },
     "execution_count": 6,
     "metadata": {},
     "output_type": "execute_result"
    }
   ],
   "source": [
    "def media(lista):\n",
    "    return sum(lista)/len(lista)\n",
    "\n",
    "media([libro4.año,libro5.año])\n"
   ]
  },
  {
   "cell_type": "markdown",
   "id": "59ecc045",
   "metadata": {},
   "source": [
    "**3)** Crea una clase llamada Persona. Sus atributos son: nombre, edad y DNI. Construye los siguientes métodos para la clase:\n",
    "\n",
    "* Un constructor, donde los datos pueden estar vacíos.\n",
    "* mostrar(): Muestra los datos de la persona.\n",
    "* esMayorDeEdad(): Devuelve un valor indicando si es mayor de edad."
   ]
  },
  {
   "cell_type": "code",
   "execution_count": 7,
   "id": "6ac19e5f",
   "metadata": {},
   "outputs": [],
   "source": [
    "class Persona:\n",
    "    def __init__(self,nombre,edad,DNI):\n",
    "        self.nombre=nombre\n",
    "        self.edad=edad\n",
    "        self.DNI=DNI\n",
    "        \n",
    "    def mostrar(self):\n",
    "        return print (\"Datos\",self.nombre,self.edad,self.DNI)\n",
    "    def esMayorDeEdad(self):\n",
    "        if(self.edad>=18):\n",
    "            return True\n",
    "        return False"
   ]
  },
  {
   "cell_type": "code",
   "execution_count": 8,
   "id": "6649f53b",
   "metadata": {},
   "outputs": [
    {
     "name": "stdout",
     "output_type": "stream",
     "text": [
      "Datos Pepe 28 52012309120\n",
      "Es mayor de edad  Pepe\n",
      "Datos Juan 17 23012309120\n",
      "Es menor de edad  Juan\n"
     ]
    }
   ],
   "source": [
    "persona1=Persona(\"Pepe\",28,\"52012309120\")\n",
    "persona1.mostrar()\n",
    "if persona1.esMayorDeEdad():\n",
    "    print(\"Es mayor de edad \",persona1.nombre)\n",
    "else :\n",
    "    print(\"Es menor de edad \",persona1.nombre)\n",
    "    \n",
    "    \n",
    "Persona2=Persona(\"Juan\",17,\"23012309120\")\n",
    "Persona2.mostrar()\n",
    "if Persona2.esMayorDeEdad():\n",
    "    print(\"Es mayor de edad \",Persona2.nombre)\n",
    "else :\n",
    "    print(\"Es menor de edad \",Persona2.nombre)\n"
   ]
  },
  {
   "cell_type": "markdown",
   "id": "d3788c2c",
   "metadata": {},
   "source": [
    "**4)** Crea una clase llamada Cuenta que tendrá los siguientes atributos: titular (que es una persona) y cantidad (puede tener decimales). El titular será obligatorio y la cantidad es opcional. Construye los siguientes métodos para la clase:\n",
    "\n",
    "* Un constructor, donde los datos pueden estar vacíos.\n",
    "* El atributo no se puede modificar directamente, sólo ingresando o retirando dinero.\n",
    "* mostrar(): Muestra los datos de la cuenta.\n",
    "* ingresar(cantidad): se ingresa una cantidad a la cuenta, si la cantidad introducida es negativa, no se hará nada.\n",
    "* retirar(cantidad): se retira una cantidad a la cuenta. La cuenta puede estar en números rojos si es saldo negativo."
   ]
  },
  {
   "cell_type": "code",
   "execution_count": 68,
   "id": "2a58af13",
   "metadata": {},
   "outputs": [
    {
     "name": "stdout",
     "output_type": "stream",
     "text": [
      "Cliente : Pepep 53.23\n"
     ]
    }
   ],
   "source": [
    "class Cuenta:\n",
    "    titular =\"\"\n",
    "    cantidad=0.0\n",
    "    def __init__(self,titular,cantidad):\n",
    "        self.titular=titular\n",
    "        self.cantidad=cantidad\n",
    "    def mostrar(self):\n",
    "        print(\"Cliente :\",self.titular,self.cantidad)\n",
    "    def ingresar(self,ingreso):\n",
    "        if(ingreso>0):\n",
    "            self.cantidad+=ingreso\n",
    "        else :\n",
    "            return print( \"no se puede ingresar numero negativos\")\n",
    "    def retirar(self,ingreso):\n",
    "        self.cantidad-=ingreso\n",
    "        if (self.cantidad<0):\n",
    "            return print( \"Estas en número rojos\")\n",
    "    \n",
    "\n",
    "cliente1=Cuenta(\"Pepep\",53.23)\n",
    "cliente1.mostrar()\n",
    "        "
   ]
  },
  {
   "cell_type": "markdown",
   "id": "37fb9d43",
   "metadata": {},
   "source": [
    "* Ingresar en positivo"
   ]
  },
  {
   "cell_type": "code",
   "execution_count": 69,
   "id": "5646c801",
   "metadata": {},
   "outputs": [
    {
     "name": "stdout",
     "output_type": "stream",
     "text": [
      "Cliente : Pepep 73.22999999999999\n"
     ]
    }
   ],
   "source": [
    "cliente1.ingresar(20)\n",
    "cliente1.mostrar()"
   ]
  },
  {
   "cell_type": "markdown",
   "id": "529f6eed",
   "metadata": {},
   "source": [
    "* Ingresar en negativo"
   ]
  },
  {
   "cell_type": "code",
   "execution_count": 70,
   "id": "fbb37cc3",
   "metadata": {},
   "outputs": [
    {
     "name": "stdout",
     "output_type": "stream",
     "text": [
      "no se puede ingresar numero negativos\n",
      "Cliente : Pepep 73.22999999999999\n"
     ]
    }
   ],
   "source": [
    "cliente1.ingresar(-20120)\n",
    "cliente1.mostrar()"
   ]
  },
  {
   "cell_type": "markdown",
   "id": "ae7ed299",
   "metadata": {},
   "source": [
    "* Retirar dinero"
   ]
  },
  {
   "cell_type": "code",
   "execution_count": 71,
   "id": "e9978cd2",
   "metadata": {},
   "outputs": [
    {
     "name": "stdout",
     "output_type": "stream",
     "text": [
      "Cliente : Pepep 13.22999999999999\n"
     ]
    }
   ],
   "source": [
    "cliente1.retirar(60)\n",
    "cliente1.mostrar()"
   ]
  },
  {
   "cell_type": "markdown",
   "id": "8206e883",
   "metadata": {},
   "source": [
    "* Retirar dinero en numeros rojos"
   ]
  },
  {
   "cell_type": "code",
   "execution_count": 72,
   "id": "f13f976e",
   "metadata": {},
   "outputs": [
    {
     "name": "stdout",
     "output_type": "stream",
     "text": [
      "Estas en número rojos\n",
      "Cliente : Pepep -46.77000000000001\n"
     ]
    }
   ],
   "source": [
    "cliente1.retirar(60)\n",
    "cliente1.mostrar()"
   ]
  },
  {
   "cell_type": "markdown",
   "id": "eab30154",
   "metadata": {},
   "source": [
    "\n",
    "**5)** Vamos a definir ahora una “Cuenta Joven”, para ello vamos a crear una nueva clase CuantaJoven que deriva de la anterior. Cuando se crea esta nueva clase, además del titular y la cantidad se debe guardar una bonificación que estará expresada en tanto por ciento.Construye los siguientes métodos para la clase:\n",
    "\n",
    "* Un constructor.\n",
    "* En esta ocasión los titulares de este tipo de cuenta tienen que ser mayor de edad., por lo tanto hay que crear un método esTitularValido() que devuelve verdadero si el titular es mayor de edad pero menor de 25 años y falso en caso contrario.\n",
    "* Además la retirada de dinero sólo se podrá hacer si el titular es válido.\n",
    "* El método mostrar() debe devolver el mensaje de “Cuenta Joven” y la bonificación de la cuenta.\n",
    "* Piensa los métodos heredados de la clase madre que hay que reescribir."
   ]
  },
  {
   "cell_type": "markdown",
   "id": "01bc2acd",
   "metadata": {},
   "source": [
    "   def __init__(self,titular,cantidad,edad,bonificacion):\n",
    "        self.titular=titular\n",
    "        self.__cantidad=cantidad\n",
    "        self.edad=edad\n",
    "        self.bonificacion=bonificacion\n",
    "        "
   ]
  },
  {
   "cell_type": "code",
   "execution_count": 73,
   "id": "778a55ed",
   "metadata": {},
   "outputs": [],
   "source": [
    "class CuentaJoven (Cuenta):\n",
    "    \n",
    "    edad=\"\"\n",
    "    bonificacion=\"\"\n",
    "    def __init__(self,titular,cantidad,edad,bonificacion):\n",
    "        super().__init__(titular,cantidad)\n",
    "        self.edad=edad\n",
    "        self.bonificacion=bonificacion\n",
    "        \n",
    "        \n",
    "        \n",
    "        \n",
    "    def mostrar(self):\n",
    "        print(\"Cliente :\",self.titular,self.edad,self.bonificacion)\n",
    "    \n",
    "    def esTitulaValido(self):\n",
    "        if self.edad>=18 and self.edad<25:\n",
    "            return True\n",
    "        return False\n",
    "    def retirar(self,ingreso):\n",
    "        if(self.esTitulaValido()):\n",
    "            print(\"puede retirar\")\n",
    "            super().retirar(ingreso)\n",
    "        else:\n",
    "            return print (\"no puede retirar\")\n",
    "        \n",
    "            "
   ]
  },
  {
   "cell_type": "markdown",
   "id": "aea43be0",
   "metadata": {},
   "source": [
    "* Mayor de edad"
   ]
  },
  {
   "cell_type": "code",
   "execution_count": 78,
   "id": "e5be2768",
   "metadata": {},
   "outputs": [
    {
     "name": "stdout",
     "output_type": "stream",
     "text": [
      "Cliente : Pepep 22 22\n",
      "puede retirar\n",
      "Estas en número rojos\n",
      "Cliente : Pepep 22 22\n"
     ]
    }
   ],
   "source": [
    "cliente2=CuentaJoven(\"Pepep\",53.23,22,22)\n",
    "cliente2.mostrar()\n",
    "\n",
    "\n",
    "cliente2.retirar(100)\n",
    "cliente2.ingresar(20)\n",
    "cliente2.mostrar()\n"
   ]
  },
  {
   "cell_type": "code",
   "execution_count": 75,
   "id": "0d8565aa",
   "metadata": {},
   "outputs": [
    {
     "name": "stdout",
     "output_type": "stream",
     "text": [
      "Cliente : nene 10 22\n",
      "no puede retirar\n"
     ]
    }
   ],
   "source": [
    "cliente3=CuentaJoven(\"nene\",53.23,10,22)\n",
    "cliente3.mostrar()\n",
    "\n",
    "\n",
    "cliente3.retirar(23)"
   ]
  },
  {
   "cell_type": "markdown",
   "id": "e8047328",
   "metadata": {},
   "source": [
    "* Menor de edad"
   ]
  },
  {
   "cell_type": "markdown",
   "id": "0ec140b2",
   "metadata": {},
   "source": [
    "*Creado por:*\n",
    "\n",
    "*Isabel Maniega*"
   ]
  }
 ],
 "metadata": {
  "kernelspec": {
   "display_name": "Python 3 (ipykernel)",
   "language": "python",
   "name": "python3"
  },
  "language_info": {
   "codemirror_mode": {
    "name": "ipython",
    "version": 3
   },
   "file_extension": ".py",
   "mimetype": "text/x-python",
   "name": "python",
   "nbconvert_exporter": "python",
   "pygments_lexer": "ipython3",
   "version": "3.8.10"
  }
 },
 "nbformat": 4,
 "nbformat_minor": 5
}
